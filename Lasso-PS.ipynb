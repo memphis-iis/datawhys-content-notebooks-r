{
 "cells": [
  {
   "cell_type": "markdown",
   "metadata": {
    "deletable": false,
    "editable": false
   },
   "source": [
    "Copyright 2022 Andrew M. Olney and made available under [CC BY-SA](https://creativecommons.org/licenses/by-sa/4.0) for text and [Apache-2.0](http://www.apache.org/licenses/LICENSE-2.0) for code.\n"
   ]
  },
  {
   "cell_type": "markdown",
   "metadata": {},
   "source": [
    "# Ridge and Lasso Regression: Problem solving"
   ]
  },
  {
   "cell_type": "markdown",
   "metadata": {},
   "source": [
    "In this session, we'll use the `boston` dataset, which has been used to examine the relationship between clean air and house prices:\n",
    "\n",
    "\n",
    "| Variable | Type | Description |\n",
    "|:----|:-----|:----------|\n",
    "|crim | Ratio | per capita crime rate by town | \n",
    "|zn | Ratio | proportion of residential land zoned for lots over 25,000 sq. ft. | \n",
    "|indus | Ratio | proportion of non-retain business acres per town | \n",
    "|chas | Nominal (binary) | Charles River dummy variable (=1 if tract bounds river, =0 otherwise) | \n",
    "|nox | Ratio | nitrogen oxides concentration (parts per 10 million) | \n",
    "|rm | Ratio | average number of rooms per dwelling | \n",
    "|age | Ratio | proportion of owner-occupied units built prior to 1940 | \n",
    "|dis | Ratio | weighted mean of distances to five Boston employment centers | \n",
    "|rad | Ordinal | index of accessibility to radial highways | \n",
    "|tax | Ratio | full-value property tax rate per \\$10,000 | \n",
    "|ptratio | Ratio | pupil-teacher ratio by town | \n",
    "|lstat | Ratio | percent lower status of population (defined as non-high school graduate, manual labor) | \n",
    "|medv | Ratio | median value of owner-occupied homes in $1000s | \n",
    "\n",
    "<div style=\"text-align:center;font-size: smaller\">\n",
    "    <b>Source:</b> This dataset was taken from the StatLib library which is maintained at Carnegie Mellon University.\n",
    "</div>"
   ]
  },
  {
   "cell_type": "markdown",
   "metadata": {},
   "source": [
    "As before, we'll try to predict `medv` using the rest of the variables.\n",
    "\n",
    "**Because `medv` is a ratio variable, we will use linear regression not logistic regression.**"
   ]
  },
  {
   "cell_type": "markdown",
   "metadata": {},
   "source": [
    "## Load data\n",
    "\n",
    "Start by loading `readr` and `dplyr`."
   ]
  },
  {
   "cell_type": "code",
   "execution_count": 1,
   "metadata": {},
   "outputs": [
    {
     "name": "stderr",
     "output_type": "stream",
     "text": [
      "\n",
      "Attaching package: ‘dplyr’\n",
      "\n",
      "\n",
      "The following objects are masked from ‘package:stats’:\n",
      "\n",
      "    filter, lag\n",
      "\n",
      "\n",
      "The following objects are masked from ‘package:base’:\n",
      "\n",
      "    intersect, setdiff, setequal, union\n",
      "\n",
      "\n"
     ]
    }
   ],
   "source": [
    "library(readr)\n",
    "library(dplyr)\n",
    "\n",
    "#<xml xmlns=\"https://developers.google.com/blockly/xml\"><variables><variable id=\"_;PP-/]_2fNUR.dyhw(8\">readr</variable><variable id=\"`IEAx*Bh}E,Y}mK;jr;{\">dplyr</variable></variables><block type=\"import_R\" id=\"q]np1Ju|B`4k*R-zylwU\" x=\"44\" y=\"66\"><field name=\"libraryName\" id=\"_;PP-/]_2fNUR.dyhw(8\">readr</field><next><block type=\"import_R\" id=\"(%@0XC,((6M%4]kj+iDm\"><field name=\"libraryName\" id=\"`IEAx*Bh}E,Y}mK;jr;{\">dplyr</field></block></next></block></xml>"
   ]
  },
  {
   "cell_type": "markdown",
   "metadata": {},
   "source": [
    "Load the dataframe."
   ]
  },
  {
   "cell_type": "code",
   "execution_count": 2,
   "metadata": {},
   "outputs": [
    {
     "name": "stderr",
     "output_type": "stream",
     "text": [
      "\u001b[1mRows: \u001b[22m\u001b[34m506\u001b[39m \u001b[1mColumns: \u001b[22m\u001b[34m13\u001b[39m\n",
      "\u001b[36m──\u001b[39m \u001b[1mColumn specification\u001b[22m \u001b[36m────────────────────────────────────────────────────────\u001b[39m\n",
      "\u001b[1mDelimiter:\u001b[22m \",\"\n",
      "\u001b[32mdbl\u001b[39m (13): crim, zn, indus, chas, nox, rm, age, dis, rad, tax, ptratio, lstat...\n",
      "\n",
      "\u001b[36mℹ\u001b[39m Use `spec()` to retrieve the full column specification for this data.\n",
      "\u001b[36mℹ\u001b[39m Specify the column types or set `show_col_types = FALSE` to quiet this message.\n"
     ]
    },
    {
     "data": {
      "text/html": [
       "<table class=\"dataframe\">\n",
       "<caption>A spec_tbl_df: 506 × 13</caption>\n",
       "<thead>\n",
       "\t<tr><th scope=col>crim</th><th scope=col>zn</th><th scope=col>indus</th><th scope=col>chas</th><th scope=col>nox</th><th scope=col>rm</th><th scope=col>age</th><th scope=col>dis</th><th scope=col>rad</th><th scope=col>tax</th><th scope=col>ptratio</th><th scope=col>lstat</th><th scope=col>medv</th></tr>\n",
       "\t<tr><th scope=col>&lt;dbl&gt;</th><th scope=col>&lt;dbl&gt;</th><th scope=col>&lt;dbl&gt;</th><th scope=col>&lt;dbl&gt;</th><th scope=col>&lt;dbl&gt;</th><th scope=col>&lt;dbl&gt;</th><th scope=col>&lt;dbl&gt;</th><th scope=col>&lt;dbl&gt;</th><th scope=col>&lt;dbl&gt;</th><th scope=col>&lt;dbl&gt;</th><th scope=col>&lt;dbl&gt;</th><th scope=col>&lt;dbl&gt;</th><th scope=col>&lt;dbl&gt;</th></tr>\n",
       "</thead>\n",
       "<tbody>\n",
       "\t<tr><td>0.00632</td><td>18</td><td>2.31</td><td>0</td><td>0.538</td><td>6.575</td><td>65.2</td><td>4.0900</td><td>1</td><td>296</td><td>15.3</td><td>4.98</td><td>24.0</td></tr>\n",
       "\t<tr><td>0.02731</td><td> 0</td><td>7.07</td><td>0</td><td>0.469</td><td>6.421</td><td>78.9</td><td>4.9671</td><td>2</td><td>242</td><td>17.8</td><td>9.14</td><td>21.6</td></tr>\n",
       "\t<tr><td>0.02729</td><td> 0</td><td>7.07</td><td>0</td><td>0.469</td><td>7.185</td><td>61.1</td><td>4.9671</td><td>2</td><td>242</td><td>17.8</td><td>4.03</td><td>34.7</td></tr>\n",
       "\t<tr><td>0.03237</td><td> 0</td><td>2.18</td><td>0</td><td>0.458</td><td>6.998</td><td>45.8</td><td>6.0622</td><td>3</td><td>222</td><td>18.7</td><td>2.94</td><td>33.4</td></tr>\n",
       "\t<tr><td>0.06905</td><td> 0</td><td>2.18</td><td>0</td><td>0.458</td><td>7.147</td><td>54.2</td><td>6.0622</td><td>3</td><td>222</td><td>18.7</td><td>5.33</td><td>36.2</td></tr>\n",
       "\t<tr><td>⋮</td><td>⋮</td><td>⋮</td><td>⋮</td><td>⋮</td><td>⋮</td><td>⋮</td><td>⋮</td><td>⋮</td><td>⋮</td><td>⋮</td><td>⋮</td><td>⋮</td></tr>\n",
       "\t<tr><td>0.06263</td><td>0</td><td>11.93</td><td>0</td><td>0.573</td><td>6.593</td><td>69.1</td><td>2.4786</td><td>1</td><td>273</td><td>21</td><td>9.67</td><td>22.4</td></tr>\n",
       "\t<tr><td>0.04527</td><td>0</td><td>11.93</td><td>0</td><td>0.573</td><td>6.120</td><td>76.7</td><td>2.2875</td><td>1</td><td>273</td><td>21</td><td>9.08</td><td>20.6</td></tr>\n",
       "\t<tr><td>0.06076</td><td>0</td><td>11.93</td><td>0</td><td>0.573</td><td>6.976</td><td>91.0</td><td>2.1675</td><td>1</td><td>273</td><td>21</td><td>5.64</td><td>23.9</td></tr>\n",
       "\t<tr><td>0.10959</td><td>0</td><td>11.93</td><td>0</td><td>0.573</td><td>6.794</td><td>89.3</td><td>2.3889</td><td>1</td><td>273</td><td>21</td><td>6.48</td><td>22.0</td></tr>\n",
       "\t<tr><td>0.04741</td><td>0</td><td>11.93</td><td>0</td><td>0.573</td><td>6.030</td><td>80.8</td><td>2.5050</td><td>1</td><td>273</td><td>21</td><td>7.88</td><td>11.9</td></tr>\n",
       "</tbody>\n",
       "</table>\n"
      ],
      "text/latex": [
       "A spec\\_tbl\\_df: 506 × 13\n",
       "\\begin{tabular}{lllllllllllll}\n",
       " crim & zn & indus & chas & nox & rm & age & dis & rad & tax & ptratio & lstat & medv\\\\\n",
       " <dbl> & <dbl> & <dbl> & <dbl> & <dbl> & <dbl> & <dbl> & <dbl> & <dbl> & <dbl> & <dbl> & <dbl> & <dbl>\\\\\n",
       "\\hline\n",
       "\t 0.00632 & 18 & 2.31 & 0 & 0.538 & 6.575 & 65.2 & 4.0900 & 1 & 296 & 15.3 & 4.98 & 24.0\\\\\n",
       "\t 0.02731 &  0 & 7.07 & 0 & 0.469 & 6.421 & 78.9 & 4.9671 & 2 & 242 & 17.8 & 9.14 & 21.6\\\\\n",
       "\t 0.02729 &  0 & 7.07 & 0 & 0.469 & 7.185 & 61.1 & 4.9671 & 2 & 242 & 17.8 & 4.03 & 34.7\\\\\n",
       "\t 0.03237 &  0 & 2.18 & 0 & 0.458 & 6.998 & 45.8 & 6.0622 & 3 & 222 & 18.7 & 2.94 & 33.4\\\\\n",
       "\t 0.06905 &  0 & 2.18 & 0 & 0.458 & 7.147 & 54.2 & 6.0622 & 3 & 222 & 18.7 & 5.33 & 36.2\\\\\n",
       "\t ⋮ & ⋮ & ⋮ & ⋮ & ⋮ & ⋮ & ⋮ & ⋮ & ⋮ & ⋮ & ⋮ & ⋮ & ⋮\\\\\n",
       "\t 0.06263 & 0 & 11.93 & 0 & 0.573 & 6.593 & 69.1 & 2.4786 & 1 & 273 & 21 & 9.67 & 22.4\\\\\n",
       "\t 0.04527 & 0 & 11.93 & 0 & 0.573 & 6.120 & 76.7 & 2.2875 & 1 & 273 & 21 & 9.08 & 20.6\\\\\n",
       "\t 0.06076 & 0 & 11.93 & 0 & 0.573 & 6.976 & 91.0 & 2.1675 & 1 & 273 & 21 & 5.64 & 23.9\\\\\n",
       "\t 0.10959 & 0 & 11.93 & 0 & 0.573 & 6.794 & 89.3 & 2.3889 & 1 & 273 & 21 & 6.48 & 22.0\\\\\n",
       "\t 0.04741 & 0 & 11.93 & 0 & 0.573 & 6.030 & 80.8 & 2.5050 & 1 & 273 & 21 & 7.88 & 11.9\\\\\n",
       "\\end{tabular}\n"
      ],
      "text/markdown": [
       "\n",
       "A spec_tbl_df: 506 × 13\n",
       "\n",
       "| crim &lt;dbl&gt; | zn &lt;dbl&gt; | indus &lt;dbl&gt; | chas &lt;dbl&gt; | nox &lt;dbl&gt; | rm &lt;dbl&gt; | age &lt;dbl&gt; | dis &lt;dbl&gt; | rad &lt;dbl&gt; | tax &lt;dbl&gt; | ptratio &lt;dbl&gt; | lstat &lt;dbl&gt; | medv &lt;dbl&gt; |\n",
       "|---|---|---|---|---|---|---|---|---|---|---|---|---|\n",
       "| 0.00632 | 18 | 2.31 | 0 | 0.538 | 6.575 | 65.2 | 4.0900 | 1 | 296 | 15.3 | 4.98 | 24.0 |\n",
       "| 0.02731 |  0 | 7.07 | 0 | 0.469 | 6.421 | 78.9 | 4.9671 | 2 | 242 | 17.8 | 9.14 | 21.6 |\n",
       "| 0.02729 |  0 | 7.07 | 0 | 0.469 | 7.185 | 61.1 | 4.9671 | 2 | 242 | 17.8 | 4.03 | 34.7 |\n",
       "| 0.03237 |  0 | 2.18 | 0 | 0.458 | 6.998 | 45.8 | 6.0622 | 3 | 222 | 18.7 | 2.94 | 33.4 |\n",
       "| 0.06905 |  0 | 2.18 | 0 | 0.458 | 7.147 | 54.2 | 6.0622 | 3 | 222 | 18.7 | 5.33 | 36.2 |\n",
       "| ⋮ | ⋮ | ⋮ | ⋮ | ⋮ | ⋮ | ⋮ | ⋮ | ⋮ | ⋮ | ⋮ | ⋮ | ⋮ |\n",
       "| 0.06263 | 0 | 11.93 | 0 | 0.573 | 6.593 | 69.1 | 2.4786 | 1 | 273 | 21 | 9.67 | 22.4 |\n",
       "| 0.04527 | 0 | 11.93 | 0 | 0.573 | 6.120 | 76.7 | 2.2875 | 1 | 273 | 21 | 9.08 | 20.6 |\n",
       "| 0.06076 | 0 | 11.93 | 0 | 0.573 | 6.976 | 91.0 | 2.1675 | 1 | 273 | 21 | 5.64 | 23.9 |\n",
       "| 0.10959 | 0 | 11.93 | 0 | 0.573 | 6.794 | 89.3 | 2.3889 | 1 | 273 | 21 | 6.48 | 22.0 |\n",
       "| 0.04741 | 0 | 11.93 | 0 | 0.573 | 6.030 | 80.8 | 2.5050 | 1 | 273 | 21 | 7.88 | 11.9 |\n",
       "\n"
      ],
      "text/plain": [
       "    crim    zn indus chas nox   rm    age  dis    rad tax ptratio lstat medv\n",
       "1   0.00632 18 2.31  0    0.538 6.575 65.2 4.0900 1   296 15.3    4.98  24.0\n",
       "2   0.02731  0 7.07  0    0.469 6.421 78.9 4.9671 2   242 17.8    9.14  21.6\n",
       "3   0.02729  0 7.07  0    0.469 7.185 61.1 4.9671 2   242 17.8    4.03  34.7\n",
       "4   0.03237  0 2.18  0    0.458 6.998 45.8 6.0622 3   222 18.7    2.94  33.4\n",
       "5   0.06905  0 2.18  0    0.458 7.147 54.2 6.0622 3   222 18.7    5.33  36.2\n",
       "⋮   ⋮       ⋮  ⋮     ⋮    ⋮     ⋮     ⋮    ⋮      ⋮   ⋮   ⋮       ⋮     ⋮   \n",
       "502 0.06263 0  11.93 0    0.573 6.593 69.1 2.4786 1   273 21      9.67  22.4\n",
       "503 0.04527 0  11.93 0    0.573 6.120 76.7 2.2875 1   273 21      9.08  20.6\n",
       "504 0.06076 0  11.93 0    0.573 6.976 91.0 2.1675 1   273 21      5.64  23.9\n",
       "505 0.10959 0  11.93 0    0.573 6.794 89.3 2.3889 1   273 21      6.48  22.0\n",
       "506 0.04741 0  11.93 0    0.573 6.030 80.8 2.5050 1   273 21      7.88  11.9"
      ]
     },
     "metadata": {},
     "output_type": "display_data"
    }
   ],
   "source": [
    "dataframe = readr::read_csv(\"datasets/boston.csv\")\n",
    "\n",
    "dataframe\n",
    "\n",
    "#<xml xmlns=\"https://developers.google.com/blockly/xml\"><variables><variable id=\"(*,(U(rm+VG0+vg;w$65\">dataframe</variable><variable id=\"_;PP-/]_2fNUR.dyhw(8\">readr</variable></variables><block type=\"variables_set\" id=\"gM*jw`FfIR3)8=g0iEB7\" x=\"28\" y=\"220\"><field name=\"VAR\" id=\"(*,(U(rm+VG0+vg;w$65\">dataframe</field><value name=\"VALUE\"><block type=\"varDoMethod_R\" id=\",vaW{t?FHN1~E?+,h!w-\"><mutation items=\"1\"></mutation><field name=\"VAR\" id=\"_;PP-/]_2fNUR.dyhw(8\">readr</field><field name=\"MEMBER\">read_csv</field><data>readr:read_csv</data><value name=\"ADD0\"><block type=\"text\" id=\"dfrpI5b@DHr+DQ:|@vpv\"><field name=\"TEXT\">datasets/cancer.csv</field></block></value></block></value></block><block type=\"variables_get\" id=\"dn{+Q#DO%lN;G_tFGJ#B\" x=\"8\" y=\"304\"><field name=\"VAR\" id=\"(*,(U(rm+VG0+vg;w$65\">dataframe</field></block></xml>"
   ]
  },
  {
   "cell_type": "markdown",
   "metadata": {},
   "source": [
    "## Explore data\n",
    "\n",
    "Load `base`, `ggplot2`, `psych`, and `corrr` for exploring the data."
   ]
  },
  {
   "cell_type": "code",
   "execution_count": 3,
   "metadata": {},
   "outputs": [
    {
     "name": "stderr",
     "output_type": "stream",
     "text": [
      "Warning message:\n",
      "“package ‘ggplot2’ was built under R version 4.2.2”\n",
      "\n",
      "Attaching package: ‘psych’\n",
      "\n",
      "\n",
      "The following objects are masked from ‘package:ggplot2’:\n",
      "\n",
      "    %+%, alpha\n",
      "\n",
      "\n"
     ]
    }
   ],
   "source": [
    "library(corrr)\n",
    "library(base)\n",
    "library(ggplot2)\n",
    "library(psych)\n",
    "\n",
    "#<xml xmlns=\"https://developers.google.com/blockly/xml\"><variables><variable id=\":}mQPTQxRKZMh,T7NR$$\">corrr</variable><variable id=\"6C!l+@S8,SvtzakmsxQD\">base</variable><variable id=\"K2WB)HAgulDnN4.esuaK\">ggplot2</variable><variable id=\"-%rFagMkPz%VG@$q~ANP\">psych</variable></variables><block type=\"import_R\" id=\"fvM{-l%xz0![2.n:2Hoj\" x=\"-86\" y=\"-4\"><field name=\"libraryName\" id=\":}mQPTQxRKZMh,T7NR$$\">corrr</field><next><block type=\"import_R\" id=\"*VxvMC/-.UEwASPz(/;T\"><field name=\"libraryName\" id=\"6C!l+@S8,SvtzakmsxQD\">base</field><next><block type=\"import_R\" id=\"n?whQI8t]Qj6)k-ny|GN\"><field name=\"libraryName\" id=\"K2WB)HAgulDnN4.esuaK\">ggplot2</field><next><block type=\"import_R\" id=\"P-VMU%%i=n!?0`h3v|jE\"><field name=\"libraryName\" id=\"-%rFagMkPz%VG@$q~ANP\">psych</field></block></next></block></next></block></next></block></xml>"
   ]
  },
  {
   "cell_type": "markdown",
   "metadata": {},
   "source": [
    "### Descriptive statistics\n",
    "\n",
    "Describe the data."
   ]
  },
  {
   "cell_type": "code",
   "execution_count": 4,
   "metadata": {},
   "outputs": [
    {
     "data": {
      "text/html": [
       "<table class=\"dataframe\">\n",
       "<caption>A psych: 13 × 13</caption>\n",
       "<thead>\n",
       "\t<tr><th></th><th scope=col>vars</th><th scope=col>n</th><th scope=col>mean</th><th scope=col>sd</th><th scope=col>median</th><th scope=col>trimmed</th><th scope=col>mad</th><th scope=col>min</th><th scope=col>max</th><th scope=col>range</th><th scope=col>skew</th><th scope=col>kurtosis</th><th scope=col>se</th></tr>\n",
       "\t<tr><th></th><th scope=col>&lt;int&gt;</th><th scope=col>&lt;dbl&gt;</th><th scope=col>&lt;dbl&gt;</th><th scope=col>&lt;dbl&gt;</th><th scope=col>&lt;dbl&gt;</th><th scope=col>&lt;dbl&gt;</th><th scope=col>&lt;dbl&gt;</th><th scope=col>&lt;dbl&gt;</th><th scope=col>&lt;dbl&gt;</th><th scope=col>&lt;dbl&gt;</th><th scope=col>&lt;dbl&gt;</th><th scope=col>&lt;dbl&gt;</th><th scope=col>&lt;dbl&gt;</th></tr>\n",
       "</thead>\n",
       "<tbody>\n",
       "\t<tr><th scope=row>crim</th><td>1</td><td>506</td><td> 3.61352356</td><td> 8.6015451</td><td>0.25651</td><td> 1.6816300</td><td>0.3283218</td><td>0.00632</td><td> 88.9762</td><td> 88.96988</td><td>5.1922223</td><td>36.59581589</td><td>0.382385321</td></tr>\n",
       "\t<tr><th scope=row>zn</th><td>2</td><td>506</td><td>11.36363636</td><td>23.3224530</td><td>0.00000</td><td> 5.0800493</td><td>0.0000000</td><td>0.00000</td><td>100.0000</td><td>100.00000</td><td>2.2124881</td><td> 3.95238731</td><td>1.036809500</td></tr>\n",
       "\t<tr><th scope=row>indus</th><td>3</td><td>506</td><td>11.13677866</td><td> 6.8603529</td><td>9.69000</td><td>10.9318719</td><td>9.3700320</td><td>0.46000</td><td> 27.7400</td><td> 27.28000</td><td>0.2932747</td><td>-1.24019490</td><td>0.304979888</td></tr>\n",
       "\t<tr><th scope=row>chas</th><td>4</td><td>506</td><td> 0.06916996</td><td> 0.2539940</td><td>0.00000</td><td> 0.0000000</td><td>0.0000000</td><td>0.00000</td><td>  1.0000</td><td>  1.00000</td><td>3.3857377</td><td> 9.48197035</td><td>0.011291412</td></tr>\n",
       "\t<tr><th scope=row>nox</th><td>5</td><td>506</td><td> 0.55469506</td><td> 0.1158777</td><td>0.53800</td><td> 0.5450601</td><td>0.1297275</td><td>0.38500</td><td>  0.8710</td><td>  0.48600</td><td>0.7249897</td><td>-0.08741064</td><td>0.005151391</td></tr>\n",
       "\t<tr><th scope=row>⋮</th><td>⋮</td><td>⋮</td><td>⋮</td><td>⋮</td><td>⋮</td><td>⋮</td><td>⋮</td><td>⋮</td><td>⋮</td><td>⋮</td><td>⋮</td><td>⋮</td><td>⋮</td></tr>\n",
       "\t<tr><th scope=row>rad</th><td> 9</td><td>506</td><td>  9.549407</td><td>  8.707259</td><td>  5.00</td><td>  8.73399</td><td>  2.965200</td><td>  1.00</td><td> 24.00</td><td> 23.00</td><td> 0.9988651</td><td>-0.8789291</td><td>0.38708489</td></tr>\n",
       "\t<tr><th scope=row>tax</th><td>10</td><td>506</td><td>408.237154</td><td>168.537116</td><td>330.00</td><td>400.04433</td><td>108.229800</td><td>187.00</td><td>711.00</td><td>524.00</td><td> 0.6659891</td><td>-1.1503176</td><td>7.49238869</td></tr>\n",
       "\t<tr><th scope=row>ptratio</th><td>11</td><td>506</td><td> 18.455534</td><td>  2.164946</td><td> 19.05</td><td> 18.66256</td><td>  1.704990</td><td> 12.60</td><td> 22.00</td><td>  9.40</td><td>-0.7975743</td><td>-0.3048010</td><td>0.09624357</td></tr>\n",
       "\t<tr><th scope=row>lstat</th><td>12</td><td>506</td><td> 12.653063</td><td>  7.141062</td><td> 11.36</td><td> 11.89904</td><td>  7.109067</td><td>  1.73</td><td> 37.97</td><td> 36.24</td><td> 0.9010929</td><td> 0.4628171</td><td>0.31745891</td></tr>\n",
       "\t<tr><th scope=row>medv</th><td>13</td><td>506</td><td> 22.532806</td><td>  9.197104</td><td> 21.20</td><td> 21.56232</td><td>  5.930400</td><td>  5.00</td><td> 50.00</td><td> 45.00</td><td> 1.1015373</td><td> 1.4509837</td><td>0.40886115</td></tr>\n",
       "</tbody>\n",
       "</table>\n"
      ],
      "text/latex": [
       "A psych: 13 × 13\n",
       "\\begin{tabular}{r|lllllllllllll}\n",
       "  & vars & n & mean & sd & median & trimmed & mad & min & max & range & skew & kurtosis & se\\\\\n",
       "  & <int> & <dbl> & <dbl> & <dbl> & <dbl> & <dbl> & <dbl> & <dbl> & <dbl> & <dbl> & <dbl> & <dbl> & <dbl>\\\\\n",
       "\\hline\n",
       "\tcrim & 1 & 506 &  3.61352356 &  8.6015451 & 0.25651 &  1.6816300 & 0.3283218 & 0.00632 &  88.9762 &  88.96988 & 5.1922223 & 36.59581589 & 0.382385321\\\\\n",
       "\tzn & 2 & 506 & 11.36363636 & 23.3224530 & 0.00000 &  5.0800493 & 0.0000000 & 0.00000 & 100.0000 & 100.00000 & 2.2124881 &  3.95238731 & 1.036809500\\\\\n",
       "\tindus & 3 & 506 & 11.13677866 &  6.8603529 & 9.69000 & 10.9318719 & 9.3700320 & 0.46000 &  27.7400 &  27.28000 & 0.2932747 & -1.24019490 & 0.304979888\\\\\n",
       "\tchas & 4 & 506 &  0.06916996 &  0.2539940 & 0.00000 &  0.0000000 & 0.0000000 & 0.00000 &   1.0000 &   1.00000 & 3.3857377 &  9.48197035 & 0.011291412\\\\\n",
       "\tnox & 5 & 506 &  0.55469506 &  0.1158777 & 0.53800 &  0.5450601 & 0.1297275 & 0.38500 &   0.8710 &   0.48600 & 0.7249897 & -0.08741064 & 0.005151391\\\\\n",
       "\t⋮ & ⋮ & ⋮ & ⋮ & ⋮ & ⋮ & ⋮ & ⋮ & ⋮ & ⋮ & ⋮ & ⋮ & ⋮ & ⋮\\\\\n",
       "\trad &  9 & 506 &   9.549407 &   8.707259 &   5.00 &   8.73399 &   2.965200 &   1.00 &  24.00 &  23.00 &  0.9988651 & -0.8789291 & 0.38708489\\\\\n",
       "\ttax & 10 & 506 & 408.237154 & 168.537116 & 330.00 & 400.04433 & 108.229800 & 187.00 & 711.00 & 524.00 &  0.6659891 & -1.1503176 & 7.49238869\\\\\n",
       "\tptratio & 11 & 506 &  18.455534 &   2.164946 &  19.05 &  18.66256 &   1.704990 &  12.60 &  22.00 &   9.40 & -0.7975743 & -0.3048010 & 0.09624357\\\\\n",
       "\tlstat & 12 & 506 &  12.653063 &   7.141062 &  11.36 &  11.89904 &   7.109067 &   1.73 &  37.97 &  36.24 &  0.9010929 &  0.4628171 & 0.31745891\\\\\n",
       "\tmedv & 13 & 506 &  22.532806 &   9.197104 &  21.20 &  21.56232 &   5.930400 &   5.00 &  50.00 &  45.00 &  1.1015373 &  1.4509837 & 0.40886115\\\\\n",
       "\\end{tabular}\n"
      ],
      "text/markdown": [
       "\n",
       "A psych: 13 × 13\n",
       "\n",
       "| <!--/--> | vars &lt;int&gt; | n &lt;dbl&gt; | mean &lt;dbl&gt; | sd &lt;dbl&gt; | median &lt;dbl&gt; | trimmed &lt;dbl&gt; | mad &lt;dbl&gt; | min &lt;dbl&gt; | max &lt;dbl&gt; | range &lt;dbl&gt; | skew &lt;dbl&gt; | kurtosis &lt;dbl&gt; | se &lt;dbl&gt; |\n",
       "|---|---|---|---|---|---|---|---|---|---|---|---|---|---|\n",
       "| crim | 1 | 506 |  3.61352356 |  8.6015451 | 0.25651 |  1.6816300 | 0.3283218 | 0.00632 |  88.9762 |  88.96988 | 5.1922223 | 36.59581589 | 0.382385321 |\n",
       "| zn | 2 | 506 | 11.36363636 | 23.3224530 | 0.00000 |  5.0800493 | 0.0000000 | 0.00000 | 100.0000 | 100.00000 | 2.2124881 |  3.95238731 | 1.036809500 |\n",
       "| indus | 3 | 506 | 11.13677866 |  6.8603529 | 9.69000 | 10.9318719 | 9.3700320 | 0.46000 |  27.7400 |  27.28000 | 0.2932747 | -1.24019490 | 0.304979888 |\n",
       "| chas | 4 | 506 |  0.06916996 |  0.2539940 | 0.00000 |  0.0000000 | 0.0000000 | 0.00000 |   1.0000 |   1.00000 | 3.3857377 |  9.48197035 | 0.011291412 |\n",
       "| nox | 5 | 506 |  0.55469506 |  0.1158777 | 0.53800 |  0.5450601 | 0.1297275 | 0.38500 |   0.8710 |   0.48600 | 0.7249897 | -0.08741064 | 0.005151391 |\n",
       "| ⋮ | ⋮ | ⋮ | ⋮ | ⋮ | ⋮ | ⋮ | ⋮ | ⋮ | ⋮ | ⋮ | ⋮ | ⋮ | ⋮ |\n",
       "| rad |  9 | 506 |   9.549407 |   8.707259 |   5.00 |   8.73399 |   2.965200 |   1.00 |  24.00 |  23.00 |  0.9988651 | -0.8789291 | 0.38708489 |\n",
       "| tax | 10 | 506 | 408.237154 | 168.537116 | 330.00 | 400.04433 | 108.229800 | 187.00 | 711.00 | 524.00 |  0.6659891 | -1.1503176 | 7.49238869 |\n",
       "| ptratio | 11 | 506 |  18.455534 |   2.164946 |  19.05 |  18.66256 |   1.704990 |  12.60 |  22.00 |   9.40 | -0.7975743 | -0.3048010 | 0.09624357 |\n",
       "| lstat | 12 | 506 |  12.653063 |   7.141062 |  11.36 |  11.89904 |   7.109067 |   1.73 |  37.97 |  36.24 |  0.9010929 |  0.4628171 | 0.31745891 |\n",
       "| medv | 13 | 506 |  22.532806 |   9.197104 |  21.20 |  21.56232 |   5.930400 |   5.00 |  50.00 |  45.00 |  1.1015373 |  1.4509837 | 0.40886115 |\n",
       "\n"
      ],
      "text/plain": [
       "        vars n   mean        sd         median  trimmed    mad        min    \n",
       "crim    1    506  3.61352356  8.6015451 0.25651  1.6816300 0.3283218  0.00632\n",
       "zn      2    506 11.36363636 23.3224530 0.00000  5.0800493 0.0000000  0.00000\n",
       "indus   3    506 11.13677866  6.8603529 9.69000 10.9318719 9.3700320  0.46000\n",
       "chas    4    506  0.06916996  0.2539940 0.00000  0.0000000 0.0000000  0.00000\n",
       "nox     5    506  0.55469506  0.1158777 0.53800  0.5450601 0.1297275  0.38500\n",
       "⋮       ⋮    ⋮   ⋮           ⋮          ⋮       ⋮          ⋮          ⋮      \n",
       "rad      9   506   9.549407    8.707259   5.00    8.73399    2.965200   1.00 \n",
       "tax     10   506 408.237154  168.537116 330.00  400.04433  108.229800 187.00 \n",
       "ptratio 11   506  18.455534    2.164946  19.05   18.66256    1.704990  12.60 \n",
       "lstat   12   506  12.653063    7.141062  11.36   11.89904    7.109067   1.73 \n",
       "medv    13   506  22.532806    9.197104  21.20   21.56232    5.930400   5.00 \n",
       "        max      range     skew       kurtosis    se         \n",
       "crim     88.9762  88.96988 5.1922223  36.59581589 0.382385321\n",
       "zn      100.0000 100.00000 2.2124881   3.95238731 1.036809500\n",
       "indus    27.7400  27.28000 0.2932747  -1.24019490 0.304979888\n",
       "chas      1.0000   1.00000 3.3857377   9.48197035 0.011291412\n",
       "nox       0.8710   0.48600 0.7249897  -0.08741064 0.005151391\n",
       "⋮       ⋮        ⋮         ⋮          ⋮           ⋮          \n",
       "rad      24.00    23.00     0.9988651 -0.8789291  0.38708489 \n",
       "tax     711.00   524.00     0.6659891 -1.1503176  7.49238869 \n",
       "ptratio  22.00     9.40    -0.7975743 -0.3048010  0.09624357 \n",
       "lstat    37.97    36.24     0.9010929  0.4628171  0.31745891 \n",
       "medv     50.00    45.00     1.1015373  1.4509837  0.40886115 "
      ]
     },
     "metadata": {},
     "output_type": "display_data"
    }
   ],
   "source": [
    "psych::describe(dataframe)\n",
    "\n",
    "#<xml xmlns=\"https://developers.google.com/blockly/xml\"><variables><variable id=\"-%rFagMkPz%VG@$q~ANP\">psych</variable><variable id=\"(*,(U(rm+VG0+vg;w$65\">dataframe</variable></variables><block type=\"varDoMethod_R\" id=\"T0@e2gJUI4JSH/hR}Ww;\" x=\"-132\" y=\"176\"><mutation items=\"1\"></mutation><field name=\"VAR\" id=\"-%rFagMkPz%VG@$q~ANP\">psych</field><field name=\"MEMBER\">describe</field><data>psych:describe</data><value name=\"ADD0\"><block type=\"variables_get\" id=\"|?#9B(~d`]d^x)Ge=Szm\"><field name=\"VAR\" id=\"(*,(U(rm+VG0+vg;w$65\">dataframe</field></block></value></block></xml>"
   ]
  },
  {
   "cell_type": "markdown",
   "metadata": {},
   "source": [
    "-----------\n",
    "**QUESTION:**\n",
    "\n",
    "Do the min, mean, and max look reasonable to you, given what these variables mean (see the data description above)?"
   ]
  },
  {
   "cell_type": "markdown",
   "metadata": {},
   "source": [
    "**ANSWER: (click here to edit)**\n",
    "\n",
    "*Yes they all look reasonable.*\n",
    "\n",
    "--------------------"
   ]
  },
  {
   "cell_type": "markdown",
   "metadata": {},
   "source": [
    "Make a correlation heatmap."
   ]
  },
  {
   "cell_type": "code",
   "execution_count": 5,
   "metadata": {},
   "outputs": [
    {
     "name": "stderr",
     "output_type": "stream",
     "text": [
      "Correlation computed with\n",
      "\u001b[36m•\u001b[39m Method: 'pearson'\n",
      "\u001b[36m•\u001b[39m Missing treated using: 'pairwise.complete.obs'\n"
     ]
    },
    {
     "data": {
      "image/png": "[encoded data removed]",
      "text/plain": [
       "plot without title"
      ]
     },
     "metadata": {
      "image/png": {
       "height": 480,
       "width": 600
      }
     },
     "output_type": "display_data"
    }
   ],
   "source": [
    "dataframe %>%\n",
    "    corrr::correlate() %>%\n",
    "    corrr::rearrange() %>%\n",
    "    corrr::shave() %>%\n",
    "    corrr::rplot() +\n",
    "    ggplot2::theme(axis.text.x = element_text(angle = 60, hjust = 1))\n",
    "\n",
    "#<xml xmlns=\"https://developers.google.com/blockly/xml\"><variables><variable id=\"(*,(U(rm+VG0+vg;w$65\">dataframe</variable><variable id=\":}mQPTQxRKZMh,T7NR$$\">corrr</variable><variable id=\"K2WB)HAgulDnN4.esuaK\">ggplot2</variable></variables><block type=\"pipe_R\" id=\"N12|vt`l[nbbEa%Y~#m8\" x=\"-52\" y=\"-175\"><mutation items=\"4\"></mutation><value name=\"INPUT\"><block type=\"variables_get\" id=\"gVhqUlh8Cy^F.8HkQSR$\"><field name=\"VAR\" id=\"(*,(U(rm+VG0+vg;w$65\">dataframe</field></block></value><value name=\"ADD0\"><block type=\"varDoMethod_R\" id=\"!IGLlvXdM16CaY84=Bg6\"><mutation items=\"1\"></mutation><field name=\"VAR\" id=\":}mQPTQxRKZMh,T7NR$$\">corrr</field><field name=\"MEMBER\">correlate</field><data>corrr:correlate</data></block></value><value name=\"ADD1\"><block type=\"varDoMethod_R\" id=\"}:lkTT23H2F#0KMm`|,/\"><mutation items=\"1\"></mutation><field name=\"VAR\" id=\":}mQPTQxRKZMh,T7NR$$\">corrr</field><field name=\"MEMBER\">rearrange</field><data>corrr:rearrange</data></block></value><value name=\"ADD2\"><block type=\"varDoMethod_R\" id=\"O/(t7,oDux_+[+q!kGh6\"><mutation items=\"1\"></mutation><field name=\"VAR\" id=\":}mQPTQxRKZMh,T7NR$$\">corrr</field><field name=\"MEMBER\">shave</field><data>corrr:shave</data></block></value><value name=\"ADD3\"><block type=\"ggplot_plus_R\" id=\"3ilR0aqrIo(uJr*!6bpU\"><mutation items=\"1\"></mutation><value name=\"INPUT\"><block type=\"varDoMethod_R\" id=\"=#E:Zp_ck$*)mk/i8`^K\"><mutation items=\"1\"></mutation><field name=\"VAR\" id=\":}mQPTQxRKZMh,T7NR$$\">corrr</field><field name=\"MEMBER\">rplot</field><data>corrr:rplot</data></block></value><value name=\"ADD0\"><block type=\"varDoMethod_R\" id=\"f#R*ao;9?HYu9{XmEY3r\"><mutation items=\"1\"></mutation><field name=\"VAR\" id=\"K2WB)HAgulDnN4.esuaK\">ggplot2</field><field name=\"MEMBER\">theme</field><data>ggplot2:theme</data><value name=\"ADD0\"><block type=\"dummyOutputCodeBlock_R\" id=\"@ce!p}8ffHehsPmXP[bV\"><field name=\"CODE\">axis.text.x = element_text(angle = 60, hjust = 1)</field></block></value></block></value></block></value></block></xml>"
   ]
  },
  {
   "cell_type": "markdown",
   "metadata": {},
   "source": [
    "----------------------\n",
    "\n",
    "**QUESTION:**\n",
    "\n",
    "Do we have strong positive correlations, strong negative correlations, or both?"
   ]
  },
  {
   "cell_type": "markdown",
   "metadata": {},
   "source": [
    "**ANSWER: (click here to edit)**\n",
    "\n",
    "*Both. Multicolinearity seems like it will be a problem.*\n",
    "\n",
    "-----------------"
   ]
  },
  {
   "cell_type": "markdown",
   "metadata": {},
   "source": [
    "**QUESTION:**\n",
    "\n",
    "Given the nature of these variables, do these correlations surprise you? "
   ]
  },
  {
   "cell_type": "markdown",
   "metadata": {},
   "source": [
    "**ANSWER: (click here to edit)**\n",
    "\n",
    "*No, we would expect many of these to be related by economic factors.*\n",
    "\n",
    "-----------------"
   ]
  },
  {
   "cell_type": "markdown",
   "metadata": {},
   "source": [
    "## Prepare train/test sets\n",
    "\n",
    "Do the imports needed to split the dataframe into train/test sets."
   ]
  },
  {
   "cell_type": "code",
   "execution_count": 7,
   "metadata": {},
   "outputs": [
    {
     "name": "stderr",
     "output_type": "stream",
     "text": [
      "Warning message:\n",
      "“package ‘rsample’ was built under R version 4.2.2”\n"
     ]
    }
   ],
   "source": [
    "library(rsample)\n",
    "library(tidyr)\n",
    "\n",
    "#<xml xmlns=\"https://developers.google.com/blockly/xml\"><variables><variable id=\"~~-I(f=60)#JfKGvV_AP\">rsample</variable><variable id=\"%ovw[;dNkqx,|V0M/RZA\">tidyr</variable></variables><block type=\"import_R\" id=\"g^doBJYp/fk!)^uuYnUf\" x=\"-280\" y=\"10\"><field name=\"libraryName\" id=\"~~-I(f=60)#JfKGvV_AP\">rsample</field><next><block type=\"import_R\" id=\"?6P$ZRn,T9@[Q~MNpW?d\"><field name=\"libraryName\" id=\"%ovw[;dNkqx,|V0M/RZA\">tidyr</field></block></next></block></xml>"
   ]
  },
  {
   "cell_type": "markdown",
   "metadata": {},
   "source": [
    "Split the data into train/test sets."
   ]
  },
  {
   "cell_type": "code",
   "execution_count": 8,
   "metadata": {},
   "outputs": [
    {
     "data": {
      "text/html": [
       "<table class=\"dataframe\">\n",
       "<caption>A tibble: 404 × 13</caption>\n",
       "<thead>\n",
       "\t<tr><th scope=col>crim</th><th scope=col>zn</th><th scope=col>indus</th><th scope=col>chas</th><th scope=col>nox</th><th scope=col>rm</th><th scope=col>age</th><th scope=col>dis</th><th scope=col>rad</th><th scope=col>tax</th><th scope=col>ptratio</th><th scope=col>lstat</th><th scope=col>medv</th></tr>\n",
       "\t<tr><th scope=col>&lt;dbl&gt;</th><th scope=col>&lt;dbl&gt;</th><th scope=col>&lt;dbl&gt;</th><th scope=col>&lt;dbl&gt;</th><th scope=col>&lt;dbl&gt;</th><th scope=col>&lt;dbl&gt;</th><th scope=col>&lt;dbl&gt;</th><th scope=col>&lt;dbl&gt;</th><th scope=col>&lt;dbl&gt;</th><th scope=col>&lt;dbl&gt;</th><th scope=col>&lt;dbl&gt;</th><th scope=col>&lt;dbl&gt;</th><th scope=col>&lt;dbl&gt;</th></tr>\n",
       "</thead>\n",
       "<tbody>\n",
       "\t<tr><td>0.04294</td><td>28</td><td>15.04</td><td>0</td><td>0.4640</td><td>6.249</td><td>77.3</td><td>3.6150</td><td>4</td><td>270</td><td>18.2</td><td>10.59</td><td>20.6</td></tr>\n",
       "\t<tr><td>1.23247</td><td> 0</td><td> 8.14</td><td>0</td><td>0.5380</td><td>6.142</td><td>91.7</td><td>3.9769</td><td>4</td><td>307</td><td>21.0</td><td>18.72</td><td>15.2</td></tr>\n",
       "\t<tr><td>0.03578</td><td>20</td><td> 3.33</td><td>0</td><td>0.4429</td><td>7.820</td><td>64.5</td><td>4.6947</td><td>5</td><td>216</td><td>14.9</td><td> 3.76</td><td>45.4</td></tr>\n",
       "\t<tr><td>0.03306</td><td> 0</td><td> 5.19</td><td>0</td><td>0.5150</td><td>6.059</td><td>37.3</td><td>4.8122</td><td>5</td><td>224</td><td>20.2</td><td> 8.51</td><td>20.6</td></tr>\n",
       "\t<tr><td>0.08387</td><td> 0</td><td>12.83</td><td>0</td><td>0.4370</td><td>5.874</td><td>36.6</td><td>4.5026</td><td>5</td><td>398</td><td>18.7</td><td> 9.10</td><td>20.3</td></tr>\n",
       "\t<tr><td>⋮</td><td>⋮</td><td>⋮</td><td>⋮</td><td>⋮</td><td>⋮</td><td>⋮</td><td>⋮</td><td>⋮</td><td>⋮</td><td>⋮</td><td>⋮</td><td>⋮</td></tr>\n",
       "\t<tr><td> 0.57834</td><td>20</td><td> 3.97</td><td>0</td><td>0.575</td><td>8.297</td><td> 67.0</td><td>2.4216</td><td> 5</td><td>264</td><td>13.0</td><td> 7.44</td><td>50.0</td></tr>\n",
       "\t<tr><td> 0.14103</td><td> 0</td><td>13.92</td><td>0</td><td>0.437</td><td>5.790</td><td> 58.0</td><td>6.3200</td><td> 4</td><td>289</td><td>16.0</td><td>15.84</td><td>20.3</td></tr>\n",
       "\t<tr><td> 9.72418</td><td> 0</td><td>18.10</td><td>0</td><td>0.740</td><td>6.406</td><td> 97.2</td><td>2.0651</td><td>24</td><td>666</td><td>20.2</td><td>19.52</td><td>17.1</td></tr>\n",
       "\t<tr><td> 6.96215</td><td> 0</td><td>18.10</td><td>0</td><td>0.700</td><td>5.713</td><td> 97.0</td><td>1.9265</td><td>24</td><td>666</td><td>20.2</td><td>17.11</td><td>15.1</td></tr>\n",
       "\t<tr><td>18.81100</td><td> 0</td><td>18.10</td><td>0</td><td>0.597</td><td>4.628</td><td>100.0</td><td>1.5539</td><td>24</td><td>666</td><td>20.2</td><td>34.37</td><td>17.9</td></tr>\n",
       "</tbody>\n",
       "</table>\n"
      ],
      "text/latex": [
       "A tibble: 404 × 13\n",
       "\\begin{tabular}{lllllllllllll}\n",
       " crim & zn & indus & chas & nox & rm & age & dis & rad & tax & ptratio & lstat & medv\\\\\n",
       " <dbl> & <dbl> & <dbl> & <dbl> & <dbl> & <dbl> & <dbl> & <dbl> & <dbl> & <dbl> & <dbl> & <dbl> & <dbl>\\\\\n",
       "\\hline\n",
       "\t 0.04294 & 28 & 15.04 & 0 & 0.4640 & 6.249 & 77.3 & 3.6150 & 4 & 270 & 18.2 & 10.59 & 20.6\\\\\n",
       "\t 1.23247 &  0 &  8.14 & 0 & 0.5380 & 6.142 & 91.7 & 3.9769 & 4 & 307 & 21.0 & 18.72 & 15.2\\\\\n",
       "\t 0.03578 & 20 &  3.33 & 0 & 0.4429 & 7.820 & 64.5 & 4.6947 & 5 & 216 & 14.9 &  3.76 & 45.4\\\\\n",
       "\t 0.03306 &  0 &  5.19 & 0 & 0.5150 & 6.059 & 37.3 & 4.8122 & 5 & 224 & 20.2 &  8.51 & 20.6\\\\\n",
       "\t 0.08387 &  0 & 12.83 & 0 & 0.4370 & 5.874 & 36.6 & 4.5026 & 5 & 398 & 18.7 &  9.10 & 20.3\\\\\n",
       "\t ⋮ & ⋮ & ⋮ & ⋮ & ⋮ & ⋮ & ⋮ & ⋮ & ⋮ & ⋮ & ⋮ & ⋮ & ⋮\\\\\n",
       "\t  0.57834 & 20 &  3.97 & 0 & 0.575 & 8.297 &  67.0 & 2.4216 &  5 & 264 & 13.0 &  7.44 & 50.0\\\\\n",
       "\t  0.14103 &  0 & 13.92 & 0 & 0.437 & 5.790 &  58.0 & 6.3200 &  4 & 289 & 16.0 & 15.84 & 20.3\\\\\n",
       "\t  9.72418 &  0 & 18.10 & 0 & 0.740 & 6.406 &  97.2 & 2.0651 & 24 & 666 & 20.2 & 19.52 & 17.1\\\\\n",
       "\t  6.96215 &  0 & 18.10 & 0 & 0.700 & 5.713 &  97.0 & 1.9265 & 24 & 666 & 20.2 & 17.11 & 15.1\\\\\n",
       "\t 18.81100 &  0 & 18.10 & 0 & 0.597 & 4.628 & 100.0 & 1.5539 & 24 & 666 & 20.2 & 34.37 & 17.9\\\\\n",
       "\\end{tabular}\n"
      ],
      "text/markdown": [
       "\n",
       "A tibble: 404 × 13\n",
       "\n",
       "| crim &lt;dbl&gt; | zn &lt;dbl&gt; | indus &lt;dbl&gt; | chas &lt;dbl&gt; | nox &lt;dbl&gt; | rm &lt;dbl&gt; | age &lt;dbl&gt; | dis &lt;dbl&gt; | rad &lt;dbl&gt; | tax &lt;dbl&gt; | ptratio &lt;dbl&gt; | lstat &lt;dbl&gt; | medv &lt;dbl&gt; |\n",
       "|---|---|---|---|---|---|---|---|---|---|---|---|---|\n",
       "| 0.04294 | 28 | 15.04 | 0 | 0.4640 | 6.249 | 77.3 | 3.6150 | 4 | 270 | 18.2 | 10.59 | 20.6 |\n",
       "| 1.23247 |  0 |  8.14 | 0 | 0.5380 | 6.142 | 91.7 | 3.9769 | 4 | 307 | 21.0 | 18.72 | 15.2 |\n",
       "| 0.03578 | 20 |  3.33 | 0 | 0.4429 | 7.820 | 64.5 | 4.6947 | 5 | 216 | 14.9 |  3.76 | 45.4 |\n",
       "| 0.03306 |  0 |  5.19 | 0 | 0.5150 | 6.059 | 37.3 | 4.8122 | 5 | 224 | 20.2 |  8.51 | 20.6 |\n",
       "| 0.08387 |  0 | 12.83 | 0 | 0.4370 | 5.874 | 36.6 | 4.5026 | 5 | 398 | 18.7 |  9.10 | 20.3 |\n",
       "| ⋮ | ⋮ | ⋮ | ⋮ | ⋮ | ⋮ | ⋮ | ⋮ | ⋮ | ⋮ | ⋮ | ⋮ | ⋮ |\n",
       "|  0.57834 | 20 |  3.97 | 0 | 0.575 | 8.297 |  67.0 | 2.4216 |  5 | 264 | 13.0 |  7.44 | 50.0 |\n",
       "|  0.14103 |  0 | 13.92 | 0 | 0.437 | 5.790 |  58.0 | 6.3200 |  4 | 289 | 16.0 | 15.84 | 20.3 |\n",
       "|  9.72418 |  0 | 18.10 | 0 | 0.740 | 6.406 |  97.2 | 2.0651 | 24 | 666 | 20.2 | 19.52 | 17.1 |\n",
       "|  6.96215 |  0 | 18.10 | 0 | 0.700 | 5.713 |  97.0 | 1.9265 | 24 | 666 | 20.2 | 17.11 | 15.1 |\n",
       "| 18.81100 |  0 | 18.10 | 0 | 0.597 | 4.628 | 100.0 | 1.5539 | 24 | 666 | 20.2 | 34.37 | 17.9 |\n",
       "\n"
      ],
      "text/plain": [
       "    crim     zn indus chas nox    rm    age   dis    rad tax ptratio lstat medv\n",
       "1   0.04294  28 15.04 0    0.4640 6.249 77.3  3.6150 4   270 18.2    10.59 20.6\n",
       "2   1.23247   0  8.14 0    0.5380 6.142 91.7  3.9769 4   307 21.0    18.72 15.2\n",
       "3   0.03578  20  3.33 0    0.4429 7.820 64.5  4.6947 5   216 14.9     3.76 45.4\n",
       "4   0.03306   0  5.19 0    0.5150 6.059 37.3  4.8122 5   224 20.2     8.51 20.6\n",
       "5   0.08387   0 12.83 0    0.4370 5.874 36.6  4.5026 5   398 18.7     9.10 20.3\n",
       "⋮   ⋮        ⋮  ⋮     ⋮    ⋮      ⋮     ⋮     ⋮      ⋮   ⋮   ⋮       ⋮     ⋮   \n",
       "400  0.57834 20  3.97 0    0.575  8.297  67.0 2.4216  5  264 13.0     7.44 50.0\n",
       "401  0.14103  0 13.92 0    0.437  5.790  58.0 6.3200  4  289 16.0    15.84 20.3\n",
       "402  9.72418  0 18.10 0    0.740  6.406  97.2 2.0651 24  666 20.2    19.52 17.1\n",
       "403  6.96215  0 18.10 0    0.700  5.713  97.0 1.9265 24  666 20.2    17.11 15.1\n",
       "404 18.81100  0 18.10 0    0.597  4.628 100.0 1.5539 24  666 20.2    34.37 17.9"
      ]
     },
     "metadata": {},
     "output_type": "display_data"
    }
   ],
   "source": [
    "data_split = rsample::initial_split(dataframe,prop=.80)\n",
    "data_train = rsample::training(data_split)\n",
    "data_test = rsample::testing(data_split)\n",
    "\n",
    "data_train\n",
    "\n",
    "#<xml xmlns=\"https://developers.google.com/blockly/xml\"><variables><variable id=\"bQ!4E:J!~]0(]7KV]m@=\">data_split</variable><variable id=\":iMr},W7(N7vSLAUw!ao\">data_train</variable><variable id=\"~~-I(f=60)#JfKGvV_AP\">rsample</variable><variable id=\"(*,(U(rm+VG0+vg;w$65\">dataframe</variable><variable id=\"|q$XCeTWL%AdgT|]tbnU\">data_test</variable></variables><block type=\"variables_set\" id=\"s!g),aa^(]dox/f`@P!y\" x=\"-116\" y=\"313\"><field name=\"VAR\" id=\"bQ!4E:J!~]0(]7KV]m@=\">data_split</field><value name=\"VALUE\"><block type=\"varDoMethod_R\" id=\"hPsr6}9C/VNgaLsKuR,o\"><mutation items=\"2\"></mutation><field name=\"VAR\" id=\"~~-I(f=60)#JfKGvV_AP\">rsample</field><field name=\"MEMBER\">initial_split</field><data>rsample:initial_split</data><value name=\"ADD0\"><block type=\"variables_get\" id=\"]~#@ltf];dTom_%pzV4n\"><field name=\"VAR\" id=\"(*,(U(rm+VG0+vg;w$65\">dataframe</field></block></value><value name=\"ADD1\"><block type=\"dummyOutputCodeBlock_R\" id=\"R`?vH79hsA6Duxa9)AFX\"><field name=\"CODE\">prop=.80</field></block></value></block></value><next><block type=\"variables_set\" id=\"3J6#JDFV0wE?V;NuM=?L\"><field name=\"VAR\" id=\":iMr},W7(N7vSLAUw!ao\">data_train</field><value name=\"VALUE\"><block type=\"varDoMethod_R\" id=\"X|Q7lj,pD_9W{%^.xd7h\"><mutation items=\"1\"></mutation><field name=\"VAR\" id=\"~~-I(f=60)#JfKGvV_AP\">rsample</field><field name=\"MEMBER\">training</field><data>rsample:training</data><value name=\"ADD0\"><block type=\"variables_get\" id=\"JFCmHyJPiN`qwnlE~:iT\"><field name=\"VAR\" id=\"bQ!4E:J!~]0(]7KV]m@=\">data_split</field></block></value></block></value><next><block type=\"variables_set\" id=\"Y]ag(g~}tkN6:_X*]6P{\"><field name=\"VAR\" id=\"|q$XCeTWL%AdgT|]tbnU\">data_test</field><value name=\"VALUE\"><block type=\"varDoMethod_R\" id=\"WBYo8G|ZcojJAqETRnv`\"><mutation items=\"1\"></mutation><field name=\"VAR\" id=\"~~-I(f=60)#JfKGvV_AP\">rsample</field><field name=\"MEMBER\">testing</field><data>rsample:testing</data><value name=\"ADD0\"><block type=\"variables_get\" id=\"p^~x9|Zj((6qaUVvj#.E\"><field name=\"VAR\" id=\"bQ!4E:J!~]0(]7KV]m@=\">data_split</field></block></value></block></value></block></next></block></next></block><block type=\"variables_get\" id=\"9j){6[r67+7OFx`a~K[Y\" x=\"-115\" y=\"515\"><field name=\"VAR\" id=\":iMr},W7(N7vSLAUw!ao\">data_train</field></block></xml>"
   ]
  },
  {
   "cell_type": "markdown",
   "metadata": {},
   "source": [
    "## Model 1: Linear regression\n",
    "\n",
    "Do the imports needed to build and evaluate a linear regression model using a workflow (for scaling).\n",
    "\n",
    "You may wish to refer to the multiple linear regression notebook as well as the lasso notebook for this."
   ]
  },
  {
   "cell_type": "code",
   "execution_count": 9,
   "metadata": {},
   "outputs": [
    {
     "name": "stderr",
     "output_type": "stream",
     "text": [
      "Warning message:\n",
      "“package ‘recipes’ was built under R version 4.2.2”\n",
      "\n",
      "Attaching package: ‘recipes’\n",
      "\n",
      "\n",
      "The following object is masked from ‘package:stats’:\n",
      "\n",
      "    step\n",
      "\n",
      "\n",
      "Warning message:\n",
      "“package ‘workflows’ was built under R version 4.2.2”\n",
      "\n",
      "Attaching package: ‘generics’\n",
      "\n",
      "\n",
      "The following object is masked from ‘package:dplyr’:\n",
      "\n",
      "    explain\n",
      "\n",
      "\n",
      "The following objects are masked from ‘package:base’:\n",
      "\n",
      "    as.difftime, as.factor, as.ordered, intersect, is.element, setdiff,\n",
      "    setequal, union\n",
      "\n",
      "\n",
      "Warning message:\n",
      "“package ‘parsnip’ was built under R version 4.2.2”\n"
     ]
    }
   ],
   "source": [
    "library(recipes)\n",
    "library(workflows)\n",
    "library(generics)\n",
    "library(parsnip)\n",
    "library(hardhat)\n",
    "library(broom)\n",
    "\n",
    "#<xml xmlns=\"https://developers.google.com/blockly/xml\"><variables><variable id=\"v7B~eW}{zV,n~iX:qTJ-\">recipes</variable><variable id=\"haMDnc8Uj|EjY^608!;]\">workflows</variable><variable id=\"w(9-o9gLSDEJ,]Qt}e!^\">generics</variable><variable id=\"3q]Js%*Alzd]|p|FOe}-\">parsnip</variable><variable id=\"{5PU6CE0j[[^yJ79kBMR\">hardhat</variable><variable id=\"Ubl?FFCN5uCFfCTQ?7:z\">broom</variable></variables><block type=\"import_R\" id=\"EGE;dT.cnN,o}Y[99#Qb\" x=\"-12\" y=\"8\"><field name=\"libraryName\" id=\"v7B~eW}{zV,n~iX:qTJ-\">recipes</field><next><block type=\"import_R\" id=\"6DrE-26ByLD$vC}QeW:}\"><field name=\"libraryName\" id=\"haMDnc8Uj|EjY^608!;]\">workflows</field><next><block type=\"import_R\" id=\"hQ4(=]9%QB3(VWqs9OK:\"><field name=\"libraryName\" id=\"w(9-o9gLSDEJ,]Qt}e!^\">generics</field><next><block type=\"import_R\" id=\"d1vIIBH:{ygkVLV/Ts5l\"><field name=\"libraryName\" id=\"3q]Js%*Alzd]|p|FOe}-\">parsnip</field><next><block type=\"import_R\" id=\"vFfUgs[O$$~/VO1yVa~v\"><field name=\"libraryName\" id=\"{5PU6CE0j[[^yJ79kBMR\">hardhat</field><next><block type=\"import_R\" id=\"cegz.xTQ~Bq[q~wqZQHD\"><field name=\"libraryName\" id=\"Ubl?FFCN5uCFfCTQ?7:z\">broom</field></block></next></block></next></block></next></block></next></block></next></block></xml>"
   ]
  },
  {
   "cell_type": "markdown",
   "metadata": {},
   "source": [
    "### Training\n",
    "\n",
    "Make a workflow with scaling, fit it, and augment data all in one cell.\n",
    "Remember you are predicting `medv` using all other variables, and you are using linear regression."
   ]
  },
  {
   "cell_type": "code",
   "execution_count": 10,
   "metadata": {},
   "outputs": [],
   "source": [
    "recipe = recipes::recipe(medv ~ .,data = data_train) %>%\n",
    "    recipes::step_normalize(recipes::all_numeric_predictors())\n",
    "model = parsnip::linear_reg() %>%\n",
    "    parsnip::set_mode(\"regression\") %>%\n",
    "    parsnip::set_engine(\"lm\")\n",
    "workflow = workflows::workflow() %>%\n",
    "    workflows::add_model(model) %>%\n",
    "    workflows::add_recipe(recipe)\n",
    "model_linear = generics::fit(workflow,data = data_train)\n",
    "data_evaluation_linear = generics::augment(model_linear,data_test)\n",
    "\n",
    "#<xml xmlns=\"https://developers.google.com/blockly/xml\"><variables><variable id=\"Oz8-33unXZJ?3~@*32r-\">recipe</variable><variable id=\"mgo;O)iX^5)A5.@gqIkA\">model</variable><variable id=\"v7B~eW}{zV,n~iX:qTJ-\">recipes</variable><variable id=\"BLc@7E0B7Y3=fus{uzCr\">workflow</variable><variable id=\"3q]Js%*Alzd]|p|FOe}-\">parsnip</variable><variable id=\"|VNeB7,NnQ:]Hqqxnn$=\">model_linear</variable><variable id=\"haMDnc8Uj|EjY^608!;]\">workflows</variable><variable id=\"w(9-o9gLSDEJ,]Qt}e!^\">generics</variable><variable id=\"tXm^@Fh6oY}MV/OZ@HMZ\">data_evaluation_linear</variable><variable id=\"|q$XCeTWL%AdgT|]tbnU\">data_test</variable></variables><block type=\"variables_set\" id=\"w{}j6,P|-6Qepjtz/mj{\" x=\"-92\" y=\"98\"><field name=\"VAR\" id=\"Oz8-33unXZJ?3~@*32r-\">recipe</field><value name=\"VALUE\"><block type=\"pipe_R\" id=\"uzp8+LCnH{r`1Xn%3mdK\"><mutation items=\"1\"></mutation><value name=\"INPUT\"><block type=\"varDoMethod_R\" id=\"U^,K1TWD+}odaY!kExkh\"><mutation items=\"2\"></mutation><field name=\"VAR\" id=\"v7B~eW}{zV,n~iX:qTJ-\">recipes</field><field name=\"MEMBER\">recipe</field><data>recipes:recipe</data><value name=\"ADD0\"><block type=\"dummyOutputCodeBlock_R\" id=\"n(du-Q]_KTwoCFj6n|V5\"><field name=\"CODE\">medv ~ .</field></block></value><value name=\"ADD1\"><block type=\"dummyOutputCodeBlock_R\" id=\"lIU{_ql0epb7NH-C6Kvw\"><field name=\"CODE\">data = data_train</field></block></value></block></value><value name=\"ADD0\"><block type=\"varDoMethod_R\" id=\"5=08G^e872=?+){KI?5}\"><mutation items=\"1\"></mutation><field name=\"VAR\" id=\"v7B~eW}{zV,n~iX:qTJ-\">recipes</field><field name=\"MEMBER\">step_normalize</field><data>recipes:step_normalize</data><value name=\"ADD0\"><block type=\"varDoMethod_R\" id=\"4GS=rm//,9|E^?oX.CVv\"><mutation items=\"0\"></mutation><field name=\"VAR\" id=\"v7B~eW}{zV,n~iX:qTJ-\">recipes</field><field name=\"MEMBER\">all_numeric_predictors</field><data>recipes:all_numeric_predictors</data></block></value></block></value></block></value><next><block type=\"variables_set\" id=\"*(u89h_-M@(PB-!qP/1l\"><field name=\"VAR\" id=\"mgo;O)iX^5)A5.@gqIkA\">model</field><value name=\"VALUE\"><block type=\"pipe_R\" id=\"Oj1:/l+xksT^dSM;w{,g\"><mutation items=\"2\"></mutation><value name=\"INPUT\"><block type=\"varDoMethod_R\" id=\"m!?PwvZD%AJHhH1paJ[8\"><mutation items=\"1\"></mutation><field name=\"VAR\" id=\"3q]Js%*Alzd]|p|FOe}-\">parsnip</field><field name=\"MEMBER\">linear_reg</field><data>parsnip:linear_reg</data></block></value><value name=\"ADD0\"><block type=\"varDoMethod_R\" id=\"ady`8N}J*2BV_*AmtF`n\"><mutation items=\"1\"></mutation><field name=\"VAR\" id=\"3q]Js%*Alzd]|p|FOe}-\">parsnip</field><field name=\"MEMBER\">set_mode</field><data>parsnip:set_mode</data><value name=\"ADD0\"><block type=\"text\" id=\"#4#x{=R9!%aA:_,cHnF(\"><field name=\"TEXT\">regression</field></block></value></block></value><value name=\"ADD1\"><block type=\"varDoMethod_R\" id=\"bybPF(gahfhB3cmyy;/n\"><mutation items=\"1\"></mutation><field name=\"VAR\" id=\"3q]Js%*Alzd]|p|FOe}-\">parsnip</field><field name=\"MEMBER\">set_engine</field><data>parsnip:set_engine</data><value name=\"ADD0\"><block type=\"text\" id=\"v9=Ry*6UUQjzFr5Sy@,f\"><field name=\"TEXT\">lm</field></block></value></block></value></block></value><next><block type=\"variables_set\" id=\"f%c#[D)Zv:uHH6WY_TQI\"><field name=\"VAR\" id=\"BLc@7E0B7Y3=fus{uzCr\">workflow</field><value name=\"VALUE\"><block type=\"pipe_R\" id=\"Rk~*~r(!3iF+cvcz7IiD\"><mutation items=\"2\"></mutation><value name=\"INPUT\"><block type=\"varDoMethod_R\" id=\"H!7?PcsriTx,;-jJmb`7\"><mutation items=\"1\"></mutation><field name=\"VAR\" id=\"haMDnc8Uj|EjY^608!;]\">workflows</field><field name=\"MEMBER\">workflow</field><data>workflows:workflow</data></block></value><value name=\"ADD0\"><block type=\"varDoMethod_R\" id=\"CrWn^(|[{],FV=/-Jt!b\"><mutation items=\"1\"></mutation><field name=\"VAR\" id=\"haMDnc8Uj|EjY^608!;]\">workflows</field><field name=\"MEMBER\">add_model</field><data>workflows:add_model</data><value name=\"ADD0\"><block type=\"variables_get\" id=\"7MGIpZZh#XkK`d+ZY4h:\"><field name=\"VAR\" id=\"mgo;O)iX^5)A5.@gqIkA\">model</field></block></value></block></value><value name=\"ADD1\"><block type=\"varDoMethod_R\" id=\"L1.O)ZR~Ab`VSER(L}FZ\"><mutation items=\"1\"></mutation><field name=\"VAR\" id=\"haMDnc8Uj|EjY^608!;]\">workflows</field><field name=\"MEMBER\">add_recipe</field><data>workflows:add_recipe</data><value name=\"ADD0\"><block type=\"variables_get\" id=\"U.@@S3Rdx{:xKxE[Fsx]\"><field name=\"VAR\" id=\"Oz8-33unXZJ?3~@*32r-\">recipe</field></block></value></block></value></block></value><next><block type=\"variables_set\" id=\"uPz?0#f)qaDo*K{v~.T#\"><field name=\"VAR\" id=\"|VNeB7,NnQ:]Hqqxnn$=\">model_linear</field><value name=\"VALUE\"><block type=\"varDoMethod_R\" id=\"1k%URX)R$N[Sz+Af]Bp-\"><mutation items=\"2\"></mutation><field name=\"VAR\" id=\"w(9-o9gLSDEJ,]Qt}e!^\">generics</field><field name=\"MEMBER\">fit</field><data>generics:fit</data><value name=\"ADD0\"><block type=\"variables_get\" id=\"EOhqDQRWe?r|ILuJX4/t\"><field name=\"VAR\" id=\"BLc@7E0B7Y3=fus{uzCr\">workflow</field></block></value><value name=\"ADD1\"><block type=\"dummyOutputCodeBlock_R\" id=\"[_z9jOR|uGR]AC:laZe;\"><field name=\"CODE\">data = data_train</field></block></value></block></value><next><block type=\"variables_set\" id=\"_5S[h.UFv,L8;N3+2uhP\"><field name=\"VAR\" id=\"tXm^@Fh6oY}MV/OZ@HMZ\">data_evaluation_linear</field><value name=\"VALUE\"><block type=\"varDoMethod_R\" id=\"G^kD}UQ+AQ+2.6Z*BbT#\"><mutation items=\"2\"></mutation><field name=\"VAR\" id=\"w(9-o9gLSDEJ,]Qt}e!^\">generics</field><field name=\"MEMBER\">augment</field><data>generics:augment</data><value name=\"ADD0\"><block type=\"variables_get\" id=\"t(UW+qq9JfeWzk.ROh!O\"><field name=\"VAR\" id=\"|VNeB7,NnQ:]Hqqxnn$=\">model_linear</field></block></value><value name=\"ADD1\"><block type=\"variables_get\" id=\"t?9CE.G3ce=.Vv7A|Ig/\"><field name=\"VAR\" id=\"|q$XCeTWL%AdgT|]tbnU\">data_test</field></block></value></block></value></block></next></block></next></block></next></block></next></block></xml>"
   ]
  },
  {
   "cell_type": "markdown",
   "metadata": {},
   "source": [
    "### Evaluation\n",
    "\n",
    "Get the $r^2$ on the test split.\n",
    "\n",
    "*Hint: `metrics` and `.pred`*"
   ]
  },
  {
   "cell_type": "code",
   "execution_count": 11,
   "metadata": {},
   "outputs": [
    {
     "data": {
      "text/html": [
       "<table class=\"dataframe\">\n",
       "<caption>A tibble: 3 × 3</caption>\n",
       "<thead>\n",
       "\t<tr><th scope=col>.metric</th><th scope=col>.estimator</th><th scope=col>.estimate</th></tr>\n",
       "\t<tr><th scope=col>&lt;chr&gt;</th><th scope=col>&lt;chr&gt;</th><th scope=col>&lt;dbl&gt;</th></tr>\n",
       "</thead>\n",
       "<tbody>\n",
       "\t<tr><td>rmse</td><td>standard</td><td>6.1220173</td></tr>\n",
       "\t<tr><td>rsq </td><td>standard</td><td>0.6536976</td></tr>\n",
       "\t<tr><td>mae </td><td>standard</td><td>3.8781170</td></tr>\n",
       "</tbody>\n",
       "</table>\n"
      ],
      "text/latex": [
       "A tibble: 3 × 3\n",
       "\\begin{tabular}{lll}\n",
       " .metric & .estimator & .estimate\\\\\n",
       " <chr> & <chr> & <dbl>\\\\\n",
       "\\hline\n",
       "\t rmse & standard & 6.1220173\\\\\n",
       "\t rsq  & standard & 0.6536976\\\\\n",
       "\t mae  & standard & 3.8781170\\\\\n",
       "\\end{tabular}\n"
      ],
      "text/markdown": [
       "\n",
       "A tibble: 3 × 3\n",
       "\n",
       "| .metric &lt;chr&gt; | .estimator &lt;chr&gt; | .estimate &lt;dbl&gt; |\n",
       "|---|---|---|\n",
       "| rmse | standard | 6.1220173 |\n",
       "| rsq  | standard | 0.6536976 |\n",
       "| mae  | standard | 3.8781170 |\n",
       "\n"
      ],
      "text/plain": [
       "  .metric .estimator .estimate\n",
       "1 rmse    standard   6.1220173\n",
       "2 rsq     standard   0.6536976\n",
       "3 mae     standard   3.8781170"
      ]
     },
     "metadata": {},
     "output_type": "display_data"
    }
   ],
   "source": [
    "yardstick::metrics(data_evaluation_linear,truth=medv,estimate=.pred)\n",
    "\n",
    "#<xml xmlns=\"https://developers.google.com/blockly/xml\"><variables><variable id=\"M8O}^6C_fm;DGZt9!{=e\">yardstick</variable><variable id=\"tXm^@Fh6oY}MV/OZ@HMZ\">data_evaluation_linear</variable></variables><block type=\"varDoMethod_R\" id=\"3=uPQBiVy7N)`7+V2G3A\" x=\"84\" y=\"-223\"><mutation items=\"3\"></mutation><field name=\"VAR\" id=\"M8O}^6C_fm;DGZt9!{=e\">yardstick</field><field name=\"MEMBER\">metrics</field><data>yardstick:metrics</data><value name=\"ADD0\"><block type=\"variables_get\" id=\"%2#(Hz]Y1fc+k+N4`fuT\"><field name=\"VAR\" id=\"tXm^@Fh6oY}MV/OZ@HMZ\">data_evaluation_linear</field></block></value><value name=\"ADD1\"><block type=\"dummyOutputCodeBlock_R\" id=\"|?##0km!A[E=#RczhyQ5\"><field name=\"CODE\">truth=medv</field></block></value><value name=\"ADD2\"><block type=\"dummyOutputCodeBlock_R\" id=\"bM:qFf8W1`^^}?Cpw8x3\"><field name=\"CODE\">estimate=.pred</field></block></value></block></xml>"
   ]
  },
  {
   "cell_type": "markdown",
   "metadata": {},
   "source": [
    "------------------------\n",
    "**QUESTION:**\n",
    "\n",
    "Is this a good $r^2$?"
   ]
  },
  {
   "cell_type": "markdown",
   "metadata": {},
   "source": [
    "**ANSWER: (click here to edit)**\n",
    "\n",
    "*It's pretty good, especially since it is on test data.*\n",
    "\n",
    "------------------------"
   ]
  },
  {
   "cell_type": "markdown",
   "metadata": {},
   "source": [
    "Print the coefficients of the model, sorted by `estimate`."
   ]
  },
  {
   "cell_type": "code",
   "execution_count": 14,
   "metadata": {},
   "outputs": [
    {
     "data": {
      "text/html": [
       "<table class=\"dataframe\">\n",
       "<caption>A tibble: 13 × 5</caption>\n",
       "<thead>\n",
       "\t<tr><th scope=col>term</th><th scope=col>estimate</th><th scope=col>std.error</th><th scope=col>statistic</th><th scope=col>p.value</th></tr>\n",
       "\t<tr><th scope=col>&lt;chr&gt;</th><th scope=col>&lt;dbl&gt;</th><th scope=col>&lt;dbl&gt;</th><th scope=col>&lt;dbl&gt;</th><th scope=col>&lt;dbl&gt;</th></tr>\n",
       "</thead>\n",
       "<tbody>\n",
       "\t<tr><td>lstat  </td><td>-3.301121</td><td>0.3817130</td><td>-8.648174</td><td>1.368869e-16</td></tr>\n",
       "\t<tr><td>dis    </td><td>-3.068551</td><td>0.4483578</td><td>-6.843979</td><td>2.988956e-11</td></tr>\n",
       "\t<tr><td>nox    </td><td>-2.387498</td><td>0.4572891</td><td>-5.220983</td><td>2.897307e-07</td></tr>\n",
       "\t<tr><td>ptratio</td><td>-2.160795</td><td>0.2961015</td><td>-7.297481</td><td>1.649013e-12</td></tr>\n",
       "\t<tr><td>tax    </td><td>-2.081140</td><td>0.6457682</td><td>-3.222735</td><td>1.376213e-03</td></tr>\n",
       "\t<tr><td>⋮</td><td>⋮</td><td>⋮</td><td>⋮</td><td>⋮</td></tr>\n",
       "\t<tr><td>chas       </td><td> 0.4703702</td><td>0.2303879</td><td>  2.041644</td><td> 4.185755e-02</td></tr>\n",
       "\t<tr><td>zn         </td><td> 1.0670400</td><td>0.3407319</td><td>  3.131612</td><td> 1.869277e-03</td></tr>\n",
       "\t<tr><td>rad        </td><td> 2.1316173</td><td>0.6001319</td><td>  3.551915</td><td> 4.291016e-04</td></tr>\n",
       "\t<tr><td>rm         </td><td> 2.7730762</td><td>0.3120836</td><td>  8.885684</td><td> 2.350108e-17</td></tr>\n",
       "\t<tr><td>(Intercept)</td><td>22.1844059</td><td>0.2213040</td><td>100.244021</td><td>5.364584e-281</td></tr>\n",
       "</tbody>\n",
       "</table>\n"
      ],
      "text/latex": [
       "A tibble: 13 × 5\n",
       "\\begin{tabular}{lllll}\n",
       " term & estimate & std.error & statistic & p.value\\\\\n",
       " <chr> & <dbl> & <dbl> & <dbl> & <dbl>\\\\\n",
       "\\hline\n",
       "\t lstat   & -3.301121 & 0.3817130 & -8.648174 & 1.368869e-16\\\\\n",
       "\t dis     & -3.068551 & 0.4483578 & -6.843979 & 2.988956e-11\\\\\n",
       "\t nox     & -2.387498 & 0.4572891 & -5.220983 & 2.897307e-07\\\\\n",
       "\t ptratio & -2.160795 & 0.2961015 & -7.297481 & 1.649013e-12\\\\\n",
       "\t tax     & -2.081140 & 0.6457682 & -3.222735 & 1.376213e-03\\\\\n",
       "\t ⋮ & ⋮ & ⋮ & ⋮ & ⋮\\\\\n",
       "\t chas        &  0.4703702 & 0.2303879 &   2.041644 &  4.185755e-02\\\\\n",
       "\t zn          &  1.0670400 & 0.3407319 &   3.131612 &  1.869277e-03\\\\\n",
       "\t rad         &  2.1316173 & 0.6001319 &   3.551915 &  4.291016e-04\\\\\n",
       "\t rm          &  2.7730762 & 0.3120836 &   8.885684 &  2.350108e-17\\\\\n",
       "\t (Intercept) & 22.1844059 & 0.2213040 & 100.244021 & 5.364584e-281\\\\\n",
       "\\end{tabular}\n"
      ],
      "text/markdown": [
       "\n",
       "A tibble: 13 × 5\n",
       "\n",
       "| term &lt;chr&gt; | estimate &lt;dbl&gt; | std.error &lt;dbl&gt; | statistic &lt;dbl&gt; | p.value &lt;dbl&gt; |\n",
       "|---|---|---|---|---|\n",
       "| lstat   | -3.301121 | 0.3817130 | -8.648174 | 1.368869e-16 |\n",
       "| dis     | -3.068551 | 0.4483578 | -6.843979 | 2.988956e-11 |\n",
       "| nox     | -2.387498 | 0.4572891 | -5.220983 | 2.897307e-07 |\n",
       "| ptratio | -2.160795 | 0.2961015 | -7.297481 | 1.649013e-12 |\n",
       "| tax     | -2.081140 | 0.6457682 | -3.222735 | 1.376213e-03 |\n",
       "| ⋮ | ⋮ | ⋮ | ⋮ | ⋮ |\n",
       "| chas        |  0.4703702 | 0.2303879 |   2.041644 |  4.185755e-02 |\n",
       "| zn          |  1.0670400 | 0.3407319 |   3.131612 |  1.869277e-03 |\n",
       "| rad         |  2.1316173 | 0.6001319 |   3.551915 |  4.291016e-04 |\n",
       "| rm          |  2.7730762 | 0.3120836 |   8.885684 |  2.350108e-17 |\n",
       "| (Intercept) | 22.1844059 | 0.2213040 | 100.244021 | 5.364584e-281 |\n",
       "\n"
      ],
      "text/plain": [
       "   term        estimate   std.error statistic  p.value      \n",
       "1  lstat       -3.301121  0.3817130 -8.648174  1.368869e-16 \n",
       "2  dis         -3.068551  0.4483578 -6.843979  2.988956e-11 \n",
       "3  nox         -2.387498  0.4572891 -5.220983  2.897307e-07 \n",
       "4  ptratio     -2.160795  0.2961015 -7.297481  1.649013e-12 \n",
       "5  tax         -2.081140  0.6457682 -3.222735  1.376213e-03 \n",
       "⋮  ⋮           ⋮          ⋮         ⋮          ⋮            \n",
       "9  chas         0.4703702 0.2303879   2.041644  4.185755e-02\n",
       "10 zn           1.0670400 0.3407319   3.131612  1.869277e-03\n",
       "11 rad          2.1316173 0.6001319   3.551915  4.291016e-04\n",
       "12 rm           2.7730762 0.3120836   8.885684  2.350108e-17\n",
       "13 (Intercept) 22.1844059 0.2213040 100.244021 5.364584e-281"
      ]
     },
     "metadata": {},
     "output_type": "display_data"
    }
   ],
   "source": [
    "model_linear %>%\n",
    "    generics::tidy() %>%\n",
    "    dplyr::arrange(estimate)\n",
    "\n",
    "#<xml xmlns=\"https://developers.google.com/blockly/xml\"><variables><variable id=\"|VNeB7,NnQ:]Hqqxnn$=\">model_linear</variable><variable id=\"w(9-o9gLSDEJ,]Qt}e!^\">generics</variable><variable id=\"`IEAx*Bh}E,Y}mK;jr;{\">dplyr</variable></variables><block type=\"pipe_R\" id=\"H7i~sa]ah7T)N].84nS2\" x=\"8\" y=\"-102\"><mutation items=\"2\"></mutation><value name=\"INPUT\"><block type=\"variables_get\" id=\"8~/HV)xCsSb.yev`WNK!\"><field name=\"VAR\" id=\"|VNeB7,NnQ:]Hqqxnn$=\">model_linear</field></block></value><value name=\"ADD0\"><block type=\"varDoMethod_R\" id=\"+3g*L{1nxRT|C~UI/o*f\"><mutation items=\"1\"></mutation><field name=\"VAR\" id=\"w(9-o9gLSDEJ,]Qt}e!^\">generics</field><field name=\"MEMBER\">tidy</field><data>generics:tidy</data></block></value><value name=\"ADD1\"><block type=\"varDoMethod_R\" id=\"UU9k!xmXR7N#k}(s@@~(\"><mutation items=\"1\"></mutation><field name=\"VAR\" id=\"`IEAx*Bh}E,Y}mK;jr;{\">dplyr</field><field name=\"MEMBER\">arrange</field><data>dplyr:arrange</data><value name=\"ADD0\"><block type=\"dummyOutputCodeBlock_R\" id=\"gLvCTMI+F#3x?`}Olr!:\"><field name=\"CODE\">estimate</field></block></value></block></value></block></xml>"
   ]
  },
  {
   "cell_type": "markdown",
   "metadata": {},
   "source": [
    "------------------------\n",
    "**QUESTION:**\n",
    "\n",
    "What are the two variables that most positively impact house price?\n",
    "What are the two variables that most negatively impact house price?"
   ]
  },
  {
   "cell_type": "markdown",
   "metadata": {},
   "source": [
    "**ANSWER: (click here to edit)**\n",
    "\n",
    "*Positive: `rm` (rooms per dwelling) and `rad` (distance to highway)\n",
    "Negative: `lstat` (lower status) and `nox` (air quality). Answers may vary based on the data split.*\n",
    "\n",
    "------------------------"
   ]
  },
  {
   "cell_type": "markdown",
   "metadata": {},
   "source": [
    "<!-- TODO: might be worth doing diagnostics for each model, though I'm concerned about how long that would take -->"
   ]
  },
  {
   "cell_type": "markdown",
   "metadata": {},
   "source": [
    "## Model 2: Lasso regression (penalty=.25)"
   ]
  },
  {
   "cell_type": "markdown",
   "metadata": {},
   "source": [
    "### Training\n",
    "\n",
    "Next train a lasso regression model with a penalty of .25.\n",
    "Make a workflow with scaling, fit it, and augment data all in one cell.\n",
    "Remember you are predicting `medv` using all other variables, and you are using **linear** regression."
   ]
  },
  {
   "cell_type": "code",
   "execution_count": 16,
   "metadata": {},
   "outputs": [],
   "source": [
    "recipe = recipes::recipe(medv ~ .,data = data_train) %>%\n",
    "    recipes::step_normalize(recipes::all_numeric_predictors())\n",
    "model = parsnip::linear_reg(penalty = .25,mixture = 1) %>%\n",
    "    parsnip::set_mode(\"regression\") %>%\n",
    "    parsnip::set_engine(\"glmnet\")\n",
    "workflow = workflows::workflow() %>%\n",
    "    workflows::add_model(model) %>%\n",
    "    workflows::add_recipe(recipe)\n",
    "model_linear_lasso_25 = generics::fit(workflow,data = data_train)\n",
    "data_evaluation_linear_lasso_25 = generics::augment(model_linear_lasso_25,data_test)\n",
    "\n",
    "#<xml xmlns=\"https://developers.google.com/blockly/xml\"><variables><variable id=\"Oz8-33unXZJ?3~@*32r-\">recipe</variable><variable id=\"mgo;O)iX^5)A5.@gqIkA\">model</variable><variable id=\"v7B~eW}{zV,n~iX:qTJ-\">recipes</variable><variable id=\"BLc@7E0B7Y3=fus{uzCr\">workflow</variable><variable id=\"3q]Js%*Alzd]|p|FOe}-\">parsnip</variable><variable id=\"1X%sQ25]n$t/7kc!5?lD\">model_linear_lasso_25</variable><variable id=\"haMDnc8Uj|EjY^608!;]\">workflows</variable><variable id=\"w(9-o9gLSDEJ,]Qt}e!^\">generics</variable><variable id=\"q4T:Y~?0uCwWn_23vj}#\">data_evaluation_linear_lasso_25</variable><variable id=\"|q$XCeTWL%AdgT|]tbnU\">data_test</variable></variables><block type=\"variables_set\" id=\"w{}j6,P|-6Qepjtz/mj{\" x=\"-92\" y=\"98\"><field name=\"VAR\" id=\"Oz8-33unXZJ?3~@*32r-\">recipe</field><value name=\"VALUE\"><block type=\"pipe_R\" id=\"uzp8+LCnH{r`1Xn%3mdK\"><mutation items=\"1\"></mutation><value name=\"INPUT\"><block type=\"varDoMethod_R\" id=\"U^,K1TWD+}odaY!kExkh\"><mutation items=\"2\"></mutation><field name=\"VAR\" id=\"v7B~eW}{zV,n~iX:qTJ-\">recipes</field><field name=\"MEMBER\">recipe</field><data>recipes:recipe</data><value name=\"ADD0\"><block type=\"dummyOutputCodeBlock_R\" id=\"n(du-Q]_KTwoCFj6n|V5\"><field name=\"CODE\">medv ~ .</field></block></value><value name=\"ADD1\"><block type=\"dummyOutputCodeBlock_R\" id=\"lIU{_ql0epb7NH-C6Kvw\"><field name=\"CODE\">data = data_train</field></block></value></block></value><value name=\"ADD0\"><block type=\"varDoMethod_R\" id=\"5=08G^e872=?+){KI?5}\"><mutation items=\"1\"></mutation><field name=\"VAR\" id=\"v7B~eW}{zV,n~iX:qTJ-\">recipes</field><field name=\"MEMBER\">step_normalize</field><data>recipes:step_normalize</data><value name=\"ADD0\"><block type=\"varDoMethod_R\" id=\"4GS=rm//,9|E^?oX.CVv\"><mutation items=\"0\"></mutation><field name=\"VAR\" id=\"v7B~eW}{zV,n~iX:qTJ-\">recipes</field><field name=\"MEMBER\">all_numeric_predictors</field><data>recipes:all_numeric_predictors</data></block></value></block></value></block></value><next><block type=\"variables_set\" id=\"*(u89h_-M@(PB-!qP/1l\"><field name=\"VAR\" id=\"mgo;O)iX^5)A5.@gqIkA\">model</field><value name=\"VALUE\"><block type=\"pipe_R\" id=\"Oj1:/l+xksT^dSM;w{,g\"><mutation items=\"2\"></mutation><value name=\"INPUT\"><block type=\"varDoMethod_R\" id=\"m!?PwvZD%AJHhH1paJ[8\"><mutation items=\"2\"></mutation><field name=\"VAR\" id=\"3q]Js%*Alzd]|p|FOe}-\">parsnip</field><field name=\"MEMBER\">linear_reg</field><data>parsnip:linear_reg</data><value name=\"ADD0\"><block type=\"dummyOutputCodeBlock_R\" id=\"(5EIUtG1r[s`nFr6*q_o\"><field name=\"CODE\">penalty = .25</field></block></value><value name=\"ADD1\"><block type=\"dummyOutputCodeBlock_R\" id=\"Rz=`aMMZP1!)]onSuI[%\"><field name=\"CODE\">mixture = 1</field></block></value></block></value><value name=\"ADD0\"><block type=\"varDoMethod_R\" id=\"ady`8N}J*2BV_*AmtF`n\"><mutation items=\"1\"></mutation><field name=\"VAR\" id=\"3q]Js%*Alzd]|p|FOe}-\">parsnip</field><field name=\"MEMBER\">set_mode</field><data>parsnip:set_mode</data><value name=\"ADD0\"><block type=\"text\" id=\"#4#x{=R9!%aA:_,cHnF(\"><field name=\"TEXT\">regression</field></block></value></block></value><value name=\"ADD1\"><block type=\"varDoMethod_R\" id=\"bybPF(gahfhB3cmyy;/n\"><mutation items=\"1\"></mutation><field name=\"VAR\" id=\"3q]Js%*Alzd]|p|FOe}-\">parsnip</field><field name=\"MEMBER\">set_engine</field><data>parsnip:set_engine</data><value name=\"ADD0\"><block type=\"text\" id=\"v9=Ry*6UUQjzFr5Sy@,f\"><field name=\"TEXT\">glmnet</field></block></value></block></value></block></value><next><block type=\"variables_set\" id=\"f%c#[D)Zv:uHH6WY_TQI\"><field name=\"VAR\" id=\"BLc@7E0B7Y3=fus{uzCr\">workflow</field><value name=\"VALUE\"><block type=\"pipe_R\" id=\"Rk~*~r(!3iF+cvcz7IiD\"><mutation items=\"2\"></mutation><value name=\"INPUT\"><block type=\"varDoMethod_R\" id=\"H!7?PcsriTx,;-jJmb`7\"><mutation items=\"1\"></mutation><field name=\"VAR\" id=\"haMDnc8Uj|EjY^608!;]\">workflows</field><field name=\"MEMBER\">workflow</field><data>workflows:workflow</data></block></value><value name=\"ADD0\"><block type=\"varDoMethod_R\" id=\"CrWn^(|[{],FV=/-Jt!b\"><mutation items=\"1\"></mutation><field name=\"VAR\" id=\"haMDnc8Uj|EjY^608!;]\">workflows</field><field name=\"MEMBER\">add_model</field><data>workflows:add_model</data><value name=\"ADD0\"><block type=\"variables_get\" id=\"7MGIpZZh#XkK`d+ZY4h:\"><field name=\"VAR\" id=\"mgo;O)iX^5)A5.@gqIkA\">model</field></block></value></block></value><value name=\"ADD1\"><block type=\"varDoMethod_R\" id=\"L1.O)ZR~Ab`VSER(L}FZ\"><mutation items=\"1\"></mutation><field name=\"VAR\" id=\"haMDnc8Uj|EjY^608!;]\">workflows</field><field name=\"MEMBER\">add_recipe</field><data>workflows:add_recipe</data><value name=\"ADD0\"><block type=\"variables_get\" id=\"U.@@S3Rdx{:xKxE[Fsx]\"><field name=\"VAR\" id=\"Oz8-33unXZJ?3~@*32r-\">recipe</field></block></value></block></value></block></value><next><block type=\"variables_set\" id=\"uPz?0#f)qaDo*K{v~.T#\"><field name=\"VAR\" id=\"1X%sQ25]n$t/7kc!5?lD\">model_linear_lasso_25</field><value name=\"VALUE\"><block type=\"varDoMethod_R\" id=\"1k%URX)R$N[Sz+Af]Bp-\"><mutation items=\"2\"></mutation><field name=\"VAR\" id=\"w(9-o9gLSDEJ,]Qt}e!^\">generics</field><field name=\"MEMBER\">fit</field><data>generics:fit</data><value name=\"ADD0\"><block type=\"variables_get\" id=\"EOhqDQRWe?r|ILuJX4/t\"><field name=\"VAR\" id=\"BLc@7E0B7Y3=fus{uzCr\">workflow</field></block></value><value name=\"ADD1\"><block type=\"dummyOutputCodeBlock_R\" id=\"[_z9jOR|uGR]AC:laZe;\"><field name=\"CODE\">data = data_train</field></block></value></block></value><next><block type=\"variables_set\" id=\"_5S[h.UFv,L8;N3+2uhP\"><field name=\"VAR\" id=\"q4T:Y~?0uCwWn_23vj}#\">data_evaluation_linear_lasso_25</field><value name=\"VALUE\"><block type=\"varDoMethod_R\" id=\"G^kD}UQ+AQ+2.6Z*BbT#\"><mutation items=\"2\"></mutation><field name=\"VAR\" id=\"w(9-o9gLSDEJ,]Qt}e!^\">generics</field><field name=\"MEMBER\">augment</field><data>generics:augment</data><value name=\"ADD0\"><block type=\"variables_get\" id=\"t(UW+qq9JfeWzk.ROh!O\"><field name=\"VAR\" id=\"1X%sQ25]n$t/7kc!5?lD\">model_linear_lasso_25</field></block></value><value name=\"ADD1\"><block type=\"variables_get\" id=\"t?9CE.G3ce=.Vv7A|Ig/\"><field name=\"VAR\" id=\"|q$XCeTWL%AdgT|]tbnU\">data_test</field></block></value></block></value></block></next></block></next></block></next></block></next></block></xml>"
   ]
  },
  {
   "cell_type": "markdown",
   "metadata": {},
   "source": [
    "### Evaluation\n",
    "\n",
    "Get the $r^2$ on the test split."
   ]
  },
  {
   "cell_type": "code",
   "execution_count": 17,
   "metadata": {},
   "outputs": [
    {
     "data": {
      "text/html": [
       "<table class=\"dataframe\">\n",
       "<caption>A tibble: 3 × 3</caption>\n",
       "<thead>\n",
       "\t<tr><th scope=col>.metric</th><th scope=col>.estimator</th><th scope=col>.estimate</th></tr>\n",
       "\t<tr><th scope=col>&lt;chr&gt;</th><th scope=col>&lt;chr&gt;</th><th scope=col>&lt;dbl&gt;</th></tr>\n",
       "</thead>\n",
       "<tbody>\n",
       "\t<tr><td>rmse</td><td>standard</td><td>6.3930869</td></tr>\n",
       "\t<tr><td>rsq </td><td>standard</td><td>0.6203586</td></tr>\n",
       "\t<tr><td>mae </td><td>standard</td><td>3.9387304</td></tr>\n",
       "</tbody>\n",
       "</table>\n"
      ],
      "text/latex": [
       "A tibble: 3 × 3\n",
       "\\begin{tabular}{lll}\n",
       " .metric & .estimator & .estimate\\\\\n",
       " <chr> & <chr> & <dbl>\\\\\n",
       "\\hline\n",
       "\t rmse & standard & 6.3930869\\\\\n",
       "\t rsq  & standard & 0.6203586\\\\\n",
       "\t mae  & standard & 3.9387304\\\\\n",
       "\\end{tabular}\n"
      ],
      "text/markdown": [
       "\n",
       "A tibble: 3 × 3\n",
       "\n",
       "| .metric &lt;chr&gt; | .estimator &lt;chr&gt; | .estimate &lt;dbl&gt; |\n",
       "|---|---|---|\n",
       "| rmse | standard | 6.3930869 |\n",
       "| rsq  | standard | 0.6203586 |\n",
       "| mae  | standard | 3.9387304 |\n",
       "\n"
      ],
      "text/plain": [
       "  .metric .estimator .estimate\n",
       "1 rmse    standard   6.3930869\n",
       "2 rsq     standard   0.6203586\n",
       "3 mae     standard   3.9387304"
      ]
     },
     "metadata": {},
     "output_type": "display_data"
    }
   ],
   "source": [
    "yardstick::metrics(data_evaluation_linear_lasso_25,truth=medv,estimate=.pred)\n",
    "\n",
    "#<xml xmlns=\"https://developers.google.com/blockly/xml\"><variables><variable id=\"M8O}^6C_fm;DGZt9!{=e\">yardstick</variable><variable id=\"q4T:Y~?0uCwWn_23vj}#\">data_evaluation_linear_lasso_25</variable></variables><block type=\"varDoMethod_R\" id=\"3=uPQBiVy7N)`7+V2G3A\" x=\"84\" y=\"-223\"><mutation items=\"3\"></mutation><field name=\"VAR\" id=\"M8O}^6C_fm;DGZt9!{=e\">yardstick</field><field name=\"MEMBER\">metrics</field><data>yardstick:metrics</data><value name=\"ADD0\"><block type=\"variables_get\" id=\"%2#(Hz]Y1fc+k+N4`fuT\"><field name=\"VAR\" id=\"q4T:Y~?0uCwWn_23vj}#\">data_evaluation_linear_lasso_25</field></block></value><value name=\"ADD1\"><block type=\"dummyOutputCodeBlock_R\" id=\"|?##0km!A[E=#RczhyQ5\"><field name=\"CODE\">truth=medv</field></block></value><value name=\"ADD2\"><block type=\"dummyOutputCodeBlock_R\" id=\"bM:qFf8W1`^^}?Cpw8x3\"><field name=\"CODE\">estimate=.pred</field></block></value></block></xml>"
   ]
  },
  {
   "cell_type": "markdown",
   "metadata": {},
   "source": [
    "------------------------\n",
    "**QUESTION:**\n",
    "\n",
    "How does this compare to the previous $r^2$? \n",
    "Should we be concerned?"
   ]
  },
  {
   "cell_type": "markdown",
   "metadata": {},
   "source": [
    "**ANSWER: (click here to edit)**\n",
    "\n",
    "*We lost 3-4% of the variance, but since we know our variables are highly correlated, we might be OK with that. We should look at the model to decide.*\n",
    "\n",
    "------------------------"
   ]
  },
  {
   "cell_type": "markdown",
   "metadata": {},
   "source": [
    "Print the nonzero coefficients, sorted by `estimate`."
   ]
  },
  {
   "cell_type": "code",
   "execution_count": 19,
   "metadata": {},
   "outputs": [
    {
     "data": {
      "text/html": [
       "<table class=\"dataframe\">\n",
       "<caption>A tibble: 10 × 3</caption>\n",
       "<thead>\n",
       "\t<tr><th scope=col>term</th><th scope=col>estimate</th><th scope=col>penalty</th></tr>\n",
       "\t<tr><th scope=col>&lt;chr&gt;</th><th scope=col>&lt;dbl&gt;</th><th scope=col>&lt;dbl&gt;</th></tr>\n",
       "</thead>\n",
       "<tbody>\n",
       "\t<tr><td>lstat      </td><td>-3.1385282</td><td>0.25</td></tr>\n",
       "\t<tr><td>ptratio    </td><td>-1.9532601</td><td>0.25</td></tr>\n",
       "\t<tr><td>dis        </td><td>-1.3476498</td><td>0.25</td></tr>\n",
       "\t<tr><td>nox        </td><td>-1.2386702</td><td>0.25</td></tr>\n",
       "\t<tr><td>crim       </td><td>-0.4079866</td><td>0.25</td></tr>\n",
       "\t<tr><td>tax        </td><td>-0.3509116</td><td>0.25</td></tr>\n",
       "\t<tr><td>zn         </td><td> 0.1935485</td><td>0.25</td></tr>\n",
       "\t<tr><td>chas       </td><td> 0.2999464</td><td>0.25</td></tr>\n",
       "\t<tr><td>rm         </td><td> 3.1101730</td><td>0.25</td></tr>\n",
       "\t<tr><td>(Intercept)</td><td>22.1844059</td><td>0.25</td></tr>\n",
       "</tbody>\n",
       "</table>\n"
      ],
      "text/latex": [
       "A tibble: 10 × 3\n",
       "\\begin{tabular}{lll}\n",
       " term & estimate & penalty\\\\\n",
       " <chr> & <dbl> & <dbl>\\\\\n",
       "\\hline\n",
       "\t lstat       & -3.1385282 & 0.25\\\\\n",
       "\t ptratio     & -1.9532601 & 0.25\\\\\n",
       "\t dis         & -1.3476498 & 0.25\\\\\n",
       "\t nox         & -1.2386702 & 0.25\\\\\n",
       "\t crim        & -0.4079866 & 0.25\\\\\n",
       "\t tax         & -0.3509116 & 0.25\\\\\n",
       "\t zn          &  0.1935485 & 0.25\\\\\n",
       "\t chas        &  0.2999464 & 0.25\\\\\n",
       "\t rm          &  3.1101730 & 0.25\\\\\n",
       "\t (Intercept) & 22.1844059 & 0.25\\\\\n",
       "\\end{tabular}\n"
      ],
      "text/markdown": [
       "\n",
       "A tibble: 10 × 3\n",
       "\n",
       "| term &lt;chr&gt; | estimate &lt;dbl&gt; | penalty &lt;dbl&gt; |\n",
       "|---|---|---|\n",
       "| lstat       | -3.1385282 | 0.25 |\n",
       "| ptratio     | -1.9532601 | 0.25 |\n",
       "| dis         | -1.3476498 | 0.25 |\n",
       "| nox         | -1.2386702 | 0.25 |\n",
       "| crim        | -0.4079866 | 0.25 |\n",
       "| tax         | -0.3509116 | 0.25 |\n",
       "| zn          |  0.1935485 | 0.25 |\n",
       "| chas        |  0.2999464 | 0.25 |\n",
       "| rm          |  3.1101730 | 0.25 |\n",
       "| (Intercept) | 22.1844059 | 0.25 |\n",
       "\n"
      ],
      "text/plain": [
       "   term        estimate   penalty\n",
       "1  lstat       -3.1385282 0.25   \n",
       "2  ptratio     -1.9532601 0.25   \n",
       "3  dis         -1.3476498 0.25   \n",
       "4  nox         -1.2386702 0.25   \n",
       "5  crim        -0.4079866 0.25   \n",
       "6  tax         -0.3509116 0.25   \n",
       "7  zn           0.1935485 0.25   \n",
       "8  chas         0.2999464 0.25   \n",
       "9  rm           3.1101730 0.25   \n",
       "10 (Intercept) 22.1844059 0.25   "
      ]
     },
     "metadata": {},
     "output_type": "display_data"
    }
   ],
   "source": [
    "model_linear_lasso_25 %>%\n",
    "    hardhat::extract_fit_parsnip() %>%\n",
    "    generics::tidy() %>%\n",
    "    dplyr::filter(estimate!=0) %>%\n",
    "    dplyr::arrange(estimate)\n",
    "\n",
    "#<xml xmlns=\"https://developers.google.com/blockly/xml\"><variables><variable id=\"1X%sQ25]n$t/7kc!5?lD\">model_linear_lasso_25</variable><variable id=\"{5PU6CE0j[[^yJ79kBMR\">hardhat</variable><variable id=\"w(9-o9gLSDEJ,]Qt}e!^\">generics</variable><variable id=\"`IEAx*Bh}E,Y}mK;jr;{\">dplyr</variable></variables><block type=\"pipe_R\" id=\"wOW%V1zWHj{dKgZX0nE}\" x=\"195\" y=\"-59\"><mutation items=\"4\"></mutation><value name=\"INPUT\"><block type=\"variables_get\" id=\"0W2*rlQ3H8[6N_,2{+3E\"><field name=\"VAR\" id=\"1X%sQ25]n$t/7kc!5?lD\">model_linear_lasso_25</field></block></value><value name=\"ADD0\"><block type=\"varDoMethod_R\" id=\",!`Ide3T7c9BtktumWu{\"><mutation items=\"1\"></mutation><field name=\"VAR\" id=\"{5PU6CE0j[[^yJ79kBMR\">hardhat</field><field name=\"MEMBER\">extract_fit_parsnip</field><data>hardhat:extract_fit_parsnip</data></block></value><value name=\"ADD1\"><block type=\"varDoMethod_R\" id=\"XBsws]^r.aQRran0~N3V\"><mutation items=\"1\"></mutation><field name=\"VAR\" id=\"w(9-o9gLSDEJ,]Qt}e!^\">generics</field><field name=\"MEMBER\">tidy</field><data>generics:tidy</data></block></value><value name=\"ADD2\"><block type=\"varDoMethod_R\" id=\"ONRJZje2;TcI:(@,q/+]\"><mutation items=\"1\"></mutation><field name=\"VAR\" id=\"`IEAx*Bh}E,Y}mK;jr;{\">dplyr</field><field name=\"MEMBER\">filter</field><data>dplyr:filter</data><value name=\"ADD0\"><block type=\"dummyOutputCodeBlock_R\" id=\"i!*hO?TiXoN*II:*+.mm\"><field name=\"CODE\">estimate!=0</field></block></value></block></value><value name=\"ADD3\"><block type=\"varDoMethod_R\" id=\"T3CQI^jrhE^uloQD(;wt\"><mutation items=\"1\"></mutation><field name=\"VAR\" id=\"`IEAx*Bh}E,Y}mK;jr;{\">dplyr</field><field name=\"MEMBER\">arrange</field><data>dplyr:arrange</data><value name=\"ADD0\"><block type=\"dummyOutputCodeBlock_R\" id=\"@Q*o!S$KiCc8xCcy|yC(\"><field name=\"CODE\">estimate</field></block></value></block></value></block></xml>"
   ]
  },
  {
   "cell_type": "markdown",
   "metadata": {},
   "source": [
    "------------------------\n",
    "**QUESTION:**\n",
    "\n",
    "What are the two variables that most positively impact house price?\n",
    "What are the two variables that most negatively impact house price?\n",
    "How is this different from before?"
   ]
  },
  {
   "cell_type": "markdown",
   "metadata": {},
   "source": [
    "**ANSWER: (click here to edit)**\n",
    "\n",
    "*Positive: `rm` (rooms per dwelling) and `chas` (next to river)\n",
    "Negative: `lstat` (lower status) and `ptratio` (teacher ratio).*\n",
    "Both `rad` and `nox` changed. `rad` went to zero and `nox` went towards zero.\n",
    "\n",
    "------------------------"
   ]
  },
  {
   "cell_type": "markdown",
   "metadata": {},
   "source": [
    "## Model 3: Lasso regression (penalty=.75)"
   ]
  },
  {
   "cell_type": "markdown",
   "metadata": {},
   "source": [
    "### Training\n",
    "\n",
    "Make another lasso regression workflow using penalty=.75, implementing all the steps as before to create augmented test data."
   ]
  },
  {
   "cell_type": "code",
   "execution_count": 20,
   "metadata": {},
   "outputs": [],
   "source": [
    "recipe = recipes::recipe(medv ~ .,data = data_train) %>%\n",
    "    recipes::step_normalize(recipes::all_numeric_predictors())\n",
    "model = parsnip::linear_reg(penalty = .75,mixture = 1) %>%\n",
    "    parsnip::set_mode(\"regression\") %>%\n",
    "    parsnip::set_engine(\"glmnet\")\n",
    "workflow = workflows::workflow() %>%\n",
    "    workflows::add_model(model) %>%\n",
    "    workflows::add_recipe(recipe)\n",
    "model_linear_lasso_75 = generics::fit(workflow,data = data_train)\n",
    "data_evaluation_linear_lasso_75 = generics::augment(model_linear_lasso_75,data_test)\n",
    "\n",
    "#<xml xmlns=\"https://developers.google.com/blockly/xml\"><variables><variable id=\"Oz8-33unXZJ?3~@*32r-\">recipe</variable><variable id=\"mgo;O)iX^5)A5.@gqIkA\">model</variable><variable id=\"v7B~eW}{zV,n~iX:qTJ-\">recipes</variable><variable id=\"BLc@7E0B7Y3=fus{uzCr\">workflow</variable><variable id=\"3q]Js%*Alzd]|p|FOe}-\">parsnip</variable><variable id=\"85}qi.u.^dqfDy*P,*is\">model_linear_lasso_75</variable><variable id=\"haMDnc8Uj|EjY^608!;]\">workflows</variable><variable id=\"w(9-o9gLSDEJ,]Qt}e!^\">generics</variable><variable id=\"|ni)9enfq4xLET^Q_fVb\">data_evaluation_linear_lasso_75</variable><variable id=\"|q$XCeTWL%AdgT|]tbnU\">data_test</variable></variables><block type=\"variables_set\" id=\"w{}j6,P|-6Qepjtz/mj{\" x=\"-92\" y=\"98\"><field name=\"VAR\" id=\"Oz8-33unXZJ?3~@*32r-\">recipe</field><value name=\"VALUE\"><block type=\"pipe_R\" id=\"uzp8+LCnH{r`1Xn%3mdK\"><mutation items=\"1\"></mutation><value name=\"INPUT\"><block type=\"varDoMethod_R\" id=\"U^,K1TWD+}odaY!kExkh\"><mutation items=\"2\"></mutation><field name=\"VAR\" id=\"v7B~eW}{zV,n~iX:qTJ-\">recipes</field><field name=\"MEMBER\">recipe</field><data>recipes:recipe</data><value name=\"ADD0\"><block type=\"dummyOutputCodeBlock_R\" id=\"n(du-Q]_KTwoCFj6n|V5\"><field name=\"CODE\">medv ~ .</field></block></value><value name=\"ADD1\"><block type=\"dummyOutputCodeBlock_R\" id=\"lIU{_ql0epb7NH-C6Kvw\"><field name=\"CODE\">data = data_train</field></block></value></block></value><value name=\"ADD0\"><block type=\"varDoMethod_R\" id=\"5=08G^e872=?+){KI?5}\"><mutation items=\"1\"></mutation><field name=\"VAR\" id=\"v7B~eW}{zV,n~iX:qTJ-\">recipes</field><field name=\"MEMBER\">step_normalize</field><data>recipes:step_normalize</data><value name=\"ADD0\"><block type=\"varDoMethod_R\" id=\"4GS=rm//,9|E^?oX.CVv\"><mutation items=\"0\"></mutation><field name=\"VAR\" id=\"v7B~eW}{zV,n~iX:qTJ-\">recipes</field><field name=\"MEMBER\">all_numeric_predictors</field><data>recipes:all_numeric_predictors</data></block></value></block></value></block></value><next><block type=\"variables_set\" id=\"*(u89h_-M@(PB-!qP/1l\"><field name=\"VAR\" id=\"mgo;O)iX^5)A5.@gqIkA\">model</field><value name=\"VALUE\"><block type=\"pipe_R\" id=\"Oj1:/l+xksT^dSM;w{,g\"><mutation items=\"2\"></mutation><value name=\"INPUT\"><block type=\"varDoMethod_R\" id=\"m!?PwvZD%AJHhH1paJ[8\"><mutation items=\"2\"></mutation><field name=\"VAR\" id=\"3q]Js%*Alzd]|p|FOe}-\">parsnip</field><field name=\"MEMBER\">linear_reg</field><data>parsnip:linear_reg</data><value name=\"ADD0\"><block type=\"dummyOutputCodeBlock_R\" id=\"(5EIUtG1r[s`nFr6*q_o\"><field name=\"CODE\">penalty = .75</field></block></value><value name=\"ADD1\"><block type=\"dummyOutputCodeBlock_R\" id=\"Rz=`aMMZP1!)]onSuI[%\"><field name=\"CODE\">mixture = 1</field></block></value></block></value><value name=\"ADD0\"><block type=\"varDoMethod_R\" id=\"ady`8N}J*2BV_*AmtF`n\"><mutation items=\"1\"></mutation><field name=\"VAR\" id=\"3q]Js%*Alzd]|p|FOe}-\">parsnip</field><field name=\"MEMBER\">set_mode</field><data>parsnip:set_mode</data><value name=\"ADD0\"><block type=\"text\" id=\"#4#x{=R9!%aA:_,cHnF(\"><field name=\"TEXT\">regression</field></block></value></block></value><value name=\"ADD1\"><block type=\"varDoMethod_R\" id=\"bybPF(gahfhB3cmyy;/n\"><mutation items=\"1\"></mutation><field name=\"VAR\" id=\"3q]Js%*Alzd]|p|FOe}-\">parsnip</field><field name=\"MEMBER\">set_engine</field><data>parsnip:set_engine</data><value name=\"ADD0\"><block type=\"text\" id=\"v9=Ry*6UUQjzFr5Sy@,f\"><field name=\"TEXT\">glmnet</field></block></value></block></value></block></value><next><block type=\"variables_set\" id=\"f%c#[D)Zv:uHH6WY_TQI\"><field name=\"VAR\" id=\"BLc@7E0B7Y3=fus{uzCr\">workflow</field><value name=\"VALUE\"><block type=\"pipe_R\" id=\"Rk~*~r(!3iF+cvcz7IiD\"><mutation items=\"2\"></mutation><value name=\"INPUT\"><block type=\"varDoMethod_R\" id=\"H!7?PcsriTx,;-jJmb`7\"><mutation items=\"1\"></mutation><field name=\"VAR\" id=\"haMDnc8Uj|EjY^608!;]\">workflows</field><field name=\"MEMBER\">workflow</field><data>workflows:workflow</data></block></value><value name=\"ADD0\"><block type=\"varDoMethod_R\" id=\"CrWn^(|[{],FV=/-Jt!b\"><mutation items=\"1\"></mutation><field name=\"VAR\" id=\"haMDnc8Uj|EjY^608!;]\">workflows</field><field name=\"MEMBER\">add_model</field><data>workflows:add_model</data><value name=\"ADD0\"><block type=\"variables_get\" id=\"7MGIpZZh#XkK`d+ZY4h:\"><field name=\"VAR\" id=\"mgo;O)iX^5)A5.@gqIkA\">model</field></block></value></block></value><value name=\"ADD1\"><block type=\"varDoMethod_R\" id=\"L1.O)ZR~Ab`VSER(L}FZ\"><mutation items=\"1\"></mutation><field name=\"VAR\" id=\"haMDnc8Uj|EjY^608!;]\">workflows</field><field name=\"MEMBER\">add_recipe</field><data>workflows:add_recipe</data><value name=\"ADD0\"><block type=\"variables_get\" id=\"U.@@S3Rdx{:xKxE[Fsx]\"><field name=\"VAR\" id=\"Oz8-33unXZJ?3~@*32r-\">recipe</field></block></value></block></value></block></value><next><block type=\"variables_set\" id=\"uPz?0#f)qaDo*K{v~.T#\"><field name=\"VAR\" id=\"85}qi.u.^dqfDy*P,*is\">model_linear_lasso_75</field><value name=\"VALUE\"><block type=\"varDoMethod_R\" id=\"1k%URX)R$N[Sz+Af]Bp-\"><mutation items=\"2\"></mutation><field name=\"VAR\" id=\"w(9-o9gLSDEJ,]Qt}e!^\">generics</field><field name=\"MEMBER\">fit</field><data>generics:fit</data><value name=\"ADD0\"><block type=\"variables_get\" id=\"EOhqDQRWe?r|ILuJX4/t\"><field name=\"VAR\" id=\"BLc@7E0B7Y3=fus{uzCr\">workflow</field></block></value><value name=\"ADD1\"><block type=\"dummyOutputCodeBlock_R\" id=\"[_z9jOR|uGR]AC:laZe;\"><field name=\"CODE\">data = data_train</field></block></value></block></value><next><block type=\"variables_set\" id=\"_5S[h.UFv,L8;N3+2uhP\"><field name=\"VAR\" id=\"|ni)9enfq4xLET^Q_fVb\">data_evaluation_linear_lasso_75</field><value name=\"VALUE\"><block type=\"varDoMethod_R\" id=\"G^kD}UQ+AQ+2.6Z*BbT#\"><mutation items=\"2\"></mutation><field name=\"VAR\" id=\"w(9-o9gLSDEJ,]Qt}e!^\">generics</field><field name=\"MEMBER\">augment</field><data>generics:augment</data><value name=\"ADD0\"><block type=\"variables_get\" id=\"t(UW+qq9JfeWzk.ROh!O\"><field name=\"VAR\" id=\"85}qi.u.^dqfDy*P,*is\">model_linear_lasso_75</field></block></value><value name=\"ADD1\"><block type=\"variables_get\" id=\"t?9CE.G3ce=.Vv7A|Ig/\"><field name=\"VAR\" id=\"|q$XCeTWL%AdgT|]tbnU\">data_test</field></block></value></block></value></block></next></block></next></block></next></block></next></block></xml>"
   ]
  },
  {
   "cell_type": "markdown",
   "metadata": {},
   "source": [
    "### Evaluation\n",
    "\n",
    "Get the $r^2$ on the test splits."
   ]
  },
  {
   "cell_type": "code",
   "execution_count": 21,
   "metadata": {},
   "outputs": [
    {
     "data": {
      "text/html": [
       "<table class=\"dataframe\">\n",
       "<caption>A tibble: 3 × 3</caption>\n",
       "<thead>\n",
       "\t<tr><th scope=col>.metric</th><th scope=col>.estimator</th><th scope=col>.estimate</th></tr>\n",
       "\t<tr><th scope=col>&lt;chr&gt;</th><th scope=col>&lt;chr&gt;</th><th scope=col>&lt;dbl&gt;</th></tr>\n",
       "</thead>\n",
       "<tbody>\n",
       "\t<tr><td>rmse</td><td>standard</td><td>6.6711805</td></tr>\n",
       "\t<tr><td>rsq </td><td>standard</td><td>0.5882804</td></tr>\n",
       "\t<tr><td>mae </td><td>standard</td><td>4.1556031</td></tr>\n",
       "</tbody>\n",
       "</table>\n"
      ],
      "text/latex": [
       "A tibble: 3 × 3\n",
       "\\begin{tabular}{lll}\n",
       " .metric & .estimator & .estimate\\\\\n",
       " <chr> & <chr> & <dbl>\\\\\n",
       "\\hline\n",
       "\t rmse & standard & 6.6711805\\\\\n",
       "\t rsq  & standard & 0.5882804\\\\\n",
       "\t mae  & standard & 4.1556031\\\\\n",
       "\\end{tabular}\n"
      ],
      "text/markdown": [
       "\n",
       "A tibble: 3 × 3\n",
       "\n",
       "| .metric &lt;chr&gt; | .estimator &lt;chr&gt; | .estimate &lt;dbl&gt; |\n",
       "|---|---|---|\n",
       "| rmse | standard | 6.6711805 |\n",
       "| rsq  | standard | 0.5882804 |\n",
       "| mae  | standard | 4.1556031 |\n",
       "\n"
      ],
      "text/plain": [
       "  .metric .estimator .estimate\n",
       "1 rmse    standard   6.6711805\n",
       "2 rsq     standard   0.5882804\n",
       "3 mae     standard   4.1556031"
      ]
     },
     "metadata": {},
     "output_type": "display_data"
    }
   ],
   "source": [
    "yardstick::metrics(data_evaluation_linear_lasso_75,truth=medv,estimate=.pred)\n",
    "\n",
    "#<xml xmlns=\"https://developers.google.com/blockly/xml\"><variables><variable id=\"M8O}^6C_fm;DGZt9!{=e\">yardstick</variable><variable id=\"|ni)9enfq4xLET^Q_fVb\">data_evaluation_linear_lasso_75</variable></variables><block type=\"varDoMethod_R\" id=\"3=uPQBiVy7N)`7+V2G3A\" x=\"84\" y=\"-223\"><mutation items=\"3\"></mutation><field name=\"VAR\" id=\"M8O}^6C_fm;DGZt9!{=e\">yardstick</field><field name=\"MEMBER\">metrics</field><data>yardstick:metrics</data><value name=\"ADD0\"><block type=\"variables_get\" id=\"%2#(Hz]Y1fc+k+N4`fuT\"><field name=\"VAR\" id=\"|ni)9enfq4xLET^Q_fVb\">data_evaluation_linear_lasso_75</field></block></value><value name=\"ADD1\"><block type=\"dummyOutputCodeBlock_R\" id=\"|?##0km!A[E=#RczhyQ5\"><field name=\"CODE\">truth=medv</field></block></value><value name=\"ADD2\"><block type=\"dummyOutputCodeBlock_R\" id=\"bM:qFf8W1`^^}?Cpw8x3\"><field name=\"CODE\">estimate=.pred</field></block></value></block></xml>"
   ]
  },
  {
   "cell_type": "markdown",
   "metadata": {},
   "source": [
    "------------------------\n",
    "**QUESTION:**\n",
    "\n",
    "How does this compare to the previous $r^2$? \n",
    "Should we be concerned?"
   ]
  },
  {
   "cell_type": "markdown",
   "metadata": {},
   "source": [
    "**ANSWER: (click here to edit)**\n",
    "\n",
    "*We lost another 3-4% of the variance, which is more concerning. We should look at the model to decide.*\n",
    "\n",
    "------------------------"
   ]
  },
  {
   "cell_type": "markdown",
   "metadata": {},
   "source": [
    "Print the nonzero coefficients, sorted by `estimate`."
   ]
  },
  {
   "cell_type": "code",
   "execution_count": 23,
   "metadata": {},
   "outputs": [
    {
     "data": {
      "text/html": [
       "<table class=\"dataframe\">\n",
       "<caption>A tibble: 6 × 3</caption>\n",
       "<thead>\n",
       "\t<tr><th scope=col>term</th><th scope=col>estimate</th><th scope=col>penalty</th></tr>\n",
       "\t<tr><th scope=col>&lt;chr&gt;</th><th scope=col>&lt;dbl&gt;</th><th scope=col>&lt;dbl&gt;</th></tr>\n",
       "</thead>\n",
       "<tbody>\n",
       "\t<tr><td>lstat      </td><td>-3.04738719</td><td>0.75</td></tr>\n",
       "\t<tr><td>ptratio    </td><td>-1.62022936</td><td>0.75</td></tr>\n",
       "\t<tr><td>tax        </td><td>-0.48658794</td><td>0.75</td></tr>\n",
       "\t<tr><td>crim       </td><td>-0.06353968</td><td>0.75</td></tr>\n",
       "\t<tr><td>rm         </td><td> 3.00520397</td><td>0.75</td></tr>\n",
       "\t<tr><td>(Intercept)</td><td>22.18440594</td><td>0.75</td></tr>\n",
       "</tbody>\n",
       "</table>\n"
      ],
      "text/latex": [
       "A tibble: 6 × 3\n",
       "\\begin{tabular}{lll}\n",
       " term & estimate & penalty\\\\\n",
       " <chr> & <dbl> & <dbl>\\\\\n",
       "\\hline\n",
       "\t lstat       & -3.04738719 & 0.75\\\\\n",
       "\t ptratio     & -1.62022936 & 0.75\\\\\n",
       "\t tax         & -0.48658794 & 0.75\\\\\n",
       "\t crim        & -0.06353968 & 0.75\\\\\n",
       "\t rm          &  3.00520397 & 0.75\\\\\n",
       "\t (Intercept) & 22.18440594 & 0.75\\\\\n",
       "\\end{tabular}\n"
      ],
      "text/markdown": [
       "\n",
       "A tibble: 6 × 3\n",
       "\n",
       "| term &lt;chr&gt; | estimate &lt;dbl&gt; | penalty &lt;dbl&gt; |\n",
       "|---|---|---|\n",
       "| lstat       | -3.04738719 | 0.75 |\n",
       "| ptratio     | -1.62022936 | 0.75 |\n",
       "| tax         | -0.48658794 | 0.75 |\n",
       "| crim        | -0.06353968 | 0.75 |\n",
       "| rm          |  3.00520397 | 0.75 |\n",
       "| (Intercept) | 22.18440594 | 0.75 |\n",
       "\n"
      ],
      "text/plain": [
       "  term        estimate    penalty\n",
       "1 lstat       -3.04738719 0.75   \n",
       "2 ptratio     -1.62022936 0.75   \n",
       "3 tax         -0.48658794 0.75   \n",
       "4 crim        -0.06353968 0.75   \n",
       "5 rm           3.00520397 0.75   \n",
       "6 (Intercept) 22.18440594 0.75   "
      ]
     },
     "metadata": {},
     "output_type": "display_data"
    }
   ],
   "source": [
    "model_linear_lasso_75 %>%\n",
    "    hardhat::extract_fit_parsnip() %>%\n",
    "    generics::tidy() %>%\n",
    "    dplyr::filter(estimate!=0) %>%\n",
    "    dplyr::arrange(estimate)\n",
    "\n",
    "#<xml xmlns=\"https://developers.google.com/blockly/xml\"><variables><variable id=\"85}qi.u.^dqfDy*P,*is\">model_linear_lasso_75</variable><variable id=\"{5PU6CE0j[[^yJ79kBMR\">hardhat</variable><variable id=\"w(9-o9gLSDEJ,]Qt}e!^\">generics</variable><variable id=\"`IEAx*Bh}E,Y}mK;jr;{\">dplyr</variable></variables><block type=\"pipe_R\" id=\"wOW%V1zWHj{dKgZX0nE}\" x=\"195\" y=\"-59\"><mutation items=\"4\"></mutation><value name=\"INPUT\"><block type=\"variables_get\" id=\"0W2*rlQ3H8[6N_,2{+3E\"><field name=\"VAR\" id=\"85}qi.u.^dqfDy*P,*is\">model_linear_lasso_75</field></block></value><value name=\"ADD0\"><block type=\"varDoMethod_R\" id=\",!`Ide3T7c9BtktumWu{\"><mutation items=\"1\"></mutation><field name=\"VAR\" id=\"{5PU6CE0j[[^yJ79kBMR\">hardhat</field><field name=\"MEMBER\">extract_fit_parsnip</field><data>hardhat:extract_fit_parsnip</data></block></value><value name=\"ADD1\"><block type=\"varDoMethod_R\" id=\"XBsws]^r.aQRran0~N3V\"><mutation items=\"1\"></mutation><field name=\"VAR\" id=\"w(9-o9gLSDEJ,]Qt}e!^\">generics</field><field name=\"MEMBER\">tidy</field><data>generics:tidy</data></block></value><value name=\"ADD2\"><block type=\"varDoMethod_R\" id=\"ONRJZje2;TcI:(@,q/+]\"><mutation items=\"1\"></mutation><field name=\"VAR\" id=\"`IEAx*Bh}E,Y}mK;jr;{\">dplyr</field><field name=\"MEMBER\">filter</field><data>dplyr:filter</data><value name=\"ADD0\"><block type=\"dummyOutputCodeBlock_R\" id=\"i!*hO?TiXoN*II:*+.mm\"><field name=\"CODE\">estimate!=0</field></block></value></block></value><value name=\"ADD3\"><block type=\"varDoMethod_R\" id=\"T3CQI^jrhE^uloQD(;wt\"><mutation items=\"1\"></mutation><field name=\"VAR\" id=\"`IEAx*Bh}E,Y}mK;jr;{\">dplyr</field><field name=\"MEMBER\">arrange</field><data>dplyr:arrange</data><value name=\"ADD0\"><block type=\"dummyOutputCodeBlock_R\" id=\"@Q*o!S$KiCc8xCcy|yC(\"><field name=\"CODE\">estimate</field></block></value></block></value></block></xml>"
   ]
  },
  {
   "cell_type": "markdown",
   "metadata": {},
   "source": [
    "------------------------\n",
    "**QUESTION:**\n",
    "\n",
    "What are the two variables that most positively impact house price?\n",
    "What are the two variables that most negatively impact house price?\n",
    "How is this different from before?"
   ]
  },
  {
   "cell_type": "markdown",
   "metadata": {},
   "source": [
    "**ANSWER: (click here to edit)**\n",
    "\n",
    "*Positive: `rm` (rooms per dwelling), so `chas` has gone to zero.\n",
    "Negative: `lstat` (lower status) and `ptratio` (teacher ratio), so same as before*\n",
    "\n",
    "\n",
    "------------------------"
   ]
  },
  {
   "cell_type": "markdown",
   "metadata": {},
   "source": [
    "### Comparing Lasso models"
   ]
  },
  {
   "cell_type": "markdown",
   "metadata": {},
   "source": [
    "------------------------\n",
    "**QUESTION:**\n",
    "\n",
    "Which model do you prefer?\n",
    "Why?"
   ]
  },
  {
   "cell_type": "markdown",
   "metadata": {},
   "source": [
    "**ANSWER: (click here to edit)**\n",
    "\n",
    "*Probably 3 because it has narrowed down the variables so well.*\n",
    "\n"
   ]
  },
  {
   "cell_type": "markdown",
   "metadata": {},
   "source": [
    "------------------------\n",
    "**QUESTION:**\n",
    "\n",
    "Is there any model that you don't trust?\n",
    "Why?"
   ]
  },
  {
   "cell_type": "markdown",
   "metadata": {},
   "source": [
    "**ANSWER: (click here to edit)**\n",
    "\n",
    "*I don't trust model 1 b/c of the multicolinearity. The fact that models 2 and 3 are stable suggests they may have corrected the problem, so I trust them more.*\n",
    "\n",
    "------------------------"
   ]
  },
  {
   "cell_type": "markdown",
   "metadata": {},
   "source": [
    "**QUESTION:**\n",
    "\n",
    "If you were to more seriously investigate multicolinearity in this situation, what are other things you could do?"
   ]
  },
  {
   "cell_type": "markdown",
   "metadata": {},
   "source": [
    "**ANSWER: (click here to edit)**\n",
    "\n",
    "*More careful plots to understand the relationships between variables. Perhaps some variables can be excluded from the model manually. Also using ridge regression to compare against logistic regression might be a good idea to make sure they give similar results, since we know multicolinearity can make estimates unreliable.*\n",
    "\n",
    "------------------------"
   ]
  },
  {
   "cell_type": "markdown",
   "metadata": {},
   "source": [
    "**QUESTION:**\n",
    "\n",
    "What is the interpretation of the four most positive/negative coefficients in model 3 and their impact on house price?"
   ]
  },
  {
   "cell_type": "markdown",
   "metadata": {},
   "source": [
    "**ANSWER: (click here to edit)**\n",
    "\n",
    "*Because the data has been standardized, the coefficients represent standard deviations.\n",
    "So for each SD change in the variable, we expect a change in house prices equal the coefficient in SDs.\n",
    "For example, we expect a 1 SD increase in `lstat` to decrease house prices by 3.48 SDs.\n",
    "Since we know a house price SD is about \\\\$9,000 (from the descriptive statistics), that means a decline of about \\\\$31,500 in house prices for each 1 SD increase in `lstat`.*\n",
    "\n",
    "------------------------"
   ]
  },
  {
   "cell_type": "markdown",
   "metadata": {},
   "source": [
    "<!--  -->"
   ]
  }
 ],
 "metadata": {
  "kernelspec": {
   "display_name": "R",
   "language": "R",
   "name": "ir"
  },
  "language_info": {
   "codemirror_mode": "r",
   "file_extension": ".r",
   "mimetype": "text/x-r-source",
   "name": "R",
   "pygments_lexer": "r",
   "version": "4.2.1"
  }
 },
 "nbformat": 4,
 "nbformat_minor": 4
}
