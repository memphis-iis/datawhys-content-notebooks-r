{
 "cells": [
  {
   "cell_type": "markdown",
   "metadata": {
    "deletable": false,
    "editable": false
   },
   "source": [
    "Copyright 2022 Andrew M. Olney and made available under [CC BY-SA](https://creativecommons.org/licenses/by-sa/4.0) for text and [Apache-2.0](http://www.apache.org/licenses/LICENSE-2.0) for code."
   ]
  },
  {
   "cell_type": "markdown",
   "metadata": {},
   "source": [
    "# Data cleaning, transformations, & versioning: Problem solving\n",
    "\n",
    "This session will use the `mpg` dataset, which contains measurements of fuel economy and other properties of cars from the 1970s, to practice data cleaning, transformation, and versioning concept.s\n",
    "\n",
    "| Variable     | Type     | Description                              |\n",
    "|:--------------|:----------|:------------------------------------------|\n",
    "| mpg          | Ratio    | Miles per gallon; fuel economy           |\n",
    "| cylinders    | Ordinal  | Number of cylinders in engine            |\n",
    "| displacement | Ratio    | Volume inside cylinders (likely inches)                  |\n",
    "| horsepower   | Ratio    | Unit of power                            |\n",
    "| weight       | Ratio    | Weight of car (likely pounds)                           |\n",
    "| acceleration | Ratio    | Acceleration of car (likely in seconds to 60 MPH) |\n",
    "| model_year   | Interval | Year of car manufacture; last two digits |\n",
    "| origin       | Nominal  | Numeric code corresponding to continent  |\n",
    "| name     | Nominal  | Car model name (ID)                      |\n",
    "\n",
    "<div style=\"text-align:center;font-size: smaller\">\n",
    "    <b>Source:</b> This dataset was taken from the StatLib library which is maintained at Carnegie Mellon University.\n",
    "</div>\n",
    "<br>"
   ]
  },
  {
   "cell_type": "markdown",
   "metadata": {},
   "source": [
    "## Missing data\n",
    "\n",
    "Load `readr`, `dplyr`, `base` and `tidyr` so we can read data into a dataframe and manipulate it."
   ]
  },
  {
   "cell_type": "code",
   "execution_count": 1,
   "metadata": {},
   "outputs": [
    {
     "name": "stderr",
     "output_type": "stream",
     "text": [
      "\n",
      "Attaching package: ‘dplyr’\n",
      "\n",
      "\n",
      "The following objects are masked from ‘package:stats’:\n",
      "\n",
      "    filter, lag\n",
      "\n",
      "\n",
      "The following objects are masked from ‘package:base’:\n",
      "\n",
      "    intersect, setdiff, setequal, union\n",
      "\n",
      "\n"
     ]
    }
   ],
   "source": [
    "library(readr)\n",
    "library(dplyr)\n",
    "library(tidyr)\n",
    "library(base)\n",
    "\n",
    "#<xml xmlns=\"https://developers.google.com/blockly/xml\"><variables><variable id=\"_;PP-/]_2fNUR.dyhw(8\">readr</variable><variable id=\"`IEAx*Bh}E,Y}mK;jr;{\">dplyr</variable><variable id=\"%ovw[;dNkqx,|V0M/RZA\">tidyr</variable><variable id=\"6C!l+@S8,SvtzakmsxQD\">base</variable></variables><block type=\"import_R\" id=\"q]np1Ju|B`4k*R-zylwU\" x=\"44\" y=\"66\"><field name=\"libraryName\" id=\"_;PP-/]_2fNUR.dyhw(8\">readr</field><next><block type=\"import_R\" id=\"(%@0XC,((6M%4]kj+iDm\"><field name=\"libraryName\" id=\"`IEAx*Bh}E,Y}mK;jr;{\">dplyr</field><next><block type=\"import_R\" id=\"l.:Sc#tFH?#!tX=Zl.4b\"><field name=\"libraryName\" id=\"%ovw[;dNkqx,|V0M/RZA\">tidyr</field><next><block type=\"import_R\" id=\"AmB3B[T@UHq1l2P*NjUF\"><field name=\"libraryName\" id=\"6C!l+@S8,SvtzakmsxQD\">base</field></block></next></block></next></block></next></block></xml>"
   ]
  },
  {
   "cell_type": "markdown",
   "metadata": {},
   "source": [
    "Load a dataframe with `datasets/mpg-na-hidden.csv` and display it."
   ]
  },
  {
   "cell_type": "code",
   "execution_count": 2,
   "metadata": {},
   "outputs": [
    {
     "name": "stderr",
     "output_type": "stream",
     "text": [
      "\u001b[1mRows: \u001b[22m\u001b[34m398\u001b[39m \u001b[1mColumns: \u001b[22m\u001b[34m9\u001b[39m\n",
      "\u001b[36m──\u001b[39m \u001b[1mColumn specification\u001b[22m \u001b[36m────────────────────────────────────────────────────────\u001b[39m\n",
      "\u001b[1mDelimiter:\u001b[22m \",\"\n",
      "\u001b[31mchr\u001b[39m (1): name\n",
      "\u001b[32mdbl\u001b[39m (8): mpg, cylinders, displacement, horsepower, weight, acceleration, mod...\n",
      "\n",
      "\u001b[36mℹ\u001b[39m Use `spec()` to retrieve the full column specification for this data.\n",
      "\u001b[36mℹ\u001b[39m Specify the column types or set `show_col_types = FALSE` to quiet this message.\n"
     ]
    },
    {
     "data": {
      "text/html": [
       "<table class=\"dataframe\">\n",
       "<caption>A spec_tbl_df: 398 × 9</caption>\n",
       "<thead>\n",
       "\t<tr><th scope=col>mpg</th><th scope=col>cylinders</th><th scope=col>displacement</th><th scope=col>horsepower</th><th scope=col>weight</th><th scope=col>acceleration</th><th scope=col>model_year</th><th scope=col>origin</th><th scope=col>name</th></tr>\n",
       "\t<tr><th scope=col>&lt;dbl&gt;</th><th scope=col>&lt;dbl&gt;</th><th scope=col>&lt;dbl&gt;</th><th scope=col>&lt;dbl&gt;</th><th scope=col>&lt;dbl&gt;</th><th scope=col>&lt;dbl&gt;</th><th scope=col>&lt;dbl&gt;</th><th scope=col>&lt;dbl&gt;</th><th scope=col>&lt;chr&gt;</th></tr>\n",
       "</thead>\n",
       "<tbody>\n",
       "\t<tr><td>18</td><td>8</td><td>307</td><td>130</td><td>3504</td><td>12.0</td><td>70</td><td>1</td><td>chevrolet chevelle malibu</td></tr>\n",
       "\t<tr><td>15</td><td>8</td><td>350</td><td>165</td><td>3693</td><td>11.5</td><td>70</td><td>1</td><td>buick skylark 320        </td></tr>\n",
       "\t<tr><td>18</td><td>8</td><td>318</td><td>150</td><td>3436</td><td>11.0</td><td>70</td><td>1</td><td>plymouth satellite       </td></tr>\n",
       "\t<tr><td>16</td><td>8</td><td>304</td><td>150</td><td>3433</td><td>12.0</td><td>70</td><td>1</td><td>amc rebel sst            </td></tr>\n",
       "\t<tr><td>17</td><td>8</td><td>302</td><td>140</td><td>3449</td><td>10.5</td><td>70</td><td>1</td><td>ford torino              </td></tr>\n",
       "\t<tr><td>15</td><td>8</td><td>429</td><td>198</td><td>4341</td><td>10.0</td><td>70</td><td>1</td><td>ford galaxie 500         </td></tr>\n",
       "\t<tr><td>14</td><td>8</td><td>454</td><td>220</td><td>4354</td><td> 9.0</td><td>70</td><td>1</td><td>chevrolet impala         </td></tr>\n",
       "\t<tr><td>⋮</td><td>⋮</td><td>⋮</td><td>⋮</td><td>⋮</td><td>⋮</td><td>⋮</td><td>⋮</td><td>⋮</td></tr>\n",
       "\t<tr><td>36</td><td>4</td><td>135</td><td>84</td><td>2370</td><td>13.0</td><td>82</td><td>1</td><td>dodge charger 2.2</td></tr>\n",
       "\t<tr><td>27</td><td>4</td><td>151</td><td>90</td><td>2950</td><td>17.3</td><td>82</td><td>1</td><td>chevrolet camaro </td></tr>\n",
       "\t<tr><td>27</td><td>4</td><td>140</td><td>86</td><td>2790</td><td>15.6</td><td>82</td><td>1</td><td>ford mustang gl  </td></tr>\n",
       "\t<tr><td>44</td><td>4</td><td> 97</td><td>52</td><td>2130</td><td>24.6</td><td>82</td><td>2</td><td>vw pickup        </td></tr>\n",
       "\t<tr><td>32</td><td>4</td><td>135</td><td>84</td><td>2295</td><td>11.6</td><td>82</td><td>1</td><td>dodge rampage    </td></tr>\n",
       "\t<tr><td>28</td><td>4</td><td>120</td><td>79</td><td>2625</td><td>18.6</td><td>82</td><td>1</td><td>ford ranger      </td></tr>\n",
       "\t<tr><td>31</td><td>4</td><td>119</td><td>82</td><td>2720</td><td>19.4</td><td>82</td><td>1</td><td>chevy s-10       </td></tr>\n",
       "</tbody>\n",
       "</table>\n"
      ],
      "text/latex": [
       "A spec\\_tbl\\_df: 398 × 9\n",
       "\\begin{tabular}{lllllllll}\n",
       " mpg & cylinders & displacement & horsepower & weight & acceleration & model\\_year & origin & name\\\\\n",
       " <dbl> & <dbl> & <dbl> & <dbl> & <dbl> & <dbl> & <dbl> & <dbl> & <chr>\\\\\n",
       "\\hline\n",
       "\t 18 & 8 & 307 & 130 & 3504 & 12.0 & 70 & 1 & chevrolet chevelle malibu\\\\\n",
       "\t 15 & 8 & 350 & 165 & 3693 & 11.5 & 70 & 1 & buick skylark 320        \\\\\n",
       "\t 18 & 8 & 318 & 150 & 3436 & 11.0 & 70 & 1 & plymouth satellite       \\\\\n",
       "\t 16 & 8 & 304 & 150 & 3433 & 12.0 & 70 & 1 & amc rebel sst            \\\\\n",
       "\t 17 & 8 & 302 & 140 & 3449 & 10.5 & 70 & 1 & ford torino              \\\\\n",
       "\t 15 & 8 & 429 & 198 & 4341 & 10.0 & 70 & 1 & ford galaxie 500         \\\\\n",
       "\t 14 & 8 & 454 & 220 & 4354 &  9.0 & 70 & 1 & chevrolet impala         \\\\\n",
       "\t ⋮ & ⋮ & ⋮ & ⋮ & ⋮ & ⋮ & ⋮ & ⋮ & ⋮\\\\\n",
       "\t 36 & 4 & 135 & 84 & 2370 & 13.0 & 82 & 1 & dodge charger 2.2\\\\\n",
       "\t 27 & 4 & 151 & 90 & 2950 & 17.3 & 82 & 1 & chevrolet camaro \\\\\n",
       "\t 27 & 4 & 140 & 86 & 2790 & 15.6 & 82 & 1 & ford mustang gl  \\\\\n",
       "\t 44 & 4 &  97 & 52 & 2130 & 24.6 & 82 & 2 & vw pickup        \\\\\n",
       "\t 32 & 4 & 135 & 84 & 2295 & 11.6 & 82 & 1 & dodge rampage    \\\\\n",
       "\t 28 & 4 & 120 & 79 & 2625 & 18.6 & 82 & 1 & ford ranger      \\\\\n",
       "\t 31 & 4 & 119 & 82 & 2720 & 19.4 & 82 & 1 & chevy s-10       \\\\\n",
       "\\end{tabular}\n"
      ],
      "text/markdown": [
       "\n",
       "A spec_tbl_df: 398 × 9\n",
       "\n",
       "| mpg &lt;dbl&gt; | cylinders &lt;dbl&gt; | displacement &lt;dbl&gt; | horsepower &lt;dbl&gt; | weight &lt;dbl&gt; | acceleration &lt;dbl&gt; | model_year &lt;dbl&gt; | origin &lt;dbl&gt; | name &lt;chr&gt; |\n",
       "|---|---|---|---|---|---|---|---|---|\n",
       "| 18 | 8 | 307 | 130 | 3504 | 12.0 | 70 | 1 | chevrolet chevelle malibu |\n",
       "| 15 | 8 | 350 | 165 | 3693 | 11.5 | 70 | 1 | buick skylark 320         |\n",
       "| 18 | 8 | 318 | 150 | 3436 | 11.0 | 70 | 1 | plymouth satellite        |\n",
       "| 16 | 8 | 304 | 150 | 3433 | 12.0 | 70 | 1 | amc rebel sst             |\n",
       "| 17 | 8 | 302 | 140 | 3449 | 10.5 | 70 | 1 | ford torino               |\n",
       "| 15 | 8 | 429 | 198 | 4341 | 10.0 | 70 | 1 | ford galaxie 500          |\n",
       "| 14 | 8 | 454 | 220 | 4354 |  9.0 | 70 | 1 | chevrolet impala          |\n",
       "| ⋮ | ⋮ | ⋮ | ⋮ | ⋮ | ⋮ | ⋮ | ⋮ | ⋮ |\n",
       "| 36 | 4 | 135 | 84 | 2370 | 13.0 | 82 | 1 | dodge charger 2.2 |\n",
       "| 27 | 4 | 151 | 90 | 2950 | 17.3 | 82 | 1 | chevrolet camaro  |\n",
       "| 27 | 4 | 140 | 86 | 2790 | 15.6 | 82 | 1 | ford mustang gl   |\n",
       "| 44 | 4 |  97 | 52 | 2130 | 24.6 | 82 | 2 | vw pickup         |\n",
       "| 32 | 4 | 135 | 84 | 2295 | 11.6 | 82 | 1 | dodge rampage     |\n",
       "| 28 | 4 | 120 | 79 | 2625 | 18.6 | 82 | 1 | ford ranger       |\n",
       "| 31 | 4 | 119 | 82 | 2720 | 19.4 | 82 | 1 | chevy s-10        |\n",
       "\n"
      ],
      "text/plain": [
       "    mpg cylinders displacement horsepower weight acceleration model_year origin\n",
       "1   18  8         307          130        3504   12.0         70         1     \n",
       "2   15  8         350          165        3693   11.5         70         1     \n",
       "3   18  8         318          150        3436   11.0         70         1     \n",
       "4   16  8         304          150        3433   12.0         70         1     \n",
       "5   17  8         302          140        3449   10.5         70         1     \n",
       "6   15  8         429          198        4341   10.0         70         1     \n",
       "7   14  8         454          220        4354    9.0         70         1     \n",
       "⋮   ⋮   ⋮         ⋮            ⋮          ⋮      ⋮            ⋮          ⋮     \n",
       "392 36  4         135          84         2370   13.0         82         1     \n",
       "393 27  4         151          90         2950   17.3         82         1     \n",
       "394 27  4         140          86         2790   15.6         82         1     \n",
       "395 44  4          97          52         2130   24.6         82         2     \n",
       "396 32  4         135          84         2295   11.6         82         1     \n",
       "397 28  4         120          79         2625   18.6         82         1     \n",
       "398 31  4         119          82         2720   19.4         82         1     \n",
       "    name                     \n",
       "1   chevrolet chevelle malibu\n",
       "2   buick skylark 320        \n",
       "3   plymouth satellite       \n",
       "4   amc rebel sst            \n",
       "5   ford torino              \n",
       "6   ford galaxie 500         \n",
       "7   chevrolet impala         \n",
       "⋮   ⋮                        \n",
       "392 dodge charger 2.2        \n",
       "393 chevrolet camaro         \n",
       "394 ford mustang gl          \n",
       "395 vw pickup                \n",
       "396 dodge rampage            \n",
       "397 ford ranger              \n",
       "398 chevy s-10               "
      ]
     },
     "metadata": {},
     "output_type": "display_data"
    }
   ],
   "source": [
    "dataframe = readr::read_csv(\"datasets/mpg-na-hidden.csv\")\n",
    "\n",
    "dataframe\n",
    "\n",
    "#<xml xmlns=\"https://developers.google.com/blockly/xml\"><variables><variable id=\"(*,(U(rm+VG0+vg;w$65\">dataframe</variable><variable id=\"_;PP-/]_2fNUR.dyhw(8\">readr</variable></variables><block type=\"variables_set\" id=\"gM*jw`FfIR3)8=g0iEB7\" x=\"-112\" y=\"56\"><field name=\"VAR\" id=\"(*,(U(rm+VG0+vg;w$65\">dataframe</field><value name=\"VALUE\"><block type=\"varDoMethod_R\" id=\",vaW{t?FHN1~E?+,h!w-\"><mutation items=\"1\"></mutation><field name=\"VAR\" id=\"_;PP-/]_2fNUR.dyhw(8\">readr</field><field name=\"MEMBER\">read_csv</field><data>readr:read_csv</data><value name=\"ADD0\"><block type=\"text\" id=\"dfrpI5b@DHr+DQ:|@vpv\"><field name=\"TEXT\">datasets/mpg-na-hidden.csv</field></block></value></block></value></block><block type=\"variables_get\" id=\"dn{+Q#DO%lN;G_tFGJ#B\" x=\"-114\" y=\"118\"><field name=\"VAR\" id=\"(*,(U(rm+VG0+vg;w$65\">dataframe</field></block></xml>"
   ]
  },
  {
   "cell_type": "markdown",
   "metadata": {},
   "source": [
    "-----------\n",
    "**QUESTION:**\n",
    "\n",
    "Do you think there are any `NaN` values? Why? "
   ]
  },
  {
   "cell_type": "markdown",
   "metadata": {},
   "source": [
    "**ANSWER: (click here to edit)**\n",
    "\n",
    "*Not that I can see*\n",
    "\n",
    "--------------------"
   ]
  },
  {
   "cell_type": "markdown",
   "metadata": {},
   "source": [
    "Load `ggplot2` and `psych` so you can plot and get descriptive statistics."
   ]
  },
  {
   "cell_type": "code",
   "execution_count": 3,
   "metadata": {},
   "outputs": [
    {
     "name": "stderr",
     "output_type": "stream",
     "text": [
      "Warning message:\n",
      "“package ‘ggplot2’ was built under R version 4.2.2”\n",
      "\n",
      "Attaching package: ‘psych’\n",
      "\n",
      "\n",
      "The following objects are masked from ‘package:ggplot2’:\n",
      "\n",
      "    %+%, alpha\n",
      "\n",
      "\n"
     ]
    }
   ],
   "source": [
    "library(ggplot2)\n",
    "library(psych)\n",
    "\n",
    "#<xml xmlns=\"https://developers.google.com/blockly/xml\"><variables><variable id=\"K2WB)HAgulDnN4.esuaK\">ggplot2</variable><variable id=\"-%rFagMkPz%VG@$q~ANP\">psych</variable></variables><block type=\"import_R\" id=\"NP8di6)Z3BCnEo]0O1DZ\" x=\"-79\" y=\"30\"><field name=\"libraryName\" id=\"K2WB)HAgulDnN4.esuaK\">ggplot2</field><next><block type=\"import_R\" id=\"B;;7fuWo=jw*m)BGOaaV\"><field name=\"libraryName\" id=\"-%rFagMkPz%VG@$q~ANP\">psych</field></block></next></block></xml>"
   ]
  },
  {
   "cell_type": "markdown",
   "metadata": {},
   "source": [
    "`describe` the dataframe."
   ]
  },
  {
   "cell_type": "code",
   "execution_count": 4,
   "metadata": {},
   "outputs": [
    {
     "data": {
      "text/html": [
       "<table class=\"dataframe\">\n",
       "<caption>A psych: 9 × 13</caption>\n",
       "<thead>\n",
       "\t<tr><th></th><th scope=col>vars</th><th scope=col>n</th><th scope=col>mean</th><th scope=col>sd</th><th scope=col>median</th><th scope=col>trimmed</th><th scope=col>mad</th><th scope=col>min</th><th scope=col>max</th><th scope=col>range</th><th scope=col>skew</th><th scope=col>kurtosis</th><th scope=col>se</th></tr>\n",
       "\t<tr><th></th><th scope=col>&lt;int&gt;</th><th scope=col>&lt;dbl&gt;</th><th scope=col>&lt;dbl&gt;</th><th scope=col>&lt;dbl&gt;</th><th scope=col>&lt;dbl&gt;</th><th scope=col>&lt;dbl&gt;</th><th scope=col>&lt;dbl&gt;</th><th scope=col>&lt;dbl&gt;</th><th scope=col>&lt;dbl&gt;</th><th scope=col>&lt;dbl&gt;</th><th scope=col>&lt;dbl&gt;</th><th scope=col>&lt;dbl&gt;</th><th scope=col>&lt;dbl&gt;</th></tr>\n",
       "</thead>\n",
       "<tbody>\n",
       "\t<tr><th scope=row>mpg</th><td>1</td><td>398</td><td>  23.514573</td><td>  7.8159843</td><td>  23.0</td><td>  23.064688</td><td>  8.89560</td><td>   9</td><td>  46.6</td><td>  37.6</td><td>0.45362689</td><td>-0.5318741</td><td> 0.39177989</td></tr>\n",
       "\t<tr><th scope=row>cylinders</th><td>2</td><td>398</td><td>   5.454774</td><td>  1.7010042</td><td>   4.0</td><td>   5.334375</td><td>  0.00000</td><td>   3</td><td>   8.0</td><td>   5.0</td><td>0.52295643</td><td>-1.3826240</td><td> 0.08526364</td></tr>\n",
       "\t<tr><th scope=row>displacement</th><td>3</td><td>398</td><td> 193.425879</td><td>104.2698382</td><td> 148.5</td><td> 182.820312</td><td> 86.73210</td><td>  68</td><td> 455.0</td><td> 387.0</td><td>0.71422979</td><td>-0.7635686</td><td> 5.22657472</td></tr>\n",
       "\t<tr><th scope=row>horsepower</th><td>4</td><td>398</td><td> 102.894472</td><td> 40.2695442</td><td>  92.0</td><td>  99.175000</td><td> 29.65200</td><td>   0</td><td> 230.0</td><td> 230.0</td><td>0.78196040</td><td> 0.8001574</td><td> 2.01852986</td></tr>\n",
       "\t<tr><th scope=row>weight</th><td>5</td><td>398</td><td>2970.424623</td><td>846.8417742</td><td>2803.5</td><td>2909.640625</td><td>945.15750</td><td>1613</td><td>5140.0</td><td>3527.0</td><td>0.52706623</td><td>-0.8018206</td><td>42.44834255</td></tr>\n",
       "\t<tr><th scope=row>acceleration</th><td>6</td><td>398</td><td>  15.568090</td><td>  2.7576889</td><td>  15.5</td><td>  15.507500</td><td>  2.52042</td><td>   8</td><td>  24.8</td><td>  16.8</td><td>0.27667903</td><td> 0.3821477</td><td> 0.13823046</td></tr>\n",
       "\t<tr><th scope=row>model_year</th><td>7</td><td>398</td><td>  76.010050</td><td>  3.6976266</td><td>  76.0</td><td>  76.006250</td><td>  4.44780</td><td>  70</td><td>  82.0</td><td>  12.0</td><td>0.01144780</td><td>-1.1906087</td><td> 0.18534528</td></tr>\n",
       "\t<tr><th scope=row>origin</th><td>8</td><td>398</td><td>   1.572864</td><td>  0.8020549</td><td>   1.0</td><td>   1.468750</td><td>  0.00000</td><td>   1</td><td>   3.0</td><td>   2.0</td><td>0.91682483</td><td>-0.8333281</td><td> 0.04020338</td></tr>\n",
       "\t<tr><th scope=row>name*</th><td>9</td><td>398</td><td> 149.550251</td><td> 89.4958803</td><td> 151.0</td><td> 149.359375</td><td>118.60800</td><td>   1</td><td> 305.0</td><td> 304.0</td><td>0.01852441</td><td>-1.2464825</td><td> 4.48602312</td></tr>\n",
       "</tbody>\n",
       "</table>\n"
      ],
      "text/latex": [
       "A psych: 9 × 13\n",
       "\\begin{tabular}{r|lllllllllllll}\n",
       "  & vars & n & mean & sd & median & trimmed & mad & min & max & range & skew & kurtosis & se\\\\\n",
       "  & <int> & <dbl> & <dbl> & <dbl> & <dbl> & <dbl> & <dbl> & <dbl> & <dbl> & <dbl> & <dbl> & <dbl> & <dbl>\\\\\n",
       "\\hline\n",
       "\tmpg & 1 & 398 &   23.514573 &   7.8159843 &   23.0 &   23.064688 &   8.89560 &    9 &   46.6 &   37.6 & 0.45362689 & -0.5318741 &  0.39177989\\\\\n",
       "\tcylinders & 2 & 398 &    5.454774 &   1.7010042 &    4.0 &    5.334375 &   0.00000 &    3 &    8.0 &    5.0 & 0.52295643 & -1.3826240 &  0.08526364\\\\\n",
       "\tdisplacement & 3 & 398 &  193.425879 & 104.2698382 &  148.5 &  182.820312 &  86.73210 &   68 &  455.0 &  387.0 & 0.71422979 & -0.7635686 &  5.22657472\\\\\n",
       "\thorsepower & 4 & 398 &  102.894472 &  40.2695442 &   92.0 &   99.175000 &  29.65200 &    0 &  230.0 &  230.0 & 0.78196040 &  0.8001574 &  2.01852986\\\\\n",
       "\tweight & 5 & 398 & 2970.424623 & 846.8417742 & 2803.5 & 2909.640625 & 945.15750 & 1613 & 5140.0 & 3527.0 & 0.52706623 & -0.8018206 & 42.44834255\\\\\n",
       "\tacceleration & 6 & 398 &   15.568090 &   2.7576889 &   15.5 &   15.507500 &   2.52042 &    8 &   24.8 &   16.8 & 0.27667903 &  0.3821477 &  0.13823046\\\\\n",
       "\tmodel\\_year & 7 & 398 &   76.010050 &   3.6976266 &   76.0 &   76.006250 &   4.44780 &   70 &   82.0 &   12.0 & 0.01144780 & -1.1906087 &  0.18534528\\\\\n",
       "\torigin & 8 & 398 &    1.572864 &   0.8020549 &    1.0 &    1.468750 &   0.00000 &    1 &    3.0 &    2.0 & 0.91682483 & -0.8333281 &  0.04020338\\\\\n",
       "\tname* & 9 & 398 &  149.550251 &  89.4958803 &  151.0 &  149.359375 & 118.60800 &    1 &  305.0 &  304.0 & 0.01852441 & -1.2464825 &  4.48602312\\\\\n",
       "\\end{tabular}\n"
      ],
      "text/markdown": [
       "\n",
       "A psych: 9 × 13\n",
       "\n",
       "| <!--/--> | vars &lt;int&gt; | n &lt;dbl&gt; | mean &lt;dbl&gt; | sd &lt;dbl&gt; | median &lt;dbl&gt; | trimmed &lt;dbl&gt; | mad &lt;dbl&gt; | min &lt;dbl&gt; | max &lt;dbl&gt; | range &lt;dbl&gt; | skew &lt;dbl&gt; | kurtosis &lt;dbl&gt; | se &lt;dbl&gt; |\n",
       "|---|---|---|---|---|---|---|---|---|---|---|---|---|---|\n",
       "| mpg | 1 | 398 |   23.514573 |   7.8159843 |   23.0 |   23.064688 |   8.89560 |    9 |   46.6 |   37.6 | 0.45362689 | -0.5318741 |  0.39177989 |\n",
       "| cylinders | 2 | 398 |    5.454774 |   1.7010042 |    4.0 |    5.334375 |   0.00000 |    3 |    8.0 |    5.0 | 0.52295643 | -1.3826240 |  0.08526364 |\n",
       "| displacement | 3 | 398 |  193.425879 | 104.2698382 |  148.5 |  182.820312 |  86.73210 |   68 |  455.0 |  387.0 | 0.71422979 | -0.7635686 |  5.22657472 |\n",
       "| horsepower | 4 | 398 |  102.894472 |  40.2695442 |   92.0 |   99.175000 |  29.65200 |    0 |  230.0 |  230.0 | 0.78196040 |  0.8001574 |  2.01852986 |\n",
       "| weight | 5 | 398 | 2970.424623 | 846.8417742 | 2803.5 | 2909.640625 | 945.15750 | 1613 | 5140.0 | 3527.0 | 0.52706623 | -0.8018206 | 42.44834255 |\n",
       "| acceleration | 6 | 398 |   15.568090 |   2.7576889 |   15.5 |   15.507500 |   2.52042 |    8 |   24.8 |   16.8 | 0.27667903 |  0.3821477 |  0.13823046 |\n",
       "| model_year | 7 | 398 |   76.010050 |   3.6976266 |   76.0 |   76.006250 |   4.44780 |   70 |   82.0 |   12.0 | 0.01144780 | -1.1906087 |  0.18534528 |\n",
       "| origin | 8 | 398 |    1.572864 |   0.8020549 |    1.0 |    1.468750 |   0.00000 |    1 |    3.0 |    2.0 | 0.91682483 | -0.8333281 |  0.04020338 |\n",
       "| name* | 9 | 398 |  149.550251 |  89.4958803 |  151.0 |  149.359375 | 118.60800 |    1 |  305.0 |  304.0 | 0.01852441 | -1.2464825 |  4.48602312 |\n",
       "\n"
      ],
      "text/plain": [
       "             vars n   mean        sd          median trimmed     mad       min \n",
       "mpg          1    398   23.514573   7.8159843   23.0   23.064688   8.89560    9\n",
       "cylinders    2    398    5.454774   1.7010042    4.0    5.334375   0.00000    3\n",
       "displacement 3    398  193.425879 104.2698382  148.5  182.820312  86.73210   68\n",
       "horsepower   4    398  102.894472  40.2695442   92.0   99.175000  29.65200    0\n",
       "weight       5    398 2970.424623 846.8417742 2803.5 2909.640625 945.15750 1613\n",
       "acceleration 6    398   15.568090   2.7576889   15.5   15.507500   2.52042    8\n",
       "model_year   7    398   76.010050   3.6976266   76.0   76.006250   4.44780   70\n",
       "origin       8    398    1.572864   0.8020549    1.0    1.468750   0.00000    1\n",
       "name*        9    398  149.550251  89.4958803  151.0  149.359375 118.60800    1\n",
       "             max    range  skew       kurtosis   se         \n",
       "mpg            46.6   37.6 0.45362689 -0.5318741  0.39177989\n",
       "cylinders       8.0    5.0 0.52295643 -1.3826240  0.08526364\n",
       "displacement  455.0  387.0 0.71422979 -0.7635686  5.22657472\n",
       "horsepower    230.0  230.0 0.78196040  0.8001574  2.01852986\n",
       "weight       5140.0 3527.0 0.52706623 -0.8018206 42.44834255\n",
       "acceleration   24.8   16.8 0.27667903  0.3821477  0.13823046\n",
       "model_year     82.0   12.0 0.01144780 -1.1906087  0.18534528\n",
       "origin          3.0    2.0 0.91682483 -0.8333281  0.04020338\n",
       "name*         305.0  304.0 0.01852441 -1.2464825  4.48602312"
      ]
     },
     "metadata": {},
     "output_type": "display_data"
    }
   ],
   "source": [
    "psych::describe(dataframe)\n",
    "\n",
    "#<xml xmlns=\"https://developers.google.com/blockly/xml\"><variables><variable id=\"-%rFagMkPz%VG@$q~ANP\">psych</variable><variable id=\"(*,(U(rm+VG0+vg;w$65\">dataframe</variable></variables><block type=\"varDoMethod_R\" id=\"Ik/4b5VaB!,h*!CDG/;:\" x=\"-71\" y=\"128\"><mutation items=\"1\"></mutation><field name=\"VAR\" id=\"-%rFagMkPz%VG@$q~ANP\">psych</field><field name=\"MEMBER\">describe</field><data>psych:describe</data><value name=\"ADD0\"><block type=\"variables_get\" id=\"9~!*.^kJ;;#xmnox7F3h\"><field name=\"VAR\" id=\"(*,(U(rm+VG0+vg;w$65\">dataframe</field></block></value></block></xml>"
   ]
  },
  {
   "cell_type": "markdown",
   "metadata": {},
   "source": [
    "Look at the min, mean, and max."
   ]
  },
  {
   "cell_type": "markdown",
   "metadata": {},
   "source": [
    "-----------\n",
    "**QUESTION:**\n",
    "\n",
    "Do you think there are any `NA` values? Why and what are they?"
   ]
  },
  {
   "cell_type": "markdown",
   "metadata": {},
   "source": [
    "**ANSWER: (click here to edit)**\n",
    "\n",
    "*Horsepower can't be zero*\n",
    "\n",
    "--------------------"
   ]
  },
  {
   "cell_type": "markdown",
   "metadata": {},
   "source": [
    "One way to tell if your guess is correct is to plot the variable(s) in question."
   ]
  },
  {
   "cell_type": "markdown",
   "metadata": {},
   "source": [
    "Now plot a histogram with the variable(s) in question."
   ]
  },
  {
   "cell_type": "code",
   "execution_count": 5,
   "metadata": {},
   "outputs": [
    {
     "name": "stderr",
     "output_type": "stream",
     "text": [
      "\u001b[1m\u001b[22m`stat_bin()` using `bins = 30`. Pick better value with `binwidth`.\n"
     ]
    },
    {
     "data": {
      "image/png": "[encoded data removed]",
      "text/plain": [
       "plot without title"
      ]
     },
     "metadata": {
      "image/png": {
       "height": 480,
       "width": 600
      }
     },
     "output_type": "display_data"
    }
   ],
   "source": [
    "ggplot2::ggplot(dataframe) +\n",
    "    ggplot2::geom_histogram(aes(x=horsepower))\n",
    "\n",
    "#<xml xmlns=\"https://developers.google.com/blockly/xml\"><variables><variable id=\"K2WB)HAgulDnN4.esuaK\">ggplot2</variable><variable id=\"(*,(U(rm+VG0+vg;w$65\">dataframe</variable></variables><block type=\"ggplot_plus_R\" id=\"bD~/Zx-C[msh!]*Bk0Ff\" x=\"-98\" y=\"163\"><mutation items=\"1\"></mutation><value name=\"INPUT\"><block type=\"varDoMethod_R\" id=\"(FrPTO6BHQ:/bS2i=Xor\"><mutation items=\"1\"></mutation><field name=\"VAR\" id=\"K2WB)HAgulDnN4.esuaK\">ggplot2</field><field name=\"MEMBER\">ggplot</field><data>ggplot2:ggplot</data><value name=\"ADD0\"><block type=\"variables_get\" id=\"CX]}YnAcF,:0n3,#Y%(B\"><field name=\"VAR\" id=\"(*,(U(rm+VG0+vg;w$65\">dataframe</field></block></value></block></value><value name=\"ADD0\"><block type=\"varDoMethod_R\" id=\"=A2TJ~wLjW;KweUAV2J!\"><mutation items=\"1\"></mutation><field name=\"VAR\" id=\"K2WB)HAgulDnN4.esuaK\">ggplot2</field><field name=\"MEMBER\">geom_histogram</field><data>ggplot2:geom_histogram</data><value name=\"ADD0\"><block type=\"dummyOutputCodeBlock_R\" id=\"45Q~]AWbZS/H)yTX%[*z\"><field name=\"CODE\">aes(x=horsepower)</field></block></value></block></value></block></xml>"
   ]
  },
  {
   "cell_type": "markdown",
   "metadata": {},
   "source": [
    "Another way to see this is with a boxplot.\n",
    "Copy the code above, but change `histogram` to `boxplot`."
   ]
  },
  {
   "cell_type": "code",
   "execution_count": 6,
   "metadata": {},
   "outputs": [
    {
     "data": {
      "image/png": "[encoded data removed]",
      "text/plain": [
       "plot without title"
      ]
     },
     "metadata": {
      "image/png": {
       "height": 480,
       "width": 600
      }
     },
     "output_type": "display_data"
    }
   ],
   "source": [
    "ggplot2::ggplot(dataframe) +\n",
    "    ggplot2::geom_boxplot(aes(x=horsepower))\n",
    "\n",
    "#<xml xmlns=\"https://developers.google.com/blockly/xml\"><variables><variable id=\"K2WB)HAgulDnN4.esuaK\">ggplot2</variable><variable id=\"(*,(U(rm+VG0+vg;w$65\">dataframe</variable></variables><block type=\"ggplot_plus_R\" id=\"bD~/Zx-C[msh!]*Bk0Ff\" x=\"-98\" y=\"163\"><mutation items=\"1\"></mutation><value name=\"INPUT\"><block type=\"varDoMethod_R\" id=\"(FrPTO6BHQ:/bS2i=Xor\"><mutation items=\"1\"></mutation><field name=\"VAR\" id=\"K2WB)HAgulDnN4.esuaK\">ggplot2</field><field name=\"MEMBER\">ggplot</field><data>ggplot2:ggplot</data><value name=\"ADD0\"><block type=\"variables_get\" id=\"CX]}YnAcF,:0n3,#Y%(B\"><field name=\"VAR\" id=\"(*,(U(rm+VG0+vg;w$65\">dataframe</field></block></value></block></value><value name=\"ADD0\"><block type=\"varDoMethod_R\" id=\"=A2TJ~wLjW;KweUAV2J!\"><mutation items=\"1\"></mutation><field name=\"VAR\" id=\"K2WB)HAgulDnN4.esuaK\">ggplot2</field><field name=\"MEMBER\">geom_boxplot</field><data>ggplot2:geom_boxplot</data><value name=\"ADD0\"><block type=\"dummyOutputCodeBlock_R\" id=\"45Q~]AWbZS/H)yTX%[*z\"><field name=\"CODE\">aes(x=horsepower)</field></block></value></block></value></block></xml>"
   ]
  },
  {
   "cell_type": "markdown",
   "metadata": {},
   "source": [
    "-----------\n",
    "**QUESTION:**\n",
    "\n",
    "Does these plots support your guess?\n",
    "How do we know this is missing data and not outliers?\n"
   ]
  },
  {
   "cell_type": "markdown",
   "metadata": {},
   "source": [
    "**ANSWER: (click here to edit)**\n",
    "\n",
    "*Yes. Not an outlier because horsepower can't be zero*\n",
    "\n",
    "--------------------"
   ]
  },
  {
   "cell_type": "markdown",
   "metadata": {},
   "source": [
    "Load the dataframe again, but this time use `mutate` to replace the value you found with `NA`."
   ]
  },
  {
   "cell_type": "code",
   "execution_count": 7,
   "metadata": {},
   "outputs": [
    {
     "name": "stderr",
     "output_type": "stream",
     "text": [
      "\u001b[1mRows: \u001b[22m\u001b[34m398\u001b[39m \u001b[1mColumns: \u001b[22m\u001b[34m9\u001b[39m\n",
      "\u001b[36m──\u001b[39m \u001b[1mColumn specification\u001b[22m \u001b[36m────────────────────────────────────────────────────────\u001b[39m\n",
      "\u001b[1mDelimiter:\u001b[22m \",\"\n",
      "\u001b[31mchr\u001b[39m (1): name\n",
      "\u001b[32mdbl\u001b[39m (8): mpg, cylinders, displacement, horsepower, weight, acceleration, mod...\n",
      "\n",
      "\u001b[36mℹ\u001b[39m Use `spec()` to retrieve the full column specification for this data.\n",
      "\u001b[36mℹ\u001b[39m Specify the column types or set `show_col_types = FALSE` to quiet this message.\n"
     ]
    },
    {
     "data": {
      "text/html": [
       "<table class=\"dataframe\">\n",
       "<caption>A tibble: 398 × 9</caption>\n",
       "<thead>\n",
       "\t<tr><th scope=col>mpg</th><th scope=col>cylinders</th><th scope=col>displacement</th><th scope=col>horsepower</th><th scope=col>weight</th><th scope=col>acceleration</th><th scope=col>model_year</th><th scope=col>origin</th><th scope=col>name</th></tr>\n",
       "\t<tr><th scope=col>&lt;dbl&gt;</th><th scope=col>&lt;dbl&gt;</th><th scope=col>&lt;dbl&gt;</th><th scope=col>&lt;dbl&gt;</th><th scope=col>&lt;dbl&gt;</th><th scope=col>&lt;dbl&gt;</th><th scope=col>&lt;dbl&gt;</th><th scope=col>&lt;dbl&gt;</th><th scope=col>&lt;chr&gt;</th></tr>\n",
       "</thead>\n",
       "<tbody>\n",
       "\t<tr><td>18</td><td>8</td><td>307</td><td>130</td><td>3504</td><td>12.0</td><td>70</td><td>1</td><td>chevrolet chevelle malibu</td></tr>\n",
       "\t<tr><td>15</td><td>8</td><td>350</td><td>165</td><td>3693</td><td>11.5</td><td>70</td><td>1</td><td>buick skylark 320        </td></tr>\n",
       "\t<tr><td>18</td><td>8</td><td>318</td><td>150</td><td>3436</td><td>11.0</td><td>70</td><td>1</td><td>plymouth satellite       </td></tr>\n",
       "\t<tr><td>16</td><td>8</td><td>304</td><td>150</td><td>3433</td><td>12.0</td><td>70</td><td>1</td><td>amc rebel sst            </td></tr>\n",
       "\t<tr><td>17</td><td>8</td><td>302</td><td>140</td><td>3449</td><td>10.5</td><td>70</td><td>1</td><td>ford torino              </td></tr>\n",
       "\t<tr><td>15</td><td>8</td><td>429</td><td>198</td><td>4341</td><td>10.0</td><td>70</td><td>1</td><td>ford galaxie 500         </td></tr>\n",
       "\t<tr><td>14</td><td>8</td><td>454</td><td>220</td><td>4354</td><td> 9.0</td><td>70</td><td>1</td><td>chevrolet impala         </td></tr>\n",
       "\t<tr><td>⋮</td><td>⋮</td><td>⋮</td><td>⋮</td><td>⋮</td><td>⋮</td><td>⋮</td><td>⋮</td><td>⋮</td></tr>\n",
       "\t<tr><td>36</td><td>4</td><td>135</td><td>84</td><td>2370</td><td>13.0</td><td>82</td><td>1</td><td>dodge charger 2.2</td></tr>\n",
       "\t<tr><td>27</td><td>4</td><td>151</td><td>90</td><td>2950</td><td>17.3</td><td>82</td><td>1</td><td>chevrolet camaro </td></tr>\n",
       "\t<tr><td>27</td><td>4</td><td>140</td><td>86</td><td>2790</td><td>15.6</td><td>82</td><td>1</td><td>ford mustang gl  </td></tr>\n",
       "\t<tr><td>44</td><td>4</td><td> 97</td><td>52</td><td>2130</td><td>24.6</td><td>82</td><td>2</td><td>vw pickup        </td></tr>\n",
       "\t<tr><td>32</td><td>4</td><td>135</td><td>84</td><td>2295</td><td>11.6</td><td>82</td><td>1</td><td>dodge rampage    </td></tr>\n",
       "\t<tr><td>28</td><td>4</td><td>120</td><td>79</td><td>2625</td><td>18.6</td><td>82</td><td>1</td><td>ford ranger      </td></tr>\n",
       "\t<tr><td>31</td><td>4</td><td>119</td><td>82</td><td>2720</td><td>19.4</td><td>82</td><td>1</td><td>chevy s-10       </td></tr>\n",
       "</tbody>\n",
       "</table>\n"
      ],
      "text/latex": [
       "A tibble: 398 × 9\n",
       "\\begin{tabular}{lllllllll}\n",
       " mpg & cylinders & displacement & horsepower & weight & acceleration & model\\_year & origin & name\\\\\n",
       " <dbl> & <dbl> & <dbl> & <dbl> & <dbl> & <dbl> & <dbl> & <dbl> & <chr>\\\\\n",
       "\\hline\n",
       "\t 18 & 8 & 307 & 130 & 3504 & 12.0 & 70 & 1 & chevrolet chevelle malibu\\\\\n",
       "\t 15 & 8 & 350 & 165 & 3693 & 11.5 & 70 & 1 & buick skylark 320        \\\\\n",
       "\t 18 & 8 & 318 & 150 & 3436 & 11.0 & 70 & 1 & plymouth satellite       \\\\\n",
       "\t 16 & 8 & 304 & 150 & 3433 & 12.0 & 70 & 1 & amc rebel sst            \\\\\n",
       "\t 17 & 8 & 302 & 140 & 3449 & 10.5 & 70 & 1 & ford torino              \\\\\n",
       "\t 15 & 8 & 429 & 198 & 4341 & 10.0 & 70 & 1 & ford galaxie 500         \\\\\n",
       "\t 14 & 8 & 454 & 220 & 4354 &  9.0 & 70 & 1 & chevrolet impala         \\\\\n",
       "\t ⋮ & ⋮ & ⋮ & ⋮ & ⋮ & ⋮ & ⋮ & ⋮ & ⋮\\\\\n",
       "\t 36 & 4 & 135 & 84 & 2370 & 13.0 & 82 & 1 & dodge charger 2.2\\\\\n",
       "\t 27 & 4 & 151 & 90 & 2950 & 17.3 & 82 & 1 & chevrolet camaro \\\\\n",
       "\t 27 & 4 & 140 & 86 & 2790 & 15.6 & 82 & 1 & ford mustang gl  \\\\\n",
       "\t 44 & 4 &  97 & 52 & 2130 & 24.6 & 82 & 2 & vw pickup        \\\\\n",
       "\t 32 & 4 & 135 & 84 & 2295 & 11.6 & 82 & 1 & dodge rampage    \\\\\n",
       "\t 28 & 4 & 120 & 79 & 2625 & 18.6 & 82 & 1 & ford ranger      \\\\\n",
       "\t 31 & 4 & 119 & 82 & 2720 & 19.4 & 82 & 1 & chevy s-10       \\\\\n",
       "\\end{tabular}\n"
      ],
      "text/markdown": [
       "\n",
       "A tibble: 398 × 9\n",
       "\n",
       "| mpg &lt;dbl&gt; | cylinders &lt;dbl&gt; | displacement &lt;dbl&gt; | horsepower &lt;dbl&gt; | weight &lt;dbl&gt; | acceleration &lt;dbl&gt; | model_year &lt;dbl&gt; | origin &lt;dbl&gt; | name &lt;chr&gt; |\n",
       "|---|---|---|---|---|---|---|---|---|\n",
       "| 18 | 8 | 307 | 130 | 3504 | 12.0 | 70 | 1 | chevrolet chevelle malibu |\n",
       "| 15 | 8 | 350 | 165 | 3693 | 11.5 | 70 | 1 | buick skylark 320         |\n",
       "| 18 | 8 | 318 | 150 | 3436 | 11.0 | 70 | 1 | plymouth satellite        |\n",
       "| 16 | 8 | 304 | 150 | 3433 | 12.0 | 70 | 1 | amc rebel sst             |\n",
       "| 17 | 8 | 302 | 140 | 3449 | 10.5 | 70 | 1 | ford torino               |\n",
       "| 15 | 8 | 429 | 198 | 4341 | 10.0 | 70 | 1 | ford galaxie 500          |\n",
       "| 14 | 8 | 454 | 220 | 4354 |  9.0 | 70 | 1 | chevrolet impala          |\n",
       "| ⋮ | ⋮ | ⋮ | ⋮ | ⋮ | ⋮ | ⋮ | ⋮ | ⋮ |\n",
       "| 36 | 4 | 135 | 84 | 2370 | 13.0 | 82 | 1 | dodge charger 2.2 |\n",
       "| 27 | 4 | 151 | 90 | 2950 | 17.3 | 82 | 1 | chevrolet camaro  |\n",
       "| 27 | 4 | 140 | 86 | 2790 | 15.6 | 82 | 1 | ford mustang gl   |\n",
       "| 44 | 4 |  97 | 52 | 2130 | 24.6 | 82 | 2 | vw pickup         |\n",
       "| 32 | 4 | 135 | 84 | 2295 | 11.6 | 82 | 1 | dodge rampage     |\n",
       "| 28 | 4 | 120 | 79 | 2625 | 18.6 | 82 | 1 | ford ranger       |\n",
       "| 31 | 4 | 119 | 82 | 2720 | 19.4 | 82 | 1 | chevy s-10        |\n",
       "\n"
      ],
      "text/plain": [
       "    mpg cylinders displacement horsepower weight acceleration model_year origin\n",
       "1   18  8         307          130        3504   12.0         70         1     \n",
       "2   15  8         350          165        3693   11.5         70         1     \n",
       "3   18  8         318          150        3436   11.0         70         1     \n",
       "4   16  8         304          150        3433   12.0         70         1     \n",
       "5   17  8         302          140        3449   10.5         70         1     \n",
       "6   15  8         429          198        4341   10.0         70         1     \n",
       "7   14  8         454          220        4354    9.0         70         1     \n",
       "⋮   ⋮   ⋮         ⋮            ⋮          ⋮      ⋮            ⋮          ⋮     \n",
       "392 36  4         135          84         2370   13.0         82         1     \n",
       "393 27  4         151          90         2950   17.3         82         1     \n",
       "394 27  4         140          86         2790   15.6         82         1     \n",
       "395 44  4          97          52         2130   24.6         82         2     \n",
       "396 32  4         135          84         2295   11.6         82         1     \n",
       "397 28  4         120          79         2625   18.6         82         1     \n",
       "398 31  4         119          82         2720   19.4         82         1     \n",
       "    name                     \n",
       "1   chevrolet chevelle malibu\n",
       "2   buick skylark 320        \n",
       "3   plymouth satellite       \n",
       "4   amc rebel sst            \n",
       "5   ford torino              \n",
       "6   ford galaxie 500         \n",
       "7   chevrolet impala         \n",
       "⋮   ⋮                        \n",
       "392 dodge charger 2.2        \n",
       "393 chevrolet camaro         \n",
       "394 ford mustang gl          \n",
       "395 vw pickup                \n",
       "396 dodge rampage            \n",
       "397 ford ranger              \n",
       "398 chevy s-10               "
      ]
     },
     "metadata": {},
     "output_type": "display_data"
    }
   ],
   "source": [
    "dataframe = readr::read_csv(\"datasets/mpg-na-hidden.csv\") %>%\n",
    "    dplyr::mutate(across(horsepower,~na_if(.,0)))\n",
    "\n",
    "dataframe\n",
    "\n",
    "#<xml xmlns=\"https://developers.google.com/blockly/xml\"><variables><variable id=\"(*,(U(rm+VG0+vg;w$65\">dataframe</variable><variable id=\"_;PP-/]_2fNUR.dyhw(8\">readr</variable><variable id=\"`IEAx*Bh}E,Y}mK;jr;{\">dplyr</variable></variables><block type=\"variables_set\" id=\"gM*jw`FfIR3)8=g0iEB7\" x=\"-114\" y=\"-24\"><field name=\"VAR\" id=\"(*,(U(rm+VG0+vg;w$65\">dataframe</field><value name=\"VALUE\"><block type=\"pipe_R\" id=\"!gwXC?8/[mR7wV[4{{f+\"><mutation items=\"1\"></mutation><value name=\"INPUT\"><block type=\"varDoMethod_R\" id=\",vaW{t?FHN1~E?+,h!w-\"><mutation items=\"1\"></mutation><field name=\"VAR\" id=\"_;PP-/]_2fNUR.dyhw(8\">readr</field><field name=\"MEMBER\">read_csv</field><data>readr:read_csv</data><value name=\"ADD0\"><block type=\"text\" id=\"dfrpI5b@DHr+DQ:|@vpv\"><field name=\"TEXT\">datasets/mpg-na-hidden.csv</field></block></value></block></value><value name=\"ADD0\"><block type=\"varDoMethod_R\" id=\"n023QH9wtPknPa-0N48U\"><mutation items=\"1\"></mutation><field name=\"VAR\" id=\"`IEAx*Bh}E,Y}mK;jr;{\">dplyr</field><field name=\"MEMBER\">mutate</field><data>dplyr:mutate</data><value name=\"ADD0\"><block type=\"dummyOutputCodeBlock_R\" id=\"]T7_jV(D%wn(Y2f8-zu(\"><field name=\"CODE\">across(horsepower,~na_if(.,0))</field></block></value></block></value></block></value></block><block type=\"variables_get\" id=\"dn{+Q#DO%lN;G_tFGJ#B\" x=\"-114\" y=\"118\"><field name=\"VAR\" id=\"(*,(U(rm+VG0+vg;w$65\">dataframe</field></block></xml>"
   ]
  },
  {
   "cell_type": "markdown",
   "metadata": {},
   "source": [
    "-----------\n",
    "**QUESTION:**\n",
    "\n",
    "You have two choices at this point: `drop_na` or `replace_na` with another value (like the median).\n",
    "Which would you do, and why?\n"
   ]
  },
  {
   "cell_type": "markdown",
   "metadata": {},
   "source": [
    "**ANSWER: (click here to edit)**\n",
    "\n",
    "*I'd `dropna` since it's just six rows.*\n",
    "\n",
    "--------------------"
   ]
  },
  {
   "cell_type": "markdown",
   "metadata": {},
   "source": [
    "Update the dataframe using whichever of the two options you chose above."
   ]
  },
  {
   "cell_type": "code",
   "execution_count": 9,
   "metadata": {},
   "outputs": [],
   "source": [
    "dataframe = tidyr::drop_na(dataframe)\n",
    "\n",
    "#<xml xmlns=\"https://developers.google.com/blockly/xml\"><variables><variable id=\"(*,(U(rm+VG0+vg;w$65\">dataframe</variable><variable id=\"%ovw[;dNkqx,|V0M/RZA\">tidyr</variable></variables><block type=\"variables_set\" id=\"i+A-_eU6OKaA+^g34*WE\" x=\"-59\" y=\"163\"><field name=\"VAR\" id=\"(*,(U(rm+VG0+vg;w$65\">dataframe</field><value name=\"VALUE\"><block type=\"varDoMethod_R\" id=\"pNGkqP{oupFzT?hF@Hq9\"><mutation items=\"1\"></mutation><field name=\"VAR\" id=\"%ovw[;dNkqx,|V0M/RZA\">tidyr</field><field name=\"MEMBER\">drop_na</field><data>tidyr:drop_na</data><value name=\"ADD0\"><block type=\"variables_get\" id=\";uAzt8X[4a#Jkp.#|6I/\"><field name=\"VAR\" id=\"(*,(U(rm+VG0+vg;w$65\">dataframe</field></block></value></block></value></block></xml>"
   ]
  },
  {
   "cell_type": "markdown",
   "metadata": {},
   "source": [
    "## Transforming data\n",
    "\n",
    "### Outliers\n",
    "\n",
    "Filter the values below the 1st percentile and above the 99th percentile for each variable in the dataframe, save this in the dataframe, and display it.\n",
    "\n",
    "*Hint: Use `where(is.numeric)` because quantiles need numeric variables.*"
   ]
  },
  {
   "cell_type": "code",
   "execution_count": 11,
   "metadata": {},
   "outputs": [
    {
     "data": {
      "text/html": [
       "<table class=\"dataframe\">\n",
       "<caption>A tibble: 359 × 9</caption>\n",
       "<thead>\n",
       "\t<tr><th scope=col>mpg</th><th scope=col>cylinders</th><th scope=col>displacement</th><th scope=col>horsepower</th><th scope=col>weight</th><th scope=col>acceleration</th><th scope=col>model_year</th><th scope=col>origin</th><th scope=col>name</th></tr>\n",
       "\t<tr><th scope=col>&lt;dbl&gt;</th><th scope=col>&lt;dbl&gt;</th><th scope=col>&lt;dbl&gt;</th><th scope=col>&lt;dbl&gt;</th><th scope=col>&lt;dbl&gt;</th><th scope=col>&lt;dbl&gt;</th><th scope=col>&lt;dbl&gt;</th><th scope=col>&lt;dbl&gt;</th><th scope=col>&lt;chr&gt;</th></tr>\n",
       "</thead>\n",
       "<tbody>\n",
       "\t<tr><td>18</td><td>8</td><td>307</td><td>130</td><td>3504</td><td>12.0</td><td>70</td><td>1</td><td>chevrolet chevelle malibu</td></tr>\n",
       "\t<tr><td>15</td><td>8</td><td>350</td><td>165</td><td>3693</td><td>11.5</td><td>70</td><td>1</td><td>buick skylark 320        </td></tr>\n",
       "\t<tr><td>18</td><td>8</td><td>318</td><td>150</td><td>3436</td><td>11.0</td><td>70</td><td>1</td><td>plymouth satellite       </td></tr>\n",
       "\t<tr><td>16</td><td>8</td><td>304</td><td>150</td><td>3433</td><td>12.0</td><td>70</td><td>1</td><td>amc rebel sst            </td></tr>\n",
       "\t<tr><td>17</td><td>8</td><td>302</td><td>140</td><td>3449</td><td>10.5</td><td>70</td><td>1</td><td>ford torino              </td></tr>\n",
       "\t<tr><td>15</td><td>8</td><td>429</td><td>198</td><td>4341</td><td>10.0</td><td>70</td><td>1</td><td>ford galaxie 500         </td></tr>\n",
       "\t<tr><td>15</td><td>8</td><td>383</td><td>170</td><td>3563</td><td>10.0</td><td>70</td><td>1</td><td>dodge challenger se      </td></tr>\n",
       "\t<tr><td>⋮</td><td>⋮</td><td>⋮</td><td>⋮</td><td>⋮</td><td>⋮</td><td>⋮</td><td>⋮</td><td>⋮</td></tr>\n",
       "\t<tr><td>32</td><td>4</td><td>144</td><td>96</td><td>2665</td><td>13.9</td><td>82</td><td>3</td><td>toyota celica gt </td></tr>\n",
       "\t<tr><td>36</td><td>4</td><td>135</td><td>84</td><td>2370</td><td>13.0</td><td>82</td><td>1</td><td>dodge charger 2.2</td></tr>\n",
       "\t<tr><td>27</td><td>4</td><td>151</td><td>90</td><td>2950</td><td>17.3</td><td>82</td><td>1</td><td>chevrolet camaro </td></tr>\n",
       "\t<tr><td>27</td><td>4</td><td>140</td><td>86</td><td>2790</td><td>15.6</td><td>82</td><td>1</td><td>ford mustang gl  </td></tr>\n",
       "\t<tr><td>32</td><td>4</td><td>135</td><td>84</td><td>2295</td><td>11.6</td><td>82</td><td>1</td><td>dodge rampage    </td></tr>\n",
       "\t<tr><td>28</td><td>4</td><td>120</td><td>79</td><td>2625</td><td>18.6</td><td>82</td><td>1</td><td>ford ranger      </td></tr>\n",
       "\t<tr><td>31</td><td>4</td><td>119</td><td>82</td><td>2720</td><td>19.4</td><td>82</td><td>1</td><td>chevy s-10       </td></tr>\n",
       "</tbody>\n",
       "</table>\n"
      ],
      "text/latex": [
       "A tibble: 359 × 9\n",
       "\\begin{tabular}{lllllllll}\n",
       " mpg & cylinders & displacement & horsepower & weight & acceleration & model\\_year & origin & name\\\\\n",
       " <dbl> & <dbl> & <dbl> & <dbl> & <dbl> & <dbl> & <dbl> & <dbl> & <chr>\\\\\n",
       "\\hline\n",
       "\t 18 & 8 & 307 & 130 & 3504 & 12.0 & 70 & 1 & chevrolet chevelle malibu\\\\\n",
       "\t 15 & 8 & 350 & 165 & 3693 & 11.5 & 70 & 1 & buick skylark 320        \\\\\n",
       "\t 18 & 8 & 318 & 150 & 3436 & 11.0 & 70 & 1 & plymouth satellite       \\\\\n",
       "\t 16 & 8 & 304 & 150 & 3433 & 12.0 & 70 & 1 & amc rebel sst            \\\\\n",
       "\t 17 & 8 & 302 & 140 & 3449 & 10.5 & 70 & 1 & ford torino              \\\\\n",
       "\t 15 & 8 & 429 & 198 & 4341 & 10.0 & 70 & 1 & ford galaxie 500         \\\\\n",
       "\t 15 & 8 & 383 & 170 & 3563 & 10.0 & 70 & 1 & dodge challenger se      \\\\\n",
       "\t ⋮ & ⋮ & ⋮ & ⋮ & ⋮ & ⋮ & ⋮ & ⋮ & ⋮\\\\\n",
       "\t 32 & 4 & 144 & 96 & 2665 & 13.9 & 82 & 3 & toyota celica gt \\\\\n",
       "\t 36 & 4 & 135 & 84 & 2370 & 13.0 & 82 & 1 & dodge charger 2.2\\\\\n",
       "\t 27 & 4 & 151 & 90 & 2950 & 17.3 & 82 & 1 & chevrolet camaro \\\\\n",
       "\t 27 & 4 & 140 & 86 & 2790 & 15.6 & 82 & 1 & ford mustang gl  \\\\\n",
       "\t 32 & 4 & 135 & 84 & 2295 & 11.6 & 82 & 1 & dodge rampage    \\\\\n",
       "\t 28 & 4 & 120 & 79 & 2625 & 18.6 & 82 & 1 & ford ranger      \\\\\n",
       "\t 31 & 4 & 119 & 82 & 2720 & 19.4 & 82 & 1 & chevy s-10       \\\\\n",
       "\\end{tabular}\n"
      ],
      "text/markdown": [
       "\n",
       "A tibble: 359 × 9\n",
       "\n",
       "| mpg &lt;dbl&gt; | cylinders &lt;dbl&gt; | displacement &lt;dbl&gt; | horsepower &lt;dbl&gt; | weight &lt;dbl&gt; | acceleration &lt;dbl&gt; | model_year &lt;dbl&gt; | origin &lt;dbl&gt; | name &lt;chr&gt; |\n",
       "|---|---|---|---|---|---|---|---|---|\n",
       "| 18 | 8 | 307 | 130 | 3504 | 12.0 | 70 | 1 | chevrolet chevelle malibu |\n",
       "| 15 | 8 | 350 | 165 | 3693 | 11.5 | 70 | 1 | buick skylark 320         |\n",
       "| 18 | 8 | 318 | 150 | 3436 | 11.0 | 70 | 1 | plymouth satellite        |\n",
       "| 16 | 8 | 304 | 150 | 3433 | 12.0 | 70 | 1 | amc rebel sst             |\n",
       "| 17 | 8 | 302 | 140 | 3449 | 10.5 | 70 | 1 | ford torino               |\n",
       "| 15 | 8 | 429 | 198 | 4341 | 10.0 | 70 | 1 | ford galaxie 500          |\n",
       "| 15 | 8 | 383 | 170 | 3563 | 10.0 | 70 | 1 | dodge challenger se       |\n",
       "| ⋮ | ⋮ | ⋮ | ⋮ | ⋮ | ⋮ | ⋮ | ⋮ | ⋮ |\n",
       "| 32 | 4 | 144 | 96 | 2665 | 13.9 | 82 | 3 | toyota celica gt  |\n",
       "| 36 | 4 | 135 | 84 | 2370 | 13.0 | 82 | 1 | dodge charger 2.2 |\n",
       "| 27 | 4 | 151 | 90 | 2950 | 17.3 | 82 | 1 | chevrolet camaro  |\n",
       "| 27 | 4 | 140 | 86 | 2790 | 15.6 | 82 | 1 | ford mustang gl   |\n",
       "| 32 | 4 | 135 | 84 | 2295 | 11.6 | 82 | 1 | dodge rampage     |\n",
       "| 28 | 4 | 120 | 79 | 2625 | 18.6 | 82 | 1 | ford ranger       |\n",
       "| 31 | 4 | 119 | 82 | 2720 | 19.4 | 82 | 1 | chevy s-10        |\n",
       "\n"
      ],
      "text/plain": [
       "    mpg cylinders displacement horsepower weight acceleration model_year origin\n",
       "1   18  8         307          130        3504   12.0         70         1     \n",
       "2   15  8         350          165        3693   11.5         70         1     \n",
       "3   18  8         318          150        3436   11.0         70         1     \n",
       "4   16  8         304          150        3433   12.0         70         1     \n",
       "5   17  8         302          140        3449   10.5         70         1     \n",
       "6   15  8         429          198        4341   10.0         70         1     \n",
       "7   15  8         383          170        3563   10.0         70         1     \n",
       "⋮   ⋮   ⋮         ⋮            ⋮          ⋮      ⋮            ⋮          ⋮     \n",
       "353 32  4         144          96         2665   13.9         82         3     \n",
       "354 36  4         135          84         2370   13.0         82         1     \n",
       "355 27  4         151          90         2950   17.3         82         1     \n",
       "356 27  4         140          86         2790   15.6         82         1     \n",
       "357 32  4         135          84         2295   11.6         82         1     \n",
       "358 28  4         120          79         2625   18.6         82         1     \n",
       "359 31  4         119          82         2720   19.4         82         1     \n",
       "    name                     \n",
       "1   chevrolet chevelle malibu\n",
       "2   buick skylark 320        \n",
       "3   plymouth satellite       \n",
       "4   amc rebel sst            \n",
       "5   ford torino              \n",
       "6   ford galaxie 500         \n",
       "7   dodge challenger se      \n",
       "⋮   ⋮                        \n",
       "353 toyota celica gt         \n",
       "354 dodge charger 2.2        \n",
       "355 chevrolet camaro         \n",
       "356 ford mustang gl          \n",
       "357 dodge rampage            \n",
       "358 ford ranger              \n",
       "359 chevy s-10               "
      ]
     },
     "metadata": {},
     "output_type": "display_data"
    }
   ],
   "source": [
    "dataframe = dataframe %>%\n",
    "    dplyr::filter(if_all(where(is.numeric), ~.x >= quantile(.x,.01) & .x <= quantile(.x,.99)))\n",
    "\n",
    "dataframe\n",
    "\n",
    "#<xml xmlns=\"https://developers.google.com/blockly/xml\"><variables><variable id=\"(*,(U(rm+VG0+vg;w$65\">dataframe</variable><variable id=\"`IEAx*Bh}E,Y}mK;jr;{\">dplyr</variable></variables><block type=\"variables_set\" id=\"({Y/l^eCh/p/81c2CA3!\" x=\"-105\" y=\"84\"><field name=\"VAR\" id=\"(*,(U(rm+VG0+vg;w$65\">dataframe</field><value name=\"VALUE\"><block type=\"pipe_R\" id=\"!gwXC?8/[mR7wV[4{{f+\"><mutation items=\"1\"></mutation><value name=\"INPUT\"><block type=\"variables_get\" id=\"dn{+Q#DO%lN;G_tFGJ#B\"><field name=\"VAR\" id=\"(*,(U(rm+VG0+vg;w$65\">dataframe</field></block></value><value name=\"ADD0\"><block type=\"varDoMethod_R\" id=\"n023QH9wtPknPa-0N48U\"><mutation items=\"1\"></mutation><field name=\"VAR\" id=\"`IEAx*Bh}E,Y}mK;jr;{\">dplyr</field><field name=\"MEMBER\">filter</field><data>dplyr:filter</data><value name=\"ADD0\"><block type=\"dummyOutputCodeBlock_R\" id=\"]T7_jV(D%wn(Y2f8-zu(\"><field name=\"CODE\">if_all(where(is.numeric), ~.x &gt;= quantile(.x,.01) &amp; .x &lt;= quantile(.x,.99))</field></block></value></block></value></block></value></block><block type=\"variables_get\" id=\"5HH,QE!p;!1qfy,Vsi8~\" x=\"-129\" y=\"199\"><field name=\"VAR\" id=\"(*,(U(rm+VG0+vg;w$65\">dataframe</field></block></xml>"
   ]
  },
  {
   "cell_type": "markdown",
   "metadata": {},
   "source": [
    "`describe` the dataframe again."
   ]
  },
  {
   "cell_type": "code",
   "execution_count": 12,
   "metadata": {},
   "outputs": [
    {
     "data": {
      "text/html": [
       "<table class=\"dataframe\">\n",
       "<caption>A psych: 9 × 13</caption>\n",
       "<thead>\n",
       "\t<tr><th></th><th scope=col>vars</th><th scope=col>n</th><th scope=col>mean</th><th scope=col>sd</th><th scope=col>median</th><th scope=col>trimmed</th><th scope=col>mad</th><th scope=col>min</th><th scope=col>max</th><th scope=col>range</th><th scope=col>skew</th><th scope=col>kurtosis</th><th scope=col>se</th></tr>\n",
       "\t<tr><th></th><th scope=col>&lt;int&gt;</th><th scope=col>&lt;dbl&gt;</th><th scope=col>&lt;dbl&gt;</th><th scope=col>&lt;dbl&gt;</th><th scope=col>&lt;dbl&gt;</th><th scope=col>&lt;dbl&gt;</th><th scope=col>&lt;dbl&gt;</th><th scope=col>&lt;dbl&gt;</th><th scope=col>&lt;dbl&gt;</th><th scope=col>&lt;dbl&gt;</th><th scope=col>&lt;dbl&gt;</th><th scope=col>&lt;dbl&gt;</th><th scope=col>&lt;dbl&gt;</th></tr>\n",
       "</thead>\n",
       "<tbody>\n",
       "\t<tr><th scope=row>mpg</th><td>1</td><td>359</td><td>  23.466017</td><td>  7.3035932</td><td>  23.0</td><td>  23.119723</td><td>  8.1543</td><td>  11.0</td><td>  43.1</td><td>  32.1</td><td> 0.351010860</td><td>-0.8283693</td><td> 0.38546890</td></tr>\n",
       "\t<tr><th scope=row>cylinders</th><td>2</td><td>359</td><td>   5.451253</td><td>  1.6603299</td><td>   4.0</td><td>   5.318339</td><td>  0.0000</td><td>   4.0</td><td>   8.0</td><td>   4.0</td><td> 0.550764764</td><td>-1.3352139</td><td> 0.08762886</td></tr>\n",
       "\t<tr><th scope=row>displacement</th><td>3</td><td>359</td><td> 191.324513</td><td> 97.4829658</td><td> 151.0</td><td> 182.105536</td><td> 88.9560</td><td>  71.0</td><td> 440.0</td><td> 369.0</td><td> 0.660494152</td><td>-0.8789972</td><td> 5.14495415</td></tr>\n",
       "\t<tr><th scope=row>horsepower</th><td>4</td><td>359</td><td> 102.420613</td><td> 33.3285443</td><td>  92.0</td><td>  98.941176</td><td> 26.6868</td><td>  48.0</td><td> 215.0</td><td> 167.0</td><td> 0.961090219</td><td> 0.2603685</td><td> 1.75901329</td></tr>\n",
       "\t<tr><th scope=row>weight</th><td>5</td><td>359</td><td>2959.899721</td><td>799.6829756</td><td>2807.0</td><td>2905.868512</td><td>916.2468</td><td>1773.0</td><td>4906.0</td><td>3133.0</td><td> 0.481980038</td><td>-0.8868501</td><td>42.20565321</td></tr>\n",
       "\t<tr><th scope=row>acceleration</th><td>6</td><td>359</td><td>  15.570195</td><td>  2.4530400</td><td>  15.5</td><td>  15.518339</td><td>  2.2239</td><td>   9.5</td><td>  22.2</td><td>  12.7</td><td> 0.241113180</td><td>-0.1641527</td><td> 0.12946650</td></tr>\n",
       "\t<tr><th scope=row>model_year</th><td>7</td><td>359</td><td>  76.161560</td><td>  3.5793595</td><td>  76.0</td><td>  76.166090</td><td>  4.4478</td><td>  70.0</td><td>  82.0</td><td>  12.0</td><td>-0.007323062</td><td>-1.1149728</td><td> 0.18891137</td></tr>\n",
       "\t<tr><th scope=row>origin</th><td>8</td><td>359</td><td>   1.551532</td><td>  0.7959336</td><td>   1.0</td><td>   1.442907</td><td>  0.0000</td><td>   1.0</td><td>   3.0</td><td>   2.0</td><td> 0.975111454</td><td>-0.7273851</td><td> 0.04200777</td></tr>\n",
       "\t<tr><th scope=row>name*</th><td>9</td><td>359</td><td> 135.779944</td><td> 81.5228935</td><td> 137.0</td><td> 135.716263</td><td>108.2298</td><td>   1.0</td><td> 276.0</td><td> 275.0</td><td> 0.011052595</td><td>-1.2474642</td><td> 4.30261376</td></tr>\n",
       "</tbody>\n",
       "</table>\n"
      ],
      "text/latex": [
       "A psych: 9 × 13\n",
       "\\begin{tabular}{r|lllllllllllll}\n",
       "  & vars & n & mean & sd & median & trimmed & mad & min & max & range & skew & kurtosis & se\\\\\n",
       "  & <int> & <dbl> & <dbl> & <dbl> & <dbl> & <dbl> & <dbl> & <dbl> & <dbl> & <dbl> & <dbl> & <dbl> & <dbl>\\\\\n",
       "\\hline\n",
       "\tmpg & 1 & 359 &   23.466017 &   7.3035932 &   23.0 &   23.119723 &   8.1543 &   11.0 &   43.1 &   32.1 &  0.351010860 & -0.8283693 &  0.38546890\\\\\n",
       "\tcylinders & 2 & 359 &    5.451253 &   1.6603299 &    4.0 &    5.318339 &   0.0000 &    4.0 &    8.0 &    4.0 &  0.550764764 & -1.3352139 &  0.08762886\\\\\n",
       "\tdisplacement & 3 & 359 &  191.324513 &  97.4829658 &  151.0 &  182.105536 &  88.9560 &   71.0 &  440.0 &  369.0 &  0.660494152 & -0.8789972 &  5.14495415\\\\\n",
       "\thorsepower & 4 & 359 &  102.420613 &  33.3285443 &   92.0 &   98.941176 &  26.6868 &   48.0 &  215.0 &  167.0 &  0.961090219 &  0.2603685 &  1.75901329\\\\\n",
       "\tweight & 5 & 359 & 2959.899721 & 799.6829756 & 2807.0 & 2905.868512 & 916.2468 & 1773.0 & 4906.0 & 3133.0 &  0.481980038 & -0.8868501 & 42.20565321\\\\\n",
       "\tacceleration & 6 & 359 &   15.570195 &   2.4530400 &   15.5 &   15.518339 &   2.2239 &    9.5 &   22.2 &   12.7 &  0.241113180 & -0.1641527 &  0.12946650\\\\\n",
       "\tmodel\\_year & 7 & 359 &   76.161560 &   3.5793595 &   76.0 &   76.166090 &   4.4478 &   70.0 &   82.0 &   12.0 & -0.007323062 & -1.1149728 &  0.18891137\\\\\n",
       "\torigin & 8 & 359 &    1.551532 &   0.7959336 &    1.0 &    1.442907 &   0.0000 &    1.0 &    3.0 &    2.0 &  0.975111454 & -0.7273851 &  0.04200777\\\\\n",
       "\tname* & 9 & 359 &  135.779944 &  81.5228935 &  137.0 &  135.716263 & 108.2298 &    1.0 &  276.0 &  275.0 &  0.011052595 & -1.2474642 &  4.30261376\\\\\n",
       "\\end{tabular}\n"
      ],
      "text/markdown": [
       "\n",
       "A psych: 9 × 13\n",
       "\n",
       "| <!--/--> | vars &lt;int&gt; | n &lt;dbl&gt; | mean &lt;dbl&gt; | sd &lt;dbl&gt; | median &lt;dbl&gt; | trimmed &lt;dbl&gt; | mad &lt;dbl&gt; | min &lt;dbl&gt; | max &lt;dbl&gt; | range &lt;dbl&gt; | skew &lt;dbl&gt; | kurtosis &lt;dbl&gt; | se &lt;dbl&gt; |\n",
       "|---|---|---|---|---|---|---|---|---|---|---|---|---|---|\n",
       "| mpg | 1 | 359 |   23.466017 |   7.3035932 |   23.0 |   23.119723 |   8.1543 |   11.0 |   43.1 |   32.1 |  0.351010860 | -0.8283693 |  0.38546890 |\n",
       "| cylinders | 2 | 359 |    5.451253 |   1.6603299 |    4.0 |    5.318339 |   0.0000 |    4.0 |    8.0 |    4.0 |  0.550764764 | -1.3352139 |  0.08762886 |\n",
       "| displacement | 3 | 359 |  191.324513 |  97.4829658 |  151.0 |  182.105536 |  88.9560 |   71.0 |  440.0 |  369.0 |  0.660494152 | -0.8789972 |  5.14495415 |\n",
       "| horsepower | 4 | 359 |  102.420613 |  33.3285443 |   92.0 |   98.941176 |  26.6868 |   48.0 |  215.0 |  167.0 |  0.961090219 |  0.2603685 |  1.75901329 |\n",
       "| weight | 5 | 359 | 2959.899721 | 799.6829756 | 2807.0 | 2905.868512 | 916.2468 | 1773.0 | 4906.0 | 3133.0 |  0.481980038 | -0.8868501 | 42.20565321 |\n",
       "| acceleration | 6 | 359 |   15.570195 |   2.4530400 |   15.5 |   15.518339 |   2.2239 |    9.5 |   22.2 |   12.7 |  0.241113180 | -0.1641527 |  0.12946650 |\n",
       "| model_year | 7 | 359 |   76.161560 |   3.5793595 |   76.0 |   76.166090 |   4.4478 |   70.0 |   82.0 |   12.0 | -0.007323062 | -1.1149728 |  0.18891137 |\n",
       "| origin | 8 | 359 |    1.551532 |   0.7959336 |    1.0 |    1.442907 |   0.0000 |    1.0 |    3.0 |    2.0 |  0.975111454 | -0.7273851 |  0.04200777 |\n",
       "| name* | 9 | 359 |  135.779944 |  81.5228935 |  137.0 |  135.716263 | 108.2298 |    1.0 |  276.0 |  275.0 |  0.011052595 | -1.2474642 |  4.30261376 |\n",
       "\n"
      ],
      "text/plain": [
       "             vars n   mean        sd          median trimmed     mad     \n",
       "mpg          1    359   23.466017   7.3035932   23.0   23.119723   8.1543\n",
       "cylinders    2    359    5.451253   1.6603299    4.0    5.318339   0.0000\n",
       "displacement 3    359  191.324513  97.4829658  151.0  182.105536  88.9560\n",
       "horsepower   4    359  102.420613  33.3285443   92.0   98.941176  26.6868\n",
       "weight       5    359 2959.899721 799.6829756 2807.0 2905.868512 916.2468\n",
       "acceleration 6    359   15.570195   2.4530400   15.5   15.518339   2.2239\n",
       "model_year   7    359   76.161560   3.5793595   76.0   76.166090   4.4478\n",
       "origin       8    359    1.551532   0.7959336    1.0    1.442907   0.0000\n",
       "name*        9    359  135.779944  81.5228935  137.0  135.716263 108.2298\n",
       "             min    max    range  skew         kurtosis   se         \n",
       "mpg            11.0   43.1   32.1  0.351010860 -0.8283693  0.38546890\n",
       "cylinders       4.0    8.0    4.0  0.550764764 -1.3352139  0.08762886\n",
       "displacement   71.0  440.0  369.0  0.660494152 -0.8789972  5.14495415\n",
       "horsepower     48.0  215.0  167.0  0.961090219  0.2603685  1.75901329\n",
       "weight       1773.0 4906.0 3133.0  0.481980038 -0.8868501 42.20565321\n",
       "acceleration    9.5   22.2   12.7  0.241113180 -0.1641527  0.12946650\n",
       "model_year     70.0   82.0   12.0 -0.007323062 -1.1149728  0.18891137\n",
       "origin          1.0    3.0    2.0  0.975111454 -0.7273851  0.04200777\n",
       "name*           1.0  276.0  275.0  0.011052595 -1.2474642  4.30261376"
      ]
     },
     "metadata": {},
     "output_type": "display_data"
    }
   ],
   "source": [
    "psych::describe(dataframe)\n",
    "\n",
    "#<xml xmlns=\"https://developers.google.com/blockly/xml\"><variables><variable id=\"-%rFagMkPz%VG@$q~ANP\">psych</variable><variable id=\"(*,(U(rm+VG0+vg;w$65\">dataframe</variable></variables><block type=\"varDoMethod_R\" id=\"Ik/4b5VaB!,h*!CDG/;:\" x=\"-71\" y=\"128\"><mutation items=\"1\"></mutation><field name=\"VAR\" id=\"-%rFagMkPz%VG@$q~ANP\">psych</field><field name=\"MEMBER\">describe</field><data>psych:describe</data><value name=\"ADD0\"><block type=\"variables_get\" id=\"9~!*.^kJ;;#xmnox7F3h\"><field name=\"VAR\" id=\"(*,(U(rm+VG0+vg;w$65\">dataframe</field></block></value></block></xml>"
   ]
  },
  {
   "cell_type": "markdown",
   "metadata": {},
   "source": [
    "-----------\n",
    "**QUESTION:**\n",
    "\n",
    "Did the min, mean, and max change?\n",
    "What about the 25th, 50th (median), and 75th percentiles?\n",
    "Are you surprised?\n"
   ]
  },
  {
   "cell_type": "markdown",
   "metadata": {},
   "source": [
    "**ANSWER: (click here to edit)**\n",
    "\n",
    "*The min, mean, max all changed slightly.\n",
    "The listed percentiles did not change, nor did we expect them to.*\n",
    "\n",
    "--------------------"
   ]
  },
  {
   "cell_type": "markdown",
   "metadata": {},
   "source": [
    "### Non-normality\n",
    "\n",
    "Plot a histogram of `displacement`."
   ]
  },
  {
   "cell_type": "code",
   "execution_count": 13,
   "metadata": {},
   "outputs": [
    {
     "name": "stderr",
     "output_type": "stream",
     "text": [
      "\u001b[1m\u001b[22m`stat_bin()` using `bins = 30`. Pick better value with `binwidth`.\n"
     ]
    },
    {
     "data": {
      "image/png": "[encoded data removed]",
      "text/plain": [
       "plot without title"
      ]
     },
     "metadata": {
      "image/png": {
       "height": 480,
       "width": 600
      }
     },
     "output_type": "display_data"
    }
   ],
   "source": [
    "ggplot2::ggplot(dataframe) +\n",
    "    ggplot2::geom_histogram(aes(x=displacement))\n",
    "\n",
    "#<xml xmlns=\"https://developers.google.com/blockly/xml\"><variables><variable id=\"K2WB)HAgulDnN4.esuaK\">ggplot2</variable><variable id=\"(*,(U(rm+VG0+vg;w$65\">dataframe</variable></variables><block type=\"ggplot_plus_R\" id=\"bD~/Zx-C[msh!]*Bk0Ff\" x=\"-98\" y=\"163\"><mutation items=\"1\"></mutation><value name=\"INPUT\"><block type=\"varDoMethod_R\" id=\"(FrPTO6BHQ:/bS2i=Xor\"><mutation items=\"1\"></mutation><field name=\"VAR\" id=\"K2WB)HAgulDnN4.esuaK\">ggplot2</field><field name=\"MEMBER\">ggplot</field><data>ggplot2:ggplot</data><value name=\"ADD0\"><block type=\"variables_get\" id=\"CX]}YnAcF,:0n3,#Y%(B\"><field name=\"VAR\" id=\"(*,(U(rm+VG0+vg;w$65\">dataframe</field></block></value></block></value><value name=\"ADD0\"><block type=\"varDoMethod_R\" id=\"=A2TJ~wLjW;KweUAV2J!\"><mutation items=\"1\"></mutation><field name=\"VAR\" id=\"K2WB)HAgulDnN4.esuaK\">ggplot2</field><field name=\"MEMBER\">geom_histogram</field><data>ggplot2:geom_histogram</data><value name=\"ADD0\"><block type=\"dummyOutputCodeBlock_R\" id=\"45Q~]AWbZS/H)yTX%[*z\"><field name=\"CODE\">aes(x=displacement)</field></block></value></block></value></block></xml>"
   ]
  },
  {
   "cell_type": "markdown",
   "metadata": {},
   "source": [
    "-----------\n",
    "**QUESTION:**\n",
    "\n",
    "Suppose we wanted to predict `displacement` in a linear regression.\n",
    "Should we transform it to make it more normal?\n"
   ]
  },
  {
   "cell_type": "markdown",
   "metadata": {},
   "source": [
    "**ANSWER: (click here to edit)**\n",
    "\n",
    "*Possibly.\n",
    "It does seem skewed to the right, though I'm not convinced transforming it is the right way to deal with it.*\n",
    "\n",
    "--------------------"
   ]
  },
  {
   "cell_type": "markdown",
   "metadata": {},
   "source": [
    "Plot a log transformed `displacement`."
   ]
  },
  {
   "cell_type": "code",
   "execution_count": 16,
   "metadata": {},
   "outputs": [
    {
     "name": "stderr",
     "output_type": "stream",
     "text": [
      "\u001b[1m\u001b[22m`stat_bin()` using `bins = 30`. Pick better value with `binwidth`.\n"
     ]
    },
    {
     "data": {
      "image/png": "[encoded data removed]",
      "text/plain": [
       "plot without title"
      ]
     },
     "metadata": {
      "image/png": {
       "height": 480,
       "width": 600
      }
     },
     "output_type": "display_data"
    }
   ],
   "source": [
    "ggplot2::ggplot(dataframe) +\n",
    "    ggplot2::geom_histogram(aes(x=log(displacement)),fill=\"red\")\n",
    "\n",
    "#<xml xmlns=\"https://developers.google.com/blockly/xml\"><variables><variable id=\"K2WB)HAgulDnN4.esuaK\">ggplot2</variable><variable id=\"(*,(U(rm+VG0+vg;w$65\">dataframe</variable></variables><block type=\"ggplot_plus_R\" id=\"bD~/Zx-C[msh!]*Bk0Ff\" x=\"-98\" y=\"163\"><mutation items=\"1\"></mutation><value name=\"INPUT\"><block type=\"varDoMethod_R\" id=\"(FrPTO6BHQ:/bS2i=Xor\"><mutation items=\"1\"></mutation><field name=\"VAR\" id=\"K2WB)HAgulDnN4.esuaK\">ggplot2</field><field name=\"MEMBER\">ggplot</field><data>ggplot2:ggplot</data><value name=\"ADD0\"><block type=\"variables_get\" id=\"CX]}YnAcF,:0n3,#Y%(B\"><field name=\"VAR\" id=\"(*,(U(rm+VG0+vg;w$65\">dataframe</field></block></value></block></value><value name=\"ADD0\"><block type=\"varDoMethod_R\" id=\"=A2TJ~wLjW;KweUAV2J!\"><mutation items=\"1\"></mutation><field name=\"VAR\" id=\"K2WB)HAgulDnN4.esuaK\">ggplot2</field><field name=\"MEMBER\">geom_histogram</field><data>ggplot2:geom_histogram</data><value name=\"ADD0\"><block type=\"dummyOutputCodeBlock_R\" id=\"45Q~]AWbZS/H)yTX%[*z\"><field name=\"CODE\">aes(x=log(displacement)),fill=\"red\"</field></block></value></block></value></block></xml>"
   ]
  },
  {
   "cell_type": "markdown",
   "metadata": {},
   "source": [
    "-----------\n",
    "**QUESTION:**\n",
    "\n",
    "Is this better?\n",
    "What else might you consider doing?\n"
   ]
  },
  {
   "cell_type": "markdown",
   "metadata": {},
   "source": [
    "**ANSWER: (click here to edit)**\n",
    "\n",
    "*It might be better, but its not clearly better.\n",
    "It almost looks like it is bimodal now (with two peaks).\n",
    "I wonder if we should create a new varible that reflects these peaks, which would be a binary variable like `sportscar`=Yes or No*\n",
    "\n",
    "--------------------"
   ]
  },
  {
   "cell_type": "markdown",
   "metadata": {},
   "source": [
    "## Create new variables"
   ]
  },
  {
   "cell_type": "markdown",
   "metadata": {},
   "source": [
    "Create a new variable `ratio` in the dataframe that is `weight` divided by `horsepower`.\n",
    "This is called the power to weight ratio."
   ]
  },
  {
   "cell_type": "code",
   "execution_count": 17,
   "metadata": {},
   "outputs": [
    {
     "data": {
      "text/html": [
       "<table class=\"dataframe\">\n",
       "<caption>A tibble: 359 × 10</caption>\n",
       "<thead>\n",
       "\t<tr><th scope=col>mpg</th><th scope=col>cylinders</th><th scope=col>displacement</th><th scope=col>horsepower</th><th scope=col>weight</th><th scope=col>acceleration</th><th scope=col>model_year</th><th scope=col>origin</th><th scope=col>name</th><th scope=col>ratio</th></tr>\n",
       "\t<tr><th scope=col>&lt;dbl&gt;</th><th scope=col>&lt;dbl&gt;</th><th scope=col>&lt;dbl&gt;</th><th scope=col>&lt;dbl&gt;</th><th scope=col>&lt;dbl&gt;</th><th scope=col>&lt;dbl&gt;</th><th scope=col>&lt;dbl&gt;</th><th scope=col>&lt;dbl&gt;</th><th scope=col>&lt;chr&gt;</th><th scope=col>&lt;dbl&gt;</th></tr>\n",
       "</thead>\n",
       "<tbody>\n",
       "\t<tr><td>18</td><td>8</td><td>307</td><td>130</td><td>3504</td><td>12.0</td><td>70</td><td>1</td><td>chevrolet chevelle malibu</td><td>26.95385</td></tr>\n",
       "\t<tr><td>15</td><td>8</td><td>350</td><td>165</td><td>3693</td><td>11.5</td><td>70</td><td>1</td><td>buick skylark 320        </td><td>22.38182</td></tr>\n",
       "\t<tr><td>18</td><td>8</td><td>318</td><td>150</td><td>3436</td><td>11.0</td><td>70</td><td>1</td><td>plymouth satellite       </td><td>22.90667</td></tr>\n",
       "\t<tr><td>16</td><td>8</td><td>304</td><td>150</td><td>3433</td><td>12.0</td><td>70</td><td>1</td><td>amc rebel sst            </td><td>22.88667</td></tr>\n",
       "\t<tr><td>17</td><td>8</td><td>302</td><td>140</td><td>3449</td><td>10.5</td><td>70</td><td>1</td><td>ford torino              </td><td>24.63571</td></tr>\n",
       "\t<tr><td>15</td><td>8</td><td>429</td><td>198</td><td>4341</td><td>10.0</td><td>70</td><td>1</td><td>ford galaxie 500         </td><td>21.92424</td></tr>\n",
       "\t<tr><td>15</td><td>8</td><td>383</td><td>170</td><td>3563</td><td>10.0</td><td>70</td><td>1</td><td>dodge challenger se      </td><td>20.95882</td></tr>\n",
       "\t<tr><td>⋮</td><td>⋮</td><td>⋮</td><td>⋮</td><td>⋮</td><td>⋮</td><td>⋮</td><td>⋮</td><td>⋮</td><td>⋮</td></tr>\n",
       "\t<tr><td>32</td><td>4</td><td>144</td><td>96</td><td>2665</td><td>13.9</td><td>82</td><td>3</td><td>toyota celica gt </td><td>27.76042</td></tr>\n",
       "\t<tr><td>36</td><td>4</td><td>135</td><td>84</td><td>2370</td><td>13.0</td><td>82</td><td>1</td><td>dodge charger 2.2</td><td>28.21429</td></tr>\n",
       "\t<tr><td>27</td><td>4</td><td>151</td><td>90</td><td>2950</td><td>17.3</td><td>82</td><td>1</td><td>chevrolet camaro </td><td>32.77778</td></tr>\n",
       "\t<tr><td>27</td><td>4</td><td>140</td><td>86</td><td>2790</td><td>15.6</td><td>82</td><td>1</td><td>ford mustang gl  </td><td>32.44186</td></tr>\n",
       "\t<tr><td>32</td><td>4</td><td>135</td><td>84</td><td>2295</td><td>11.6</td><td>82</td><td>1</td><td>dodge rampage    </td><td>27.32143</td></tr>\n",
       "\t<tr><td>28</td><td>4</td><td>120</td><td>79</td><td>2625</td><td>18.6</td><td>82</td><td>1</td><td>ford ranger      </td><td>33.22785</td></tr>\n",
       "\t<tr><td>31</td><td>4</td><td>119</td><td>82</td><td>2720</td><td>19.4</td><td>82</td><td>1</td><td>chevy s-10       </td><td>33.17073</td></tr>\n",
       "</tbody>\n",
       "</table>\n"
      ],
      "text/latex": [
       "A tibble: 359 × 10\n",
       "\\begin{tabular}{llllllllll}\n",
       " mpg & cylinders & displacement & horsepower & weight & acceleration & model\\_year & origin & name & ratio\\\\\n",
       " <dbl> & <dbl> & <dbl> & <dbl> & <dbl> & <dbl> & <dbl> & <dbl> & <chr> & <dbl>\\\\\n",
       "\\hline\n",
       "\t 18 & 8 & 307 & 130 & 3504 & 12.0 & 70 & 1 & chevrolet chevelle malibu & 26.95385\\\\\n",
       "\t 15 & 8 & 350 & 165 & 3693 & 11.5 & 70 & 1 & buick skylark 320         & 22.38182\\\\\n",
       "\t 18 & 8 & 318 & 150 & 3436 & 11.0 & 70 & 1 & plymouth satellite        & 22.90667\\\\\n",
       "\t 16 & 8 & 304 & 150 & 3433 & 12.0 & 70 & 1 & amc rebel sst             & 22.88667\\\\\n",
       "\t 17 & 8 & 302 & 140 & 3449 & 10.5 & 70 & 1 & ford torino               & 24.63571\\\\\n",
       "\t 15 & 8 & 429 & 198 & 4341 & 10.0 & 70 & 1 & ford galaxie 500          & 21.92424\\\\\n",
       "\t 15 & 8 & 383 & 170 & 3563 & 10.0 & 70 & 1 & dodge challenger se       & 20.95882\\\\\n",
       "\t ⋮ & ⋮ & ⋮ & ⋮ & ⋮ & ⋮ & ⋮ & ⋮ & ⋮ & ⋮\\\\\n",
       "\t 32 & 4 & 144 & 96 & 2665 & 13.9 & 82 & 3 & toyota celica gt  & 27.76042\\\\\n",
       "\t 36 & 4 & 135 & 84 & 2370 & 13.0 & 82 & 1 & dodge charger 2.2 & 28.21429\\\\\n",
       "\t 27 & 4 & 151 & 90 & 2950 & 17.3 & 82 & 1 & chevrolet camaro  & 32.77778\\\\\n",
       "\t 27 & 4 & 140 & 86 & 2790 & 15.6 & 82 & 1 & ford mustang gl   & 32.44186\\\\\n",
       "\t 32 & 4 & 135 & 84 & 2295 & 11.6 & 82 & 1 & dodge rampage     & 27.32143\\\\\n",
       "\t 28 & 4 & 120 & 79 & 2625 & 18.6 & 82 & 1 & ford ranger       & 33.22785\\\\\n",
       "\t 31 & 4 & 119 & 82 & 2720 & 19.4 & 82 & 1 & chevy s-10        & 33.17073\\\\\n",
       "\\end{tabular}\n"
      ],
      "text/markdown": [
       "\n",
       "A tibble: 359 × 10\n",
       "\n",
       "| mpg &lt;dbl&gt; | cylinders &lt;dbl&gt; | displacement &lt;dbl&gt; | horsepower &lt;dbl&gt; | weight &lt;dbl&gt; | acceleration &lt;dbl&gt; | model_year &lt;dbl&gt; | origin &lt;dbl&gt; | name &lt;chr&gt; | ratio &lt;dbl&gt; |\n",
       "|---|---|---|---|---|---|---|---|---|---|\n",
       "| 18 | 8 | 307 | 130 | 3504 | 12.0 | 70 | 1 | chevrolet chevelle malibu | 26.95385 |\n",
       "| 15 | 8 | 350 | 165 | 3693 | 11.5 | 70 | 1 | buick skylark 320         | 22.38182 |\n",
       "| 18 | 8 | 318 | 150 | 3436 | 11.0 | 70 | 1 | plymouth satellite        | 22.90667 |\n",
       "| 16 | 8 | 304 | 150 | 3433 | 12.0 | 70 | 1 | amc rebel sst             | 22.88667 |\n",
       "| 17 | 8 | 302 | 140 | 3449 | 10.5 | 70 | 1 | ford torino               | 24.63571 |\n",
       "| 15 | 8 | 429 | 198 | 4341 | 10.0 | 70 | 1 | ford galaxie 500          | 21.92424 |\n",
       "| 15 | 8 | 383 | 170 | 3563 | 10.0 | 70 | 1 | dodge challenger se       | 20.95882 |\n",
       "| ⋮ | ⋮ | ⋮ | ⋮ | ⋮ | ⋮ | ⋮ | ⋮ | ⋮ | ⋮ |\n",
       "| 32 | 4 | 144 | 96 | 2665 | 13.9 | 82 | 3 | toyota celica gt  | 27.76042 |\n",
       "| 36 | 4 | 135 | 84 | 2370 | 13.0 | 82 | 1 | dodge charger 2.2 | 28.21429 |\n",
       "| 27 | 4 | 151 | 90 | 2950 | 17.3 | 82 | 1 | chevrolet camaro  | 32.77778 |\n",
       "| 27 | 4 | 140 | 86 | 2790 | 15.6 | 82 | 1 | ford mustang gl   | 32.44186 |\n",
       "| 32 | 4 | 135 | 84 | 2295 | 11.6 | 82 | 1 | dodge rampage     | 27.32143 |\n",
       "| 28 | 4 | 120 | 79 | 2625 | 18.6 | 82 | 1 | ford ranger       | 33.22785 |\n",
       "| 31 | 4 | 119 | 82 | 2720 | 19.4 | 82 | 1 | chevy s-10        | 33.17073 |\n",
       "\n"
      ],
      "text/plain": [
       "    mpg cylinders displacement horsepower weight acceleration model_year origin\n",
       "1   18  8         307          130        3504   12.0         70         1     \n",
       "2   15  8         350          165        3693   11.5         70         1     \n",
       "3   18  8         318          150        3436   11.0         70         1     \n",
       "4   16  8         304          150        3433   12.0         70         1     \n",
       "5   17  8         302          140        3449   10.5         70         1     \n",
       "6   15  8         429          198        4341   10.0         70         1     \n",
       "7   15  8         383          170        3563   10.0         70         1     \n",
       "⋮   ⋮   ⋮         ⋮            ⋮          ⋮      ⋮            ⋮          ⋮     \n",
       "353 32  4         144          96         2665   13.9         82         3     \n",
       "354 36  4         135          84         2370   13.0         82         1     \n",
       "355 27  4         151          90         2950   17.3         82         1     \n",
       "356 27  4         140          86         2790   15.6         82         1     \n",
       "357 32  4         135          84         2295   11.6         82         1     \n",
       "358 28  4         120          79         2625   18.6         82         1     \n",
       "359 31  4         119          82         2720   19.4         82         1     \n",
       "    name                      ratio   \n",
       "1   chevrolet chevelle malibu 26.95385\n",
       "2   buick skylark 320         22.38182\n",
       "3   plymouth satellite        22.90667\n",
       "4   amc rebel sst             22.88667\n",
       "5   ford torino               24.63571\n",
       "6   ford galaxie 500          21.92424\n",
       "7   dodge challenger se       20.95882\n",
       "⋮   ⋮                         ⋮       \n",
       "353 toyota celica gt          27.76042\n",
       "354 dodge charger 2.2         28.21429\n",
       "355 chevrolet camaro          32.77778\n",
       "356 ford mustang gl           32.44186\n",
       "357 dodge rampage             27.32143\n",
       "358 ford ranger               33.22785\n",
       "359 chevy s-10                33.17073"
      ]
     },
     "metadata": {},
     "output_type": "display_data"
    }
   ],
   "source": [
    "dataframe = dataframe %>%\n",
    "    dplyr::mutate(ratio=weight/horsepower)\n",
    "\n",
    "dataframe\n",
    "\n",
    "#<xml xmlns=\"https://developers.google.com/blockly/xml\"><variables><variable id=\"(*,(U(rm+VG0+vg;w$65\">dataframe</variable><variable id=\"`IEAx*Bh}E,Y}mK;jr;{\">dplyr</variable></variables><block type=\"variables_set\" id=\"}~8wvntHNzK`D7?4[i95\" x=\"-90\" y=\"128\"><field name=\"VAR\" id=\"(*,(U(rm+VG0+vg;w$65\">dataframe</field><value name=\"VALUE\"><block type=\"pipe_R\" id=\"`Bm.KNFiVf-}0;d26:q|\"><mutation items=\"1\"></mutation><value name=\"INPUT\"><block type=\"variables_get\" id=\"9~!*.^kJ;;#xmnox7F3h\"><field name=\"VAR\" id=\"(*,(U(rm+VG0+vg;w$65\">dataframe</field></block></value><value name=\"ADD0\"><block type=\"varDoMethod_R\" id=\"qU#{2.8b*0MBp^At${*/\"><mutation items=\"1\"></mutation><field name=\"VAR\" id=\"`IEAx*Bh}E,Y}mK;jr;{\">dplyr</field><field name=\"MEMBER\">mutate</field><data>dplyr:mutate</data><value name=\"ADD0\"><block type=\"dummyOutputCodeBlock_R\" id=\"VIe$YhiCCS{xIPni|h|{\"><field name=\"CODE\">ratio=weight/horsepower</field></block></value></block></value></block></value></block><block type=\"variables_get\" id=\"zu3|.8:_(],=,YLXLb_]\" x=\"-70\" y=\"244\"><field name=\"VAR\" id=\"(*,(U(rm+VG0+vg;w$65\">dataframe</field></block></xml>"
   ]
  },
  {
   "cell_type": "markdown",
   "metadata": {},
   "source": [
    "Compare `ratio` to `weight` and `horsepower` in three plots.\n",
    "\n",
    "First, plot the histogram of weight."
   ]
  },
  {
   "cell_type": "code",
   "execution_count": 18,
   "metadata": {},
   "outputs": [
    {
     "name": "stderr",
     "output_type": "stream",
     "text": [
      "\u001b[1m\u001b[22m`stat_bin()` using `bins = 30`. Pick better value with `binwidth`.\n"
     ]
    },
    {
     "data": {
      "image/png": "[encoded data removed]",
      "text/plain": [
       "plot without title"
      ]
     },
     "metadata": {
      "image/png": {
       "height": 480,
       "width": 600
      }
     },
     "output_type": "display_data"
    }
   ],
   "source": [
    "ggplot2::ggplot(dataframe) +\n",
    "    ggplot2::geom_histogram(aes(x=weight))\n",
    "\n",
    "#<xml xmlns=\"https://developers.google.com/blockly/xml\"><variables><variable id=\"K2WB)HAgulDnN4.esuaK\">ggplot2</variable><variable id=\"(*,(U(rm+VG0+vg;w$65\">dataframe</variable></variables><block type=\"ggplot_plus_R\" id=\"bD~/Zx-C[msh!]*Bk0Ff\" x=\"-98\" y=\"163\"><mutation items=\"1\"></mutation><value name=\"INPUT\"><block type=\"varDoMethod_R\" id=\"(FrPTO6BHQ:/bS2i=Xor\"><mutation items=\"1\"></mutation><field name=\"VAR\" id=\"K2WB)HAgulDnN4.esuaK\">ggplot2</field><field name=\"MEMBER\">ggplot</field><data>ggplot2:ggplot</data><value name=\"ADD0\"><block type=\"variables_get\" id=\"CX]}YnAcF,:0n3,#Y%(B\"><field name=\"VAR\" id=\"(*,(U(rm+VG0+vg;w$65\">dataframe</field></block></value></block></value><value name=\"ADD0\"><block type=\"varDoMethod_R\" id=\"=A2TJ~wLjW;KweUAV2J!\"><mutation items=\"1\"></mutation><field name=\"VAR\" id=\"K2WB)HAgulDnN4.esuaK\">ggplot2</field><field name=\"MEMBER\">geom_histogram</field><data>ggplot2:geom_histogram</data><value name=\"ADD0\"><block type=\"dummyOutputCodeBlock_R\" id=\"45Q~]AWbZS/H)yTX%[*z\"><field name=\"CODE\">aes(x=weight)</field></block></value></block></value></block></xml>"
   ]
  },
  {
   "cell_type": "markdown",
   "metadata": {},
   "source": [
    "Next plot the histogram of `horsepower`."
   ]
  },
  {
   "cell_type": "code",
   "execution_count": 19,
   "metadata": {},
   "outputs": [
    {
     "name": "stderr",
     "output_type": "stream",
     "text": [
      "\u001b[1m\u001b[22m`stat_bin()` using `bins = 30`. Pick better value with `binwidth`.\n"
     ]
    },
    {
     "data": {
      "image/png": "[encoded data removed]",
      "text/plain": [
       "plot without title"
      ]
     },
     "metadata": {
      "image/png": {
       "height": 480,
       "width": 600
      }
     },
     "output_type": "display_data"
    }
   ],
   "source": [
    "ggplot2::ggplot(dataframe) +\n",
    "    ggplot2::geom_histogram(aes(x=horsepower))\n",
    "\n",
    "#<xml xmlns=\"https://developers.google.com/blockly/xml\"><variables><variable id=\"K2WB)HAgulDnN4.esuaK\">ggplot2</variable><variable id=\"(*,(U(rm+VG0+vg;w$65\">dataframe</variable></variables><block type=\"ggplot_plus_R\" id=\"bD~/Zx-C[msh!]*Bk0Ff\" x=\"-98\" y=\"163\"><mutation items=\"1\"></mutation><value name=\"INPUT\"><block type=\"varDoMethod_R\" id=\"(FrPTO6BHQ:/bS2i=Xor\"><mutation items=\"1\"></mutation><field name=\"VAR\" id=\"K2WB)HAgulDnN4.esuaK\">ggplot2</field><field name=\"MEMBER\">ggplot</field><data>ggplot2:ggplot</data><value name=\"ADD0\"><block type=\"variables_get\" id=\"CX]}YnAcF,:0n3,#Y%(B\"><field name=\"VAR\" id=\"(*,(U(rm+VG0+vg;w$65\">dataframe</field></block></value></block></value><value name=\"ADD0\"><block type=\"varDoMethod_R\" id=\"=A2TJ~wLjW;KweUAV2J!\"><mutation items=\"1\"></mutation><field name=\"VAR\" id=\"K2WB)HAgulDnN4.esuaK\">ggplot2</field><field name=\"MEMBER\">geom_histogram</field><data>ggplot2:geom_histogram</data><value name=\"ADD0\"><block type=\"dummyOutputCodeBlock_R\" id=\"45Q~]AWbZS/H)yTX%[*z\"><field name=\"CODE\">aes(x=horsepower)</field></block></value></block></value></block></xml>"
   ]
  },
  {
   "cell_type": "markdown",
   "metadata": {},
   "source": [
    "Finally plot the histogram of `ratio`."
   ]
  },
  {
   "cell_type": "code",
   "execution_count": 20,
   "metadata": {},
   "outputs": [
    {
     "name": "stderr",
     "output_type": "stream",
     "text": [
      "\u001b[1m\u001b[22m`stat_bin()` using `bins = 30`. Pick better value with `binwidth`.\n"
     ]
    },
    {
     "data": {
      "image/png": "[encoded data removed]",
      "text/plain": [
       "plot without title"
      ]
     },
     "metadata": {
      "image/png": {
       "height": 480,
       "width": 600
      }
     },
     "output_type": "display_data"
    }
   ],
   "source": [
    "ggplot2::ggplot(dataframe) +\n",
    "    ggplot2::geom_histogram(aes(x=ratio))\n",
    "\n",
    "#<xml xmlns=\"https://developers.google.com/blockly/xml\"><variables><variable id=\"K2WB)HAgulDnN4.esuaK\">ggplot2</variable><variable id=\"(*,(U(rm+VG0+vg;w$65\">dataframe</variable></variables><block type=\"ggplot_plus_R\" id=\"bD~/Zx-C[msh!]*Bk0Ff\" x=\"-98\" y=\"163\"><mutation items=\"1\"></mutation><value name=\"INPUT\"><block type=\"varDoMethod_R\" id=\"(FrPTO6BHQ:/bS2i=Xor\"><mutation items=\"1\"></mutation><field name=\"VAR\" id=\"K2WB)HAgulDnN4.esuaK\">ggplot2</field><field name=\"MEMBER\">ggplot</field><data>ggplot2:ggplot</data><value name=\"ADD0\"><block type=\"variables_get\" id=\"CX]}YnAcF,:0n3,#Y%(B\"><field name=\"VAR\" id=\"(*,(U(rm+VG0+vg;w$65\">dataframe</field></block></value></block></value><value name=\"ADD0\"><block type=\"varDoMethod_R\" id=\"=A2TJ~wLjW;KweUAV2J!\"><mutation items=\"1\"></mutation><field name=\"VAR\" id=\"K2WB)HAgulDnN4.esuaK\">ggplot2</field><field name=\"MEMBER\">geom_histogram</field><data>ggplot2:geom_histogram</data><value name=\"ADD0\"><block type=\"dummyOutputCodeBlock_R\" id=\"45Q~]AWbZS/H)yTX%[*z\"><field name=\"CODE\">aes(x=ratio)</field></block></value></block></value></block></xml>"
   ]
  },
  {
   "cell_type": "markdown",
   "metadata": {},
   "source": [
    "-----------\n",
    "**QUESTION:**\n",
    "\n",
    "What can you say about the distributions of variables in these three plots?\n",
    "How does it make you feel about `ratio`?\n"
   ]
  },
  {
   "cell_type": "markdown",
   "metadata": {},
   "source": [
    "**ANSWER: (click here to edit)**\n",
    "\n",
    "*The first two plots are not particularly normal, but `ratio` is.\n",
    "This makes me think that `ratio` is picking up on an interesting property of the data: heavier cars need bigger engines just to move themselves, and we seem to need 1 hp for every 30lbs of vehicle for car-like performance.*\n",
    "\n",
    "--------------------"
   ]
  },
  {
   "cell_type": "markdown",
   "metadata": {},
   "source": [
    "## Versioning\n",
    "\n",
    "Try to make a commit using your current workspace. "
   ]
  },
  {
   "cell_type": "markdown",
   "metadata": {},
   "source": [
    "-----------\n",
    "**QUESTION:**\n",
    "\n",
    "Was there anything about your workspace in `git` that surprised you?\n"
   ]
  },
  {
   "cell_type": "markdown",
   "metadata": {},
   "source": [
    "**ANSWER: (click here to edit)**\n",
    "\n",
    "*It appears the notebooks are already in `git` with an extensive history.*\n",
    "\n",
    "--------------------"
   ]
  },
  {
   "cell_type": "markdown",
   "metadata": {},
   "source": [
    "<!--  -->"
   ]
  }
 ],
 "metadata": {
  "kernelspec": {
   "display_name": "R",
   "language": "R",
   "name": "ir"
  },
  "language_info": {
   "codemirror_mode": "r",
   "file_extension": ".r",
   "mimetype": "text/x-r-source",
   "name": "R",
   "pygments_lexer": "r",
   "version": "4.2.1"
  }
 },
 "nbformat": 4,
 "nbformat_minor": 4
}
