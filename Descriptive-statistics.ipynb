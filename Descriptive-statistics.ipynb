{
 "cells": [
  {
   "cell_type": "markdown",
   "metadata": {
    "deletable": false,
    "editable": false
   },
   "source": [
    "Copyright 2022 Dale Bowman, Andrew M. Olney and made available under [CC BY-SA](https://creativecommons.org/licenses/by-sa/4.0) for text and [Apache-2.0](http://www.apache.org/licenses/LICENSE-2.0) for code."
   ]
  },
  {
   "cell_type": "markdown",
   "metadata": {},
   "source": [
    "# Descriptive statistics\n",
    "\n",
    "One of the most important components of a data science project is to examine your data using descriptive statistics. \n",
    "We call this phase of the project *Exploratory Data Analysis (EDA)*. \n",
    "\n",
    "There are two types of EDA, *graphical* EDA and *numerical* EDA. \n",
    "The graphical EDA involves plotting the features (variables) in the data to look for symmetry, skewness and multiple modality. \n",
    "**We will discuss numerical EDA in this session.**\n",
    "\n",
    "## What you will learn\n",
    "\n",
    "In the sections that follow you will learn about descriptive statistics, in particular numerical EDA, and how they can help us learn about our data and what types of analyses may be appropriate.  We will study the following:\n",
    "\n",
    "- level of measure\n",
    "- measures of central tendency\n",
    "- measures of dispersion\n",
    "- sampling\n",
    "\n",
    "## When to use numerical EDA\n",
    "\n",
    "Descriptive statistics, both numerical and graphical, are useful when you begin a data science project and you want to explore the data.  Often insights will be gained that can be useful in further analyses.\n",
    "\n",
    "## Level of Measure\n",
    "\n",
    "The type of features (variables) you have in the data determines which graphical and numerical techniques are appropriate. \n",
    "One characteristic of the features is their level of measure. \n",
    "There are four levels: nominal, ordinal, interval, and ratio. \n",
    "The characteristics of these levels are detailed in the table below.\n",
    "\n",
    "| Level    | Description                              | Example                      |\n",
    "|:---------|:-----------------------------------------|:-----------------------------|\n",
    "| nominal  | categorical data that can be *named*     | eye color                    |\n",
    "| ordinal  | categorical data with a natural ordering |  grades: A, B, C, D, F       |\n",
    "| interval | numerical data without a true zero       | Fahrenheit temperature scale |\n",
    "| ratio    | numerical data with a true zero          | Kelvin temperature scale     |\n",
    "\n",
    "\n",
    "## Descriptive Statistics, Numerical EDA\n",
    "\n",
    "Descriptive measures fall into one of two categories:\n",
    "\n",
    "- Measuring central tendencies of a variable\n",
    "- Measuring the spread of a variable\n",
    "\n",
    "To explore these, we'll use the `iris` dataset:\n",
    "\n",
    "| Variable    | Type    | Description           |\n",
    "|:-------------|:---------|:-----------------------|\n",
    "| SepalLength | Ratio   | the sepal length (cm) |\n",
    "| SepalWidth  | Ratio   | the sepal width (cm)  |\n",
    "| PetalLength | Ratio   | the petal length (cm) |\n",
    "| PetalWidth  | Ratio   | the petal width (cm)  |\n",
    "| Species     | Nominal | the flower species    |\n",
    "\n",
    "<div style=\"text-align:center;font-size: smaller\">\n",
    " <b>Source:</b> This dataset was taken from the <a href=\"https://archive.ics.uci.edu/ml/datasets/iris\">UCI Machine Learning Repository library\n",
    "    </a></div>\n",
    "<br>\n",
    "\n",
    "\n",
    "We can calculate central tendency and spread using several R packages.\n",
    "Let's start by importing `readr`:\n",
    "\n",
    "- `library readr`"
   ]
  },
  {
   "cell_type": "code",
   "execution_count": 22,
   "metadata": {},
   "outputs": [],
   "source": [
    "library(readr)\n",
    "\n",
    "#<xml xmlns=\"https://developers.google.com/blockly/xml\"><variables><variable id=\"YL8X8;LE`^hm(/Pe7$zz\">readr</variable></variables><block type=\"import_R\" id=\"Y!K^DxXEJ]YvUify+0uF\" x=\"16\" y=\"10\"><field name=\"libraryName\" id=\"YL8X8;LE`^hm(/Pe7$zz\">readr</field></block></xml>"
   ]
  },
  {
   "cell_type": "markdown",
   "metadata": {},
   "source": [
    "Now let's load a dataset into a dataframe:\n",
    "\n",
    "- Set `dataframe` to `with readr do read_csv using \"datasets/iris.csv\"`\n",
    "- Display `dataframe`"
   ]
  },
  {
   "cell_type": "code",
   "execution_count": null,
   "metadata": {},
   "outputs": [],
   "source": [
    "dataframe = readr::read_csv(\"datasets/iris.csv\")\n",
    "\n",
    "dataframe\n",
    "\n",
    "#<xml xmlns=\"https://developers.google.com/blockly/xml\"><variables><variable id=\"[V~uW+0L/4GW;45ulv+l\">dataframe</variable><variable id=\"YL8X8;LE`^hm(/Pe7$zz\">readr</variable></variables><block type=\"variables_set\" id=\"i*U..F)p9r]#n*e(./*x\" x=\"28\" y=\"272\"><field name=\"VAR\" id=\"[V~uW+0L/4GW;45ulv+l\">dataframe</field><value name=\"VALUE\"><block type=\"varDoMethod_R\" id=\"d~47.[8ahP7Ab1vu=Vee\"><mutation items=\"1\"></mutation><field name=\"VAR\" id=\"YL8X8;LE`^hm(/Pe7$zz\">readr</field><field name=\"MEMBER\">read_csv</field><data>readr:read_csv</data><value name=\"ADD0\"><block type=\"text\" id=\"~Mspn1jJRE!J8ISd3!#V\"><field name=\"TEXT\">datasets/iris.csv</field></block></value></block></value></block><block type=\"variables_get\" id=\"xI`MabBVXfmZ`j7Agkuf\" x=\"23\" y=\"343\"><field name=\"VAR\" id=\"[V~uW+0L/4GW;45ulv+l\">dataframe</field></block></xml>"
   ]
  },
  {
   "cell_type": "markdown",
   "metadata": {},
   "source": [
    "Now we're ready to calculate the measures of central tendency in the next section."
   ]
  },
  {
   "cell_type": "markdown",
   "metadata": {},
   "source": [
    "### Measures of Central Tendency\n",
    "\n",
    "The measures of central tendency most commonly used to describe data are **mean, median and mode**. \n",
    "\n",
    "A powerful way of calculating these measures of central tendency (along with other things) is the `dplyr` method `summarize`.\n",
    "\n",
    "So let's import `dplyr`\n",
    "\n",
    "- `library dplyr`"
   ]
  },
  {
   "cell_type": "code",
   "execution_count": 2,
   "metadata": {},
   "outputs": [
    {
     "name": "stderr",
     "output_type": "stream",
     "text": [
      "\n",
      "Attaching package: ‘dplyr’\n",
      "\n",
      "\n",
      "The following objects are masked from ‘package:stats’:\n",
      "\n",
      "    filter, lag\n",
      "\n",
      "\n",
      "The following objects are masked from ‘package:base’:\n",
      "\n",
      "    intersect, setdiff, setequal, union\n",
      "\n",
      "\n"
     ]
    }
   ],
   "source": [
    "library(dplyr)\n",
    "\n",
    "#<xml xmlns=\"https://developers.google.com/blockly/xml\"><variables><variable id=\"eNrJ9[?:!)MH8@C/C@}4\">dplyr</variable></variables><block type=\"import_R\" id=\"}brvEys-]icw;s--;]Tx\" x=\"16\" y=\"10\"><field name=\"libraryName\" id=\"eNrJ9[?:!)MH8@C/C@}4\">dplyr</field></block></xml>"
   ]
  },
  {
   "cell_type": "markdown",
   "metadata": {},
   "source": [
    "#### Mean\n",
    "The **mean** is the numerical average of the variables. \n",
    "Let Let $X_1, X_2, \\ldots, X_n$ represent the data;\n",
    "then the mean is found as $\\bar{X} = \\frac{1}{n} \\sum_{i=1}^n X_i.$\n",
    "\n",
    "A `summarize` with `mean` will do this calculation for you:\n",
    "\n",
    "- with `dplyr` do `summarize` \n",
    "    - using `dataframe`\n",
    "    - and `\"Mean_SL\" = mean(SepalLength)`\n",
    "    - and `\"Mean_PW\" = mean(PetalWidth)`"
   ]
  },
  {
   "cell_type": "code",
   "execution_count": 3,
   "metadata": {},
   "outputs": [
    {
     "data": {
      "text/html": [
       "<table class=\"dataframe\">\n",
       "<caption>A tibble: 1 × 2</caption>\n",
       "<thead>\n",
       "\t<tr><th scope=col>Mean_SL</th><th scope=col>Mean_PW</th></tr>\n",
       "\t<tr><th scope=col>&lt;dbl&gt;</th><th scope=col>&lt;dbl&gt;</th></tr>\n",
       "</thead>\n",
       "<tbody>\n",
       "\t<tr><td>5.843333</td><td>1.198667</td></tr>\n",
       "</tbody>\n",
       "</table>\n"
      ],
      "text/latex": [
       "A tibble: 1 × 2\n",
       "\\begin{tabular}{ll}\n",
       " Mean\\_SL & Mean\\_PW\\\\\n",
       " <dbl> & <dbl>\\\\\n",
       "\\hline\n",
       "\t 5.843333 & 1.198667\\\\\n",
       "\\end{tabular}\n"
      ],
      "text/markdown": [
       "\n",
       "A tibble: 1 × 2\n",
       "\n",
       "| Mean_SL &lt;dbl&gt; | Mean_PW &lt;dbl&gt; |\n",
       "|---|---|\n",
       "| 5.843333 | 1.198667 |\n",
       "\n"
      ],
      "text/plain": [
       "  Mean_SL  Mean_PW \n",
       "1 5.843333 1.198667"
      ]
     },
     "metadata": {},
     "output_type": "display_data"
    }
   ],
   "source": [
    "dplyr::summarize(dataframe,\"Mean_SL\" = mean(SepalLength),\"Mean_PW\" = mean(PetalWidth))\n",
    "\n",
    "#<xml xmlns=\"https://developers.google.com/blockly/xml\"><variables><variable id=\"eNrJ9[?:!)MH8@C/C@}4\">dplyr</variable><variable id=\"[V~uW+0L/4GW;45ulv+l\">dataframe</variable></variables><block type=\"varDoMethod_R\" id=\"Y=ShNEczz|ztdA3~t.6D\" x=\"8\" y=\"176\"><mutation items=\"3\"></mutation><field name=\"VAR\" id=\"eNrJ9[?:!)MH8@C/C@}4\">dplyr</field><field name=\"MEMBER\">summarize</field><data>dplyr:summarize</data><value name=\"ADD0\"><block type=\"variables_get\" id=\"i-xG?$r6Nqf0uD?|ND+F\"><field name=\"VAR\" id=\"[V~uW+0L/4GW;45ulv+l\">dataframe</field></block></value><value name=\"ADD1\"><block type=\"dummyOutputCodeBlock_R\" id=\"MqWLSIeUWqc4BDLmV;R7\"><field name=\"CODE\">\"Mean_SL\" = mean(SepalLength)</field></block></value><value name=\"ADD2\"><block type=\"dummyOutputCodeBlock_R\" id=\"`7Ic_@^75hgnes36FzQT\"><field name=\"CODE\">\"Mean_PW\" = mean(PetalWidth)</field></block></value></block></xml>"
   ]
  },
  {
   "cell_type": "markdown",
   "metadata": {},
   "source": [
    "We only summarized two of the variables, but you could summarize more by adding slots to `summarize` if you wanted."
   ]
  },
  {
   "cell_type": "markdown",
   "metadata": {},
   "source": [
    "#### Median\n",
    "The **median** is the number in the middle of the data. \n",
    "By definition, one half of the data points are below the median and one half are above. \n",
    "\n",
    "We can calculate the median just like the mean.\n",
    "Copy the blocks above and replace \"mean\" with \"median\"."
   ]
  },
  {
   "cell_type": "code",
   "execution_count": 4,
   "metadata": {},
   "outputs": [
    {
     "data": {
      "text/html": [
       "<table class=\"dataframe\">\n",
       "<caption>A tibble: 1 × 2</caption>\n",
       "<thead>\n",
       "\t<tr><th scope=col>Median_SL</th><th scope=col>Median_PW</th></tr>\n",
       "\t<tr><th scope=col>&lt;dbl&gt;</th><th scope=col>&lt;dbl&gt;</th></tr>\n",
       "</thead>\n",
       "<tbody>\n",
       "\t<tr><td>5.8</td><td>1.3</td></tr>\n",
       "</tbody>\n",
       "</table>\n"
      ],
      "text/latex": [
       "A tibble: 1 × 2\n",
       "\\begin{tabular}{ll}\n",
       " Median\\_SL & Median\\_PW\\\\\n",
       " <dbl> & <dbl>\\\\\n",
       "\\hline\n",
       "\t 5.8 & 1.3\\\\\n",
       "\\end{tabular}\n"
      ],
      "text/markdown": [
       "\n",
       "A tibble: 1 × 2\n",
       "\n",
       "| Median_SL &lt;dbl&gt; | Median_PW &lt;dbl&gt; |\n",
       "|---|---|\n",
       "| 5.8 | 1.3 |\n",
       "\n"
      ],
      "text/plain": [
       "  Median_SL Median_PW\n",
       "1 5.8       1.3      "
      ]
     },
     "metadata": {},
     "output_type": "display_data"
    }
   ],
   "source": [
    "dplyr::summarize(dataframe,\"Median_SL\" = median(SepalLength),\"Median_PW\" = median(PetalWidth))\n",
    "\n",
    "#<xml xmlns=\"https://developers.google.com/blockly/xml\"><variables><variable id=\"eNrJ9[?:!)MH8@C/C@}4\">dplyr</variable><variable id=\"[V~uW+0L/4GW;45ulv+l\">dataframe</variable></variables><block type=\"varDoMethod_R\" id=\"Y=ShNEczz|ztdA3~t.6D\" x=\"8\" y=\"176\"><mutation items=\"3\"></mutation><field name=\"VAR\" id=\"eNrJ9[?:!)MH8@C/C@}4\">dplyr</field><field name=\"MEMBER\">summarize</field><data>dplyr:summarize</data><value name=\"ADD0\"><block type=\"variables_get\" id=\"i-xG?$r6Nqf0uD?|ND+F\"><field name=\"VAR\" id=\"[V~uW+0L/4GW;45ulv+l\">dataframe</field></block></value><value name=\"ADD1\"><block type=\"dummyOutputCodeBlock_R\" id=\"MqWLSIeUWqc4BDLmV;R7\"><field name=\"CODE\">\"Median_SL\" = median(SepalLength)</field></block></value><value name=\"ADD2\"><block type=\"dummyOutputCodeBlock_R\" id=\"`7Ic_@^75hgnes36FzQT\"><field name=\"CODE\">\"Median_PW\" = median(PetalWidth)</field></block></value></block></xml>"
   ]
  },
  {
   "cell_type": "markdown",
   "metadata": {},
   "source": [
    "Notice that the mean and the median are almost the same for the first variable but are different for the third variable.\n",
    "What do you think that means?"
   ]
  },
  {
   "cell_type": "markdown",
   "metadata": {},
   "source": [
    "#### Mode\n",
    "\n",
    "The **mode** is the value in the data that shows up the most often.\n",
    "Mode is somewhat neglected in R, so we need to load a new package, `modeest`:\n",
    "\n",
    "- `library modeest`"
   ]
  },
  {
   "cell_type": "code",
   "execution_count": 5,
   "metadata": {},
   "outputs": [],
   "source": [
    "library(modeest)\n",
    "\n",
    "#<xml xmlns=\"https://developers.google.com/blockly/xml\"><variables><variable id=\"GX/Uo@ZFZu^h,-ci@W#@\">modeest</variable></variables><block type=\"import_R\" id=\":+@BDUz.`%SQaxZ0U30_\" x=\"-241\" y=\"103\"><field name=\"libraryName\" id=\"GX/Uo@ZFZu^h,-ci@W#@\">modeest</field></block></xml>"
   ]
  },
  {
   "cell_type": "markdown",
   "metadata": {},
   "source": [
    "Now you can copy the code above and use `summarize` again, except this time use the function `mfv`, e.g. `Mode_SL=mfv(SepalLength)`."
   ]
  },
  {
   "cell_type": "code",
   "execution_count": 6,
   "metadata": {},
   "outputs": [
    {
     "data": {
      "text/html": [
       "<table class=\"dataframe\">\n",
       "<caption>A tibble: 1 × 2</caption>\n",
       "<thead>\n",
       "\t<tr><th scope=col>Mode_SL</th><th scope=col>Mode_PW</th></tr>\n",
       "\t<tr><th scope=col>&lt;dbl&gt;</th><th scope=col>&lt;dbl&gt;</th></tr>\n",
       "</thead>\n",
       "<tbody>\n",
       "\t<tr><td>5</td><td>0.2</td></tr>\n",
       "</tbody>\n",
       "</table>\n"
      ],
      "text/latex": [
       "A tibble: 1 × 2\n",
       "\\begin{tabular}{ll}\n",
       " Mode\\_SL & Mode\\_PW\\\\\n",
       " <dbl> & <dbl>\\\\\n",
       "\\hline\n",
       "\t 5 & 0.2\\\\\n",
       "\\end{tabular}\n"
      ],
      "text/markdown": [
       "\n",
       "A tibble: 1 × 2\n",
       "\n",
       "| Mode_SL &lt;dbl&gt; | Mode_PW &lt;dbl&gt; |\n",
       "|---|---|\n",
       "| 5 | 0.2 |\n",
       "\n"
      ],
      "text/plain": [
       "  Mode_SL Mode_PW\n",
       "1 5       0.2    "
      ]
     },
     "metadata": {},
     "output_type": "display_data"
    }
   ],
   "source": [
    "dplyr::summarize(dataframe,\"Mode_SL\" = mfv(SepalLength),\"Mode_PW\" = mfv(PetalWidth))\n",
    "\n",
    "#<xml xmlns=\"https://developers.google.com/blockly/xml\"><variables><variable id=\"eNrJ9[?:!)MH8@C/C@}4\">dplyr</variable><variable id=\"[V~uW+0L/4GW;45ulv+l\">dataframe</variable></variables><block type=\"varDoMethod_R\" id=\"Y=ShNEczz|ztdA3~t.6D\" x=\"8\" y=\"176\"><mutation items=\"3\"></mutation><field name=\"VAR\" id=\"eNrJ9[?:!)MH8@C/C@}4\">dplyr</field><field name=\"MEMBER\">summarize</field><data>dplyr:summarize</data><value name=\"ADD0\"><block type=\"variables_get\" id=\"i-xG?$r6Nqf0uD?|ND+F\"><field name=\"VAR\" id=\"[V~uW+0L/4GW;45ulv+l\">dataframe</field></block></value><value name=\"ADD1\"><block type=\"dummyOutputCodeBlock_R\" id=\"MqWLSIeUWqc4BDLmV;R7\"><field name=\"CODE\">\"Mode_SL\" = mfv(SepalLength)</field></block></value><value name=\"ADD2\"><block type=\"dummyOutputCodeBlock_R\" id=\"`7Ic_@^75hgnes36FzQT\"><field name=\"CODE\">\"Mode_PW\" = mfv(PetalWidth)</field></block></value></block></xml>"
   ]
  },
  {
   "cell_type": "markdown",
   "metadata": {},
   "source": [
    "#### Summary\n",
    "\n",
    "The type of variable determines the measures of central tendency available.\n",
    "\n",
    "For categorical data, the mode is the only measure of central tendency that can be computed unless the data are ordinal, in which case you can use either the mode or the median.\n",
    "\n",
    "In the table below, X indicates where a variable type and a measure of central tendency can be used together.\n",
    "\n",
    "|          | mode | median | mean |\n",
    "|----------|------|--------|------|\n",
    "| nominal  | X    |        |      |\n",
    "| ordinal  | X    | X      |      |\n",
    "| interval | X    | X      | X    |\n",
    "| ratio    | X    | X      | X    |"
   ]
  },
  {
   "attachments": {
    "image.png": {
     "image/png": "[encoded data removed]"
    }
   },
   "cell_type": "markdown",
   "metadata": {},
   "source": [
    "### Example Categorical Data \n",
    "\n",
    "The grades in a large statistics course occurred with the following frequency.\n",
    "\n",
    "<!-- | Grade     | A | B  | C  | D  | F  |\n",
    "|:-----------|---|----|----|----|----|\n",
    "| Frequency | 5 | 15 | 25 | 10 | 45 | -->\n",
    "\n",
    "<!-- AO: seems more natural: -->\n",
    "\n",
    "| Grade     | F | D  | C  | B  | A  |\n",
    "|:-----------|---|----|----|----|----|\n",
    "| Frequency | 45 | 10 | 25 | 15 | 5 |\n",
    "\n",
    "The mode of this data is the grade with the highest frequency, in this case F. \n",
    "Since this data is ordinal, we can also compute the median. \n",
    "There are a total of 100 grades, so the median will be the grade with 50 grades above and 50 below. \n",
    "This puts the median grade at **D**.\n",
    "\n",
    "For numerical data, the mode, median and mean can all be used to measure central tendency. \n",
    "Sometimes one measure will be more useful than another. \n",
    "For example, when outliers exist in the data, the mean can be skewed towards the outliers. \n",
    "Think of measuring incomes where one of the incomes is that of a professional basketball player. \n",
    "The extremely higher income of the player is much different than most of the other incomes. \n",
    "It is called an *outlier* and will affect the mean more than the median. \n",
    "As a simple example consider the following incomes.\n",
    "\n",
    "$30,000 ~~ 40,000 ~~ 50,000~~60,000~~4,000,000$\n",
    "\n",
    "The mean of these incomes is \n",
    "\n",
    "$\\frac{30000+40000+50000+60000+4000000}{5} = \\$836,000.$\n",
    "\n",
    "Notice that \\\\$4 million is more than 10 times greater than the next highest value, \\\\$60 thousand.\n",
    "As a result, the mean is pulled between \\\\$60 thousand and \\\\$4 million\n",
    "\n",
    "In contrast, the median of the incomes is the number with 2 incomes below and 2\n",
    "incomes above, $50,000, which is a much more reasonable estimate of the\n",
    "central tendency of the majority of these incomes.\n",
    "\n",
    "Let's take a closer look at this in R by creating a list of values:\n",
    "- Set `salary` to `create list with` the following slots\n",
    "    - 30000\n",
    "    - 40000\n",
    "    - 50000\n",
    "    - 60000\n",
    "    - 4000000\n",
    "    \n",
    "This is what it looks like:\n",
    "\n",
    "![image.png](attachment:image.png)"
   ]
  },
  {
   "cell_type": "code",
   "execution_count": 7,
   "metadata": {},
   "outputs": [],
   "source": [
    "salary = list(30000, 40000, 50000, 60000, 4000000)\n",
    "\n",
    "#<xml xmlns=\"https://developers.google.com/blockly/xml\"><variables><variable id=\":CSTVHy4liG@-G^A}4h7\">salary</variable></variables><block type=\"variables_set\" id=\"lS,4d1|x$va@tz75+6s{\" x=\"-41\" y=\"54\"><field name=\"VAR\" id=\":CSTVHy4liG@-G^A}4h7\">salary</field><value name=\"VALUE\"><block type=\"lists_create_with\" id=\"F2@)9b~Nc{R$c@SA8zG0\"><mutation items=\"5\"></mutation><value name=\"ADD0\"><block type=\"math_number\" id=\"A%#8PWhokwv3Y,92!Y+a\"><field name=\"NUM\">30000</field></block></value><value name=\"ADD1\"><block type=\"math_number\" id=\"+N1A1l~2Kl~z`pvDg/G~\"><field name=\"NUM\">40000</field></block></value><value name=\"ADD2\"><block type=\"math_number\" id=\"gHay^p}{V)k.xIGFZpwU\"><field name=\"NUM\">50000</field></block></value><value name=\"ADD3\"><block type=\"math_number\" id=\"%tat7.nu|j69cJmd_eFn\"><field name=\"NUM\">60000</field></block></value><value name=\"ADD4\"><block type=\"math_number\" id=\"OkM`UXA=KCTsHQk/xK`k\"><field name=\"NUM\">4000000</field></block></value></block></value></block></xml>"
   ]
  },
  {
   "cell_type": "markdown",
   "metadata": {},
   "source": [
    "Now try the following using the `sum of list` block from MATH:\n",
    "\n",
    "- `average` of list `salary`\n",
    "- `median` of list `salary`"
   ]
  },
  {
   "cell_type": "code",
   "execution_count": 10,
   "metadata": {},
   "outputs": [
    {
     "data": {
      "text/html": [
       "836000"
      ],
      "text/latex": [
       "836000"
      ],
      "text/markdown": [
       "836000"
      ],
      "text/plain": [
       "[1] 836000"
      ]
     },
     "metadata": {},
     "output_type": "display_data"
    },
    {
     "data": {
      "text/html": [
       "50000"
      ],
      "text/latex": [
       "50000"
      ],
      "text/markdown": [
       "50000"
      ],
      "text/plain": [
       "[1] 50000"
      ]
     },
     "metadata": {},
     "output_type": "display_data"
    }
   ],
   "source": [
    "mean(unlist(salary))\n",
    "\n",
    "median(unlist(salary))\n",
    "\n",
    "#<xml xmlns=\"https://developers.google.com/blockly/xml\"><variables><variable id=\":CSTVHy4liG@-G^A}4h7\">salary</variable></variables><block type=\"math_on_list\" id=\"CQj/OK@JMS-L8mGVA/VP\" x=\"-139\" y=\"308\"><mutation op=\"AVERAGE\"></mutation><field name=\"OP\">AVERAGE</field><value name=\"LIST\"><block type=\"variables_get\" id=\"RI0(a*t,|,{NX^3p296}\"><field name=\"VAR\" id=\":CSTVHy4liG@-G^A}4h7\">salary</field></block></value></block><block type=\"math_on_list\" id=\"U{dnjTo_=]/y+5UgYf.E\" x=\"-140\" y=\"351\"><mutation op=\"MEDIAN\"></mutation><field name=\"OP\">MEDIAN</field><value name=\"LIST\"><block type=\"variables_get\" id=\"?~O(Utl)Vh:FY,9(yco%\"><field name=\"VAR\" id=\":CSTVHy4liG@-G^A}4h7\">salary</field></block></value></block></xml>"
   ]
  },
  {
   "cell_type": "markdown",
   "metadata": {},
   "source": [
    "As you can see, this matches the example above.\n",
    "The mean is much much bigger than the median.\n",
    "\n",
    "Now go back up to your list and take out the $4 million block (remember to take the blank spot out of your list as well) and run the mean/median again.\n",
    "\n",
    "When you do this, you should find that the mean and the median are **exactly** the same.\n",
    "What does this mean?\n",
    "When they are the same, the data is **symmetric** (like the plot below)."
   ]
  },
  {
   "attachments": {
    "spread2.png": {
     "image/png": "[encoded data removed]"
    }
   },
   "cell_type": "markdown",
   "metadata": {},
   "source": [
    "### Measures of Dispersion (spread)\n",
    "\n",
    "Even when two different variables have similar means (or medians, or modes) they can still be quite different depending on how the data are spread out around the center. \n",
    "In Figure 1 below both distributions have the same mean (0) but different spreads. \n",
    "The red curve has most of its points close to the center while the blue curve has points spread further from the mean.\n",
    "\n",
    "\n",
    "![spread2.png](attachment:spread2.png)\n",
    "\n",
    "**Figure 1:** Two distributions with the same center but different\n",
    "spread\n",
    "\n",
    "One measure of dispersion that can be used with ordered categorical data (ordinal level) or numerical data (interval/ratio level) is the **five number summary**.\n",
    "The five number summary is useful for comparing the center and spread of multiple variables. \n",
    "You use the numbers in the five number summary to construct a box and whiskers plot. \n",
    "The five numbers are: \n",
    "\n",
    "- minimum\n",
    "- first quartile\n",
    "- median\n",
    "- third quartile\n",
    "- maximum\n",
    "\n",
    "The first quartile is the median of the values below the median and the third quartile is the median of the\n",
    "values above the median.\n",
    "\n",
    "To use a football analogy, quartiles are like the 4 quarters in a game, and the median is like halftime.\n",
    "\n",
    "We can get the five number summary easily with the `base` R package:\n",
    "\n",
    "- `library base`"
   ]
  },
  {
   "cell_type": "code",
   "execution_count": 11,
   "metadata": {},
   "outputs": [],
   "source": [
    "library(base)\n",
    "\n",
    "#<xml xmlns=\"https://developers.google.com/blockly/xml\"><variables><variable id=\"6C!l+@S8,SvtzakmsxQD\">base</variable></variables><block type=\"import_R\" id=\"E-D0N=RjAyN*|Y!@+3rn\" x=\"-140\" y=\"10\"><field name=\"libraryName\" id=\"6C!l+@S8,SvtzakmsxQD\">base</field></block></xml>"
   ]
  },
  {
   "cell_type": "markdown",
   "metadata": {},
   "source": [
    "Now use the `summary` function from `base`.\n",
    "The `base` library is so big, you might have to wait a bit for it to load:\n",
    "\n",
    "- with `base` do `summary` using `dataframe`"
   ]
  },
  {
   "cell_type": "code",
   "execution_count": 12,
   "metadata": {},
   "outputs": [
    {
     "data": {
      "text/plain": [
       "  SepalLength      SepalWidth     PetalLength      PetalWidth   \n",
       " Min.   :4.300   Min.   :2.000   Min.   :1.000   Min.   :0.100  \n",
       " 1st Qu.:5.100   1st Qu.:2.800   1st Qu.:1.600   1st Qu.:0.300  \n",
       " Median :5.800   Median :3.000   Median :4.350   Median :1.300  \n",
       " Mean   :5.843   Mean   :3.054   Mean   :3.759   Mean   :1.199  \n",
       " 3rd Qu.:6.400   3rd Qu.:3.300   3rd Qu.:5.100   3rd Qu.:1.800  \n",
       " Max.   :7.900   Max.   :4.400   Max.   :6.900   Max.   :2.500  \n",
       "   Species         \n",
       " Length:150        \n",
       " Class :character  \n",
       " Mode  :character  \n",
       "                   \n",
       "                   \n",
       "                   "
      ]
     },
     "metadata": {},
     "output_type": "display_data"
    }
   ],
   "source": [
    "base::summary(dataframe)\n",
    "\n",
    "#<xml xmlns=\"https://developers.google.com/blockly/xml\"><variables><variable id=\"6C!l+@S8,SvtzakmsxQD\">base</variable><variable id=\"[V~uW+0L/4GW;45ulv+l\">dataframe</variable></variables><block type=\"varDoMethod_R\" id=\"3IhuOZY]Z7e~R%5$LI7q\" x=\"-148\" y=\"176\"><mutation items=\"1\"></mutation><field name=\"VAR\" id=\"6C!l+@S8,SvtzakmsxQD\">base</field><field name=\"MEMBER\">summary</field><data>base:summary</data><value name=\"ADD0\"><block type=\"variables_get\" id=\"{0rtTGKWM!}`q[9heh6_\"><field name=\"VAR\" id=\"[V~uW+0L/4GW;45ulv+l\">dataframe</field></block></value></block></xml>"
   ]
  },
  {
   "cell_type": "markdown",
   "metadata": {},
   "source": [
    "A five number summary is returned for every numeric variable."
   ]
  },
  {
   "attachments": {
    "summary.png": {
     "image/png": "[encoded data removed]"
    }
   },
   "cell_type": "markdown",
   "metadata": {},
   "source": [
    "### Example Five Number Summary \n",
    "\n",
    "For the data shown below the minimum is 3, the median is 9 and the maximum is 22. \n",
    "We find the first quartile as the median of the lower five numbers: here it is 6. \n",
    "The third quartile is 13, the median of the numbers above the median. \n",
    "So the five number summary for this data is $\\{ 3,6,9,13,22\\}$.\n",
    "\n",
    "![summary.png](attachment:summary.png)\n",
    "\n",
    "Other measures of the spread for numerical data include the range, the interquartile range, and the variance. \n",
    "\n",
    "The **range** is simply the maximum value minus the minimum. \n",
    "When outliers are present they may inflate the range. \n",
    "For example in our income example the range would be $4000000-30000=3,970,000$ which is not representative of the spread of the majority of incomes. \n",
    "\n",
    "To reduce the effect of outliers on the measure of dispersion, the interquartile range is often used. \n",
    "The **interquartile range** is defined as the third quartile minus the first quartile.\n",
    "\n",
    "The most commonly used measures of dispersion for numerical data are the **variance** and its square root, the **standard deviation**. \n",
    "The variance measures the sum of squared differences of the data about the mean.\n",
    "Squaring the differences may seem complicated but makes sense when you realize that the sum of differences about the mean is zero.\n",
    "\n",
    "Again, let $X_1, X_2, \\ldots, X_n$ be the variables you want to compute the variance of. \n",
    "The formula for the variance is given by $S^2 = \\frac{\\sum_{i=1}^n (X_i  - \\bar{X})^2}{n-1}.$ \n",
    "The standard deviation is the square root of the variance.\n",
    "\n",
    "You can calculate standard deviation using the same block from MATH that we used for mean and median."
   ]
  },
  {
   "cell_type": "markdown",
   "metadata": {},
   "source": [
    "## Sampling\n",
    "\n",
    "The descriptive statistics discussed here all assume that the data we have is a **random sample** from some larger population. \n",
    "The population mean, $\\mu$, and the population variance, $\\sigma^2$ are unknown and the sample is typically taken to gain information about them. \n",
    "The population mean and variance are **parameters** while the sample mean ($\\bar{X}$) and sample variance ($S^2$) are called **statistics**. \n",
    "Since the sample mean and sample variance are computed from a random sample from the population, each time we take a different sample, we expect to get different values of the sample mean and sample variance. \n",
    "\n",
    "We would like to know how much difference there would be in say $\\bar{X}$ over different samples. \n",
    "The *standard error* can be used to estimate the variance about a statistic. \n",
    "For the sample mean, it is known that the variation in $\\bar{X}$ will vary in direct proportion to the population variance, $\\sigma^2$ and inversely with the sample size. \n",
    "So we can reduce the variation in $\\bar{X}$ by increasing our sample size, $n$. \n",
    "The standard error of $\\bar{X}$ can be estimated by $\\displaystyle \\sqrt{\\frac{S^2}{n}}.$\n",
    "\n",
    "The best way to begin to understand this is to sample some rows from your dataframe (remember the rows are just data points) and calculate the mean of that same.\n",
    "\n",
    "When we do this in `dplyr`, the sample is just another (smaller) dataframe:\n",
    "\n",
    "- Set `sample` to `with dplyr do sample_n`\n",
    "    - using `dataframe`\n",
    "    - and `10`\n",
    "- `sample`"
   ]
  },
  {
   "cell_type": "code",
   "execution_count": 13,
   "metadata": {},
   "outputs": [
    {
     "data": {
      "text/html": [
       "<table class=\"dataframe\">\n",
       "<caption>A spec_tbl_df: 10 × 5</caption>\n",
       "<thead>\n",
       "\t<tr><th scope=col>SepalLength</th><th scope=col>SepalWidth</th><th scope=col>PetalLength</th><th scope=col>PetalWidth</th><th scope=col>Species</th></tr>\n",
       "\t<tr><th scope=col>&lt;dbl&gt;</th><th scope=col>&lt;dbl&gt;</th><th scope=col>&lt;dbl&gt;</th><th scope=col>&lt;dbl&gt;</th><th scope=col>&lt;chr&gt;</th></tr>\n",
       "</thead>\n",
       "<tbody>\n",
       "\t<tr><td>5.6</td><td>2.5</td><td>3.9</td><td>1.1</td><td>versicolor</td></tr>\n",
       "\t<tr><td>6.0</td><td>2.9</td><td>4.5</td><td>1.5</td><td>versicolor</td></tr>\n",
       "\t<tr><td>6.0</td><td>3.0</td><td>4.8</td><td>1.8</td><td>virginica </td></tr>\n",
       "\t<tr><td>6.7</td><td>3.1</td><td>4.4</td><td>1.4</td><td>versicolor</td></tr>\n",
       "\t<tr><td>5.6</td><td>2.7</td><td>4.2</td><td>1.3</td><td>versicolor</td></tr>\n",
       "\t<tr><td>6.3</td><td>3.3</td><td>6.0</td><td>2.5</td><td>virginica </td></tr>\n",
       "\t<tr><td>6.0</td><td>2.2</td><td>4.0</td><td>1.0</td><td>versicolor</td></tr>\n",
       "\t<tr><td>4.3</td><td>3.0</td><td>1.1</td><td>0.1</td><td>setosa    </td></tr>\n",
       "\t<tr><td>6.3</td><td>2.5</td><td>4.9</td><td>1.5</td><td>versicolor</td></tr>\n",
       "\t<tr><td>6.7</td><td>2.5</td><td>5.8</td><td>1.8</td><td>virginica </td></tr>\n",
       "</tbody>\n",
       "</table>\n"
      ],
      "text/latex": [
       "A spec\\_tbl\\_df: 10 × 5\n",
       "\\begin{tabular}{lllll}\n",
       " SepalLength & SepalWidth & PetalLength & PetalWidth & Species\\\\\n",
       " <dbl> & <dbl> & <dbl> & <dbl> & <chr>\\\\\n",
       "\\hline\n",
       "\t 5.6 & 2.5 & 3.9 & 1.1 & versicolor\\\\\n",
       "\t 6.0 & 2.9 & 4.5 & 1.5 & versicolor\\\\\n",
       "\t 6.0 & 3.0 & 4.8 & 1.8 & virginica \\\\\n",
       "\t 6.7 & 3.1 & 4.4 & 1.4 & versicolor\\\\\n",
       "\t 5.6 & 2.7 & 4.2 & 1.3 & versicolor\\\\\n",
       "\t 6.3 & 3.3 & 6.0 & 2.5 & virginica \\\\\n",
       "\t 6.0 & 2.2 & 4.0 & 1.0 & versicolor\\\\\n",
       "\t 4.3 & 3.0 & 1.1 & 0.1 & setosa    \\\\\n",
       "\t 6.3 & 2.5 & 4.9 & 1.5 & versicolor\\\\\n",
       "\t 6.7 & 2.5 & 5.8 & 1.8 & virginica \\\\\n",
       "\\end{tabular}\n"
      ],
      "text/markdown": [
       "\n",
       "A spec_tbl_df: 10 × 5\n",
       "\n",
       "| SepalLength &lt;dbl&gt; | SepalWidth &lt;dbl&gt; | PetalLength &lt;dbl&gt; | PetalWidth &lt;dbl&gt; | Species &lt;chr&gt; |\n",
       "|---|---|---|---|---|\n",
       "| 5.6 | 2.5 | 3.9 | 1.1 | versicolor |\n",
       "| 6.0 | 2.9 | 4.5 | 1.5 | versicolor |\n",
       "| 6.0 | 3.0 | 4.8 | 1.8 | virginica  |\n",
       "| 6.7 | 3.1 | 4.4 | 1.4 | versicolor |\n",
       "| 5.6 | 2.7 | 4.2 | 1.3 | versicolor |\n",
       "| 6.3 | 3.3 | 6.0 | 2.5 | virginica  |\n",
       "| 6.0 | 2.2 | 4.0 | 1.0 | versicolor |\n",
       "| 4.3 | 3.0 | 1.1 | 0.1 | setosa     |\n",
       "| 6.3 | 2.5 | 4.9 | 1.5 | versicolor |\n",
       "| 6.7 | 2.5 | 5.8 | 1.8 | virginica  |\n",
       "\n"
      ],
      "text/plain": [
       "   SepalLength SepalWidth PetalLength PetalWidth Species   \n",
       "1  5.6         2.5        3.9         1.1        versicolor\n",
       "2  6.0         2.9        4.5         1.5        versicolor\n",
       "3  6.0         3.0        4.8         1.8        virginica \n",
       "4  6.7         3.1        4.4         1.4        versicolor\n",
       "5  5.6         2.7        4.2         1.3        versicolor\n",
       "6  6.3         3.3        6.0         2.5        virginica \n",
       "7  6.0         2.2        4.0         1.0        versicolor\n",
       "8  4.3         3.0        1.1         0.1        setosa    \n",
       "9  6.3         2.5        4.9         1.5        versicolor\n",
       "10 6.7         2.5        5.8         1.8        virginica "
      ]
     },
     "metadata": {},
     "output_type": "display_data"
    }
   ],
   "source": [
    "sample = dplyr::sample_n(dataframe,10)\n",
    "\n",
    "sample\n",
    "\n",
    "#<xml xmlns=\"https://developers.google.com/blockly/xml\"><variables><variable id=\"X~V70-15t9L^b}[IjBoW\">sample</variable><variable id=\"eNrJ9[?:!)MH8@C/C@}4\">dplyr</variable><variable id=\"[V~uW+0L/4GW;45ulv+l\">dataframe</variable></variables><block type=\"variables_set\" id=\"oLvPn#H_#KD]A.8$CUa#\" x=\"-114\" y=\"195\"><field name=\"VAR\" id=\"X~V70-15t9L^b}[IjBoW\">sample</field><value name=\"VALUE\"><block type=\"varDoMethod_R\" id=\"4_82p3|C@:,3[NUCW.:R\"><mutation items=\"2\"></mutation><field name=\"VAR\" id=\"eNrJ9[?:!)MH8@C/C@}4\">dplyr</field><field name=\"MEMBER\">sample_n</field><data>dplyr:sample_n</data><value name=\"ADD0\"><block type=\"variables_get\" id=\"p=-t+dH7[;}r7zQiPtd+\"><field name=\"VAR\" id=\"[V~uW+0L/4GW;45ulv+l\">dataframe</field></block></value><value name=\"ADD1\"><block type=\"math_number\" id=\"jdV9~GKS6nUY/*Yq0n3W\"><field name=\"NUM\">10</field></block></value></block></value></block><block type=\"variables_get\" id=\"nr5WrQE`[TvHgq(3vKz:\" x=\"-117\" y=\"308\"><field name=\"VAR\" id=\"X~V70-15t9L^b}[IjBoW\">sample</field></block></xml>"
   ]
  },
  {
   "cell_type": "markdown",
   "metadata": {},
   "source": [
    "Rerun the sampling cell above a couple of times to see how it randomly draws 10 rows from the original dataframe.\n",
    "You can get a sense of the randomness by looking at how the values change each time.\n",
    "\n",
    "Once you're ready do this:\n",
    "\n",
    "- Set `sample` to `with dplyr do sample_n`\n",
    "    - using `dataframe`\n",
    "    - and `10`\n",
    "`with dplyr do summarize_all`\n",
    "    - using `dataframe`\n",
    "    - and `mean`\n",
    "    \n",
    "*Note: `summarize_all` applies the same function to all variables*"
   ]
  },
  {
   "cell_type": "code",
   "execution_count": 20,
   "metadata": {},
   "outputs": [
    {
     "name": "stderr",
     "output_type": "stream",
     "text": [
      "Warning message in mean.default(Species):\n",
      "“argument is not numeric or logical: returning NA”\n"
     ]
    },
    {
     "data": {
      "text/html": [
       "<table class=\"dataframe\">\n",
       "<caption>A tibble: 1 × 5</caption>\n",
       "<thead>\n",
       "\t<tr><th scope=col>SepalLength</th><th scope=col>SepalWidth</th><th scope=col>PetalLength</th><th scope=col>PetalWidth</th><th scope=col>Species</th></tr>\n",
       "\t<tr><th scope=col>&lt;dbl&gt;</th><th scope=col>&lt;dbl&gt;</th><th scope=col>&lt;dbl&gt;</th><th scope=col>&lt;dbl&gt;</th><th scope=col>&lt;dbl&gt;</th></tr>\n",
       "</thead>\n",
       "<tbody>\n",
       "\t<tr><td>5.84</td><td>3.11</td><td>3.99</td><td>1.37</td><td>NA</td></tr>\n",
       "</tbody>\n",
       "</table>\n"
      ],
      "text/latex": [
       "A tibble: 1 × 5\n",
       "\\begin{tabular}{lllll}\n",
       " SepalLength & SepalWidth & PetalLength & PetalWidth & Species\\\\\n",
       " <dbl> & <dbl> & <dbl> & <dbl> & <dbl>\\\\\n",
       "\\hline\n",
       "\t 5.84 & 3.11 & 3.99 & 1.37 & NA\\\\\n",
       "\\end{tabular}\n"
      ],
      "text/markdown": [
       "\n",
       "A tibble: 1 × 5\n",
       "\n",
       "| SepalLength &lt;dbl&gt; | SepalWidth &lt;dbl&gt; | PetalLength &lt;dbl&gt; | PetalWidth &lt;dbl&gt; | Species &lt;dbl&gt; |\n",
       "|---|---|---|---|---|\n",
       "| 5.84 | 3.11 | 3.99 | 1.37 | NA |\n",
       "\n"
      ],
      "text/plain": [
       "  SepalLength SepalWidth PetalLength PetalWidth Species\n",
       "1 5.84        3.11       3.99        1.37       NA     "
      ]
     },
     "metadata": {},
     "output_type": "display_data"
    }
   ],
   "source": [
    "sample = dplyr::sample_n(dataframe,10)\n",
    "\n",
    "dplyr::summarize_all(sample,mean)\n",
    "\n",
    "#<xml xmlns=\"https://developers.google.com/blockly/xml\"><variables><variable id=\"X~V70-15t9L^b}[IjBoW\">sample</variable><variable id=\"eNrJ9[?:!)MH8@C/C@}4\">dplyr</variable><variable id=\"[V~uW+0L/4GW;45ulv+l\">dataframe</variable></variables><block type=\"variables_set\" id=\"oLvPn#H_#KD]A.8$CUa#\" x=\"-114\" y=\"195\"><field name=\"VAR\" id=\"X~V70-15t9L^b}[IjBoW\">sample</field><value name=\"VALUE\"><block type=\"varDoMethod_R\" id=\"4_82p3|C@:,3[NUCW.:R\"><mutation items=\"2\"></mutation><field name=\"VAR\" id=\"eNrJ9[?:!)MH8@C/C@}4\">dplyr</field><field name=\"MEMBER\">sample_n</field><data>dplyr:sample_n</data><value name=\"ADD0\"><block type=\"variables_get\" id=\"p=-t+dH7[;}r7zQiPtd+\"><field name=\"VAR\" id=\"[V~uW+0L/4GW;45ulv+l\">dataframe</field></block></value><value name=\"ADD1\"><block type=\"math_number\" id=\"jdV9~GKS6nUY/*Yq0n3W\"><field name=\"NUM\">10</field></block></value></block></value></block><block type=\"varDoMethod_R\" id=\"f}0S5efYQ,_GPgHvH;Y^\" x=\"-134\" y=\"430\"><mutation items=\"2\"></mutation><field name=\"VAR\" id=\"eNrJ9[?:!)MH8@C/C@}4\">dplyr</field><field name=\"MEMBER\">summarize_all</field><data>dplyr:summarize_all</data><value name=\"ADD0\"><block type=\"variables_get\" id=\"*j;b?VC.k3lvtk-YO41/\"><field name=\"VAR\" id=\"X~V70-15t9L^b}[IjBoW\">sample</field></block></value><value name=\"ADD1\"><block type=\"dummyOutputCodeBlock_R\" id=\"`UImL@LRZn=Il-Zm]Z+K\"><field name=\"CODE\">mean</field></block></value></block></xml>"
   ]
  },
  {
   "cell_type": "markdown",
   "metadata": {},
   "source": [
    "Run this code cell a couple of times (trick: do Ctrl + Enter)\n",
    "\n",
    "Notice that the means change each time, just a bit.\n",
    "\n",
    "That difference in means over different samples is what the standard error of the mean is measuring."
   ]
  },
  {
   "cell_type": "markdown",
   "metadata": {},
   "source": [
    "<!--  -->"
   ]
  }
 ],
 "metadata": {
  "kernelspec": {
   "display_name": "R",
   "language": "R",
   "name": "ir"
  },
  "language_info": {
   "codemirror_mode": "r",
   "file_extension": ".r",
   "mimetype": "text/x-r-source",
   "name": "R",
   "pygments_lexer": "r",
   "version": "4.1.2"
  }
 },
 "nbformat": 4,
 "nbformat_minor": 4
}
