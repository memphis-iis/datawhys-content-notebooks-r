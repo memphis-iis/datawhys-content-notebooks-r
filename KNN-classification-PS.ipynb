{
 "cells": [
  {
   "cell_type": "markdown",
   "metadata": {
    "deletable": false,
    "editable": false
   },
   "source": [
    "Copyright 2022 Andrew M. Olney and made available under [CC BY-SA](https://creativecommons.org/licenses/by-sa/4.0) for text and [Apache-2.0](http://www.apache.org/licenses/LICENSE-2.0) for code.\n"
   ]
  },
  {
   "cell_type": "markdown",
   "metadata": {},
   "source": [
    "# KNN classification: Problem solving"
   ]
  },
  {
   "cell_type": "markdown",
   "metadata": {},
   "source": [
    "In this session, you'll work through a complete example using a new dataset, `binary`."
   ]
  },
  {
   "cell_type": "markdown",
   "metadata": {},
   "source": [
    "## Load the dataframe\n",
    "\n",
    "The `binary.csv` dataset contains 4 variables:\n",
    "\n",
    "| Variable    | Type    | Description           |\n",
    "|:-------------|:---------|:-----------------------|\n",
    "| admit | Nominal   | the admittance status (0=not admitted, 1=admitted) |\n",
    "| gre  | Ratio   | the student's GRE score  |\n",
    "| gpa | Ratio   | the student's GPA |\n",
    "| rank  | Ordinal   | rank of the institution (1=highest to 4=lowest prestige)  |\n",
    "\n",
    "\n",
    "Start by loading `readr` and `dplyr`."
   ]
  },
  {
   "cell_type": "code",
   "execution_count": 1,
   "metadata": {},
   "outputs": [
    {
     "name": "stderr",
     "output_type": "stream",
     "text": [
      "\n",
      "Attaching package: ‘dplyr’\n",
      "\n",
      "\n",
      "The following objects are masked from ‘package:stats’:\n",
      "\n",
      "    filter, lag\n",
      "\n",
      "\n",
      "The following objects are masked from ‘package:base’:\n",
      "\n",
      "    intersect, setdiff, setequal, union\n",
      "\n",
      "\n"
     ]
    }
   ],
   "source": [
    "library(readr)\n",
    "library(dplyr)\n",
    "\n",
    "#<xml xmlns=\"https://developers.google.com/blockly/xml\"><variables><variable id=\"_;PP-/]_2fNUR.dyhw(8\">readr</variable><variable id=\"`IEAx*Bh}E,Y}mK;jr;{\">dplyr</variable></variables><block type=\"import_R\" id=\"q]np1Ju|B`4k*R-zylwU\" x=\"44\" y=\"66\"><field name=\"libraryName\" id=\"_;PP-/]_2fNUR.dyhw(8\">readr</field><next><block type=\"import_R\" id=\"(%@0XC,((6M%4]kj+iDm\"><field name=\"libraryName\" id=\"`IEAx*Bh}E,Y}mK;jr;{\">dplyr</field></block></next></block></xml>"
   ]
  },
  {
   "cell_type": "markdown",
   "metadata": {},
   "source": [
    "Load a dataframe with `binary.csv` and display the dataframe.\n",
    "\n",
    "*Note: It's useful to list your factor levels with the target level first, i.e. \"1\". Our performance metrics will assume that the first level is the target.*"
   ]
  },
  {
   "cell_type": "code",
   "execution_count": 16,
   "metadata": {},
   "outputs": [
    {
     "data": {
      "text/html": [
       "<table class=\"dataframe\">\n",
       "<caption>A spec_tbl_df: 400 × 4</caption>\n",
       "<thead>\n",
       "\t<tr><th scope=col>admit</th><th scope=col>gre</th><th scope=col>gpa</th><th scope=col>rank</th></tr>\n",
       "\t<tr><th scope=col>&lt;fct&gt;</th><th scope=col>&lt;dbl&gt;</th><th scope=col>&lt;dbl&gt;</th><th scope=col>&lt;dbl&gt;</th></tr>\n",
       "</thead>\n",
       "<tbody>\n",
       "\t<tr><td>0</td><td>380</td><td>3.61</td><td>3</td></tr>\n",
       "\t<tr><td>1</td><td>660</td><td>3.67</td><td>3</td></tr>\n",
       "\t<tr><td>1</td><td>800</td><td>4.00</td><td>1</td></tr>\n",
       "\t<tr><td>1</td><td>640</td><td>3.19</td><td>4</td></tr>\n",
       "\t<tr><td>0</td><td>520</td><td>2.93</td><td>4</td></tr>\n",
       "\t<tr><td>⋮</td><td>⋮</td><td>⋮</td><td>⋮</td></tr>\n",
       "\t<tr><td>0</td><td>620</td><td>4.00</td><td>2</td></tr>\n",
       "\t<tr><td>0</td><td>560</td><td>3.04</td><td>3</td></tr>\n",
       "\t<tr><td>0</td><td>460</td><td>2.63</td><td>2</td></tr>\n",
       "\t<tr><td>0</td><td>700</td><td>3.65</td><td>2</td></tr>\n",
       "\t<tr><td>0</td><td>600</td><td>3.89</td><td>3</td></tr>\n",
       "</tbody>\n",
       "</table>\n"
      ],
      "text/latex": [
       "A spec\\_tbl\\_df: 400 × 4\n",
       "\\begin{tabular}{llll}\n",
       " admit & gre & gpa & rank\\\\\n",
       " <fct> & <dbl> & <dbl> & <dbl>\\\\\n",
       "\\hline\n",
       "\t 0 & 380 & 3.61 & 3\\\\\n",
       "\t 1 & 660 & 3.67 & 3\\\\\n",
       "\t 1 & 800 & 4.00 & 1\\\\\n",
       "\t 1 & 640 & 3.19 & 4\\\\\n",
       "\t 0 & 520 & 2.93 & 4\\\\\n",
       "\t ⋮ & ⋮ & ⋮ & ⋮\\\\\n",
       "\t 0 & 620 & 4.00 & 2\\\\\n",
       "\t 0 & 560 & 3.04 & 3\\\\\n",
       "\t 0 & 460 & 2.63 & 2\\\\\n",
       "\t 0 & 700 & 3.65 & 2\\\\\n",
       "\t 0 & 600 & 3.89 & 3\\\\\n",
       "\\end{tabular}\n"
      ],
      "text/markdown": [
       "\n",
       "A spec_tbl_df: 400 × 4\n",
       "\n",
       "| admit &lt;fct&gt; | gre &lt;dbl&gt; | gpa &lt;dbl&gt; | rank &lt;dbl&gt; |\n",
       "|---|---|---|---|\n",
       "| 0 | 380 | 3.61 | 3 |\n",
       "| 1 | 660 | 3.67 | 3 |\n",
       "| 1 | 800 | 4.00 | 1 |\n",
       "| 1 | 640 | 3.19 | 4 |\n",
       "| 0 | 520 | 2.93 | 4 |\n",
       "| ⋮ | ⋮ | ⋮ | ⋮ |\n",
       "| 0 | 620 | 4.00 | 2 |\n",
       "| 0 | 560 | 3.04 | 3 |\n",
       "| 0 | 460 | 2.63 | 2 |\n",
       "| 0 | 700 | 3.65 | 2 |\n",
       "| 0 | 600 | 3.89 | 3 |\n",
       "\n"
      ],
      "text/plain": [
       "    admit gre gpa  rank\n",
       "1   0     380 3.61 3   \n",
       "2   1     660 3.67 3   \n",
       "3   1     800 4.00 1   \n",
       "4   1     640 3.19 4   \n",
       "5   0     520 2.93 4   \n",
       "⋮   ⋮     ⋮   ⋮    ⋮   \n",
       "396 0     620 4.00 2   \n",
       "397 0     560 3.04 3   \n",
       "398 0     460 2.63 2   \n",
       "399 0     700 3.65 2   \n",
       "400 0     600 3.89 3   "
      ]
     },
     "metadata": {},
     "output_type": "display_data"
    }
   ],
   "source": [
    "dataframe = readr::read_csv(\"datasets/binary.csv\",col_types= list(admit = col_factor(c(\"1\", \"0\"))))\n",
    "\n",
    "dataframe\n",
    "\n",
    "#<xml xmlns=\"https://developers.google.com/blockly/xml\"><variables><variable id=\"(*,(U(rm+VG0+vg;w$65\">dataframe</variable><variable id=\"_;PP-/]_2fNUR.dyhw(8\">readr</variable></variables><block type=\"variables_set\" id=\"gM*jw`FfIR3)8=g0iEB7\" x=\"28\" y=\"220\"><field name=\"VAR\" id=\"(*,(U(rm+VG0+vg;w$65\">dataframe</field><value name=\"VALUE\"><block type=\"varDoMethod_R\" id=\",vaW{t?FHN1~E?+,h!w-\"><mutation items=\"2\"></mutation><field name=\"VAR\" id=\"_;PP-/]_2fNUR.dyhw(8\">readr</field><field name=\"MEMBER\">read_csv</field><data>readr:read_csv</data><value name=\"ADD0\"><block type=\"text\" id=\"dfrpI5b@DHr+DQ:|@vpv\"><field name=\"TEXT\">datasets/binary.csv</field></block></value><value name=\"ADD1\"><block type=\"valueOutputCodeBlock_R\" id=\"z6B+)So*d0^OjD*`zeoy\"><field name=\"CODE\">col_types=</field><value name=\"INPUT\"><block type=\"lists_create_with\" id=\"W|E4(pWg{_lEMJw9C$kC\"><mutation items=\"1\"></mutation><value name=\"ADD0\"><block type=\"dummyOutputCodeBlock_R\" id=\"!}{|N3Q;s2%t{*`C5Ky/\"><field name=\"CODE\">admit = col_factor(c(\"1\", \"0\"))</field></block></value></block></value></block></value></block></value></block><block type=\"variables_get\" id=\"dn{+Q#DO%lN;G_tFGJ#B\" x=\"8\" y=\"304\"><field name=\"VAR\" id=\"(*,(U(rm+VG0+vg;w$65\">dataframe</field></block></xml>"
   ]
  },
  {
   "cell_type": "markdown",
   "metadata": {},
   "source": [
    "## Prepare the train/test data\n",
    "\n",
    "To train the classifiers, you need to split the dataframe into training data and testing data.\n",
    "\n",
    "Start by importing `rsample`."
   ]
  },
  {
   "cell_type": "code",
   "execution_count": 17,
   "metadata": {},
   "outputs": [],
   "source": [
    "library(rsample)\n",
    "\n",
    "#<xml xmlns=\"https://developers.google.com/blockly/xml\"><variables><variable id=\"~~-I(f=60)#JfKGvV_AP\">rsample</variable></variables><block type=\"import_R\" id=\"g^doBJYp/fk!)^uuYnUf\" x=\"-280\" y=\"10\"><field name=\"libraryName\" id=\"~~-I(f=60)#JfKGvV_AP\">rsample</field></block></xml>"
   ]
  },
  {
   "cell_type": "markdown",
   "metadata": {},
   "source": [
    "Now split the data into training and testing data, using `test_size` at one of the following 3 values depending on your birthday:\n",
    "\n",
    "If your birthday is in:\n",
    "\n",
    "- Jan, Feb, Mar, Apr, use `0.2` \n",
    "- May, Jun, Jul, Aug, use `0.4`\n",
    "- Sep, Oct, Nov, Dec, use `0.6`\n",
    "\n",
    "So depending on your birthday, we'll use 20, 40, or 60% of the data for testing."
   ]
  },
  {
   "cell_type": "code",
   "execution_count": 18,
   "metadata": {},
   "outputs": [
    {
     "data": {
      "text/html": [
       "<table class=\"dataframe\">\n",
       "<caption>A tibble: 320 × 4</caption>\n",
       "<thead>\n",
       "\t<tr><th scope=col>admit</th><th scope=col>gre</th><th scope=col>gpa</th><th scope=col>rank</th></tr>\n",
       "\t<tr><th scope=col>&lt;fct&gt;</th><th scope=col>&lt;dbl&gt;</th><th scope=col>&lt;dbl&gt;</th><th scope=col>&lt;dbl&gt;</th></tr>\n",
       "</thead>\n",
       "<tbody>\n",
       "\t<tr><td>0</td><td>660</td><td>3.31</td><td>4</td></tr>\n",
       "\t<tr><td>0</td><td>640</td><td>3.12</td><td>3</td></tr>\n",
       "\t<tr><td>1</td><td>780</td><td>3.80</td><td>3</td></tr>\n",
       "\t<tr><td>0</td><td>340</td><td>3.15</td><td>3</td></tr>\n",
       "\t<tr><td>0</td><td>500</td><td>3.31</td><td>3</td></tr>\n",
       "\t<tr><td>⋮</td><td>⋮</td><td>⋮</td><td>⋮</td></tr>\n",
       "\t<tr><td>1</td><td>660</td><td>3.88</td><td>2</td></tr>\n",
       "\t<tr><td>1</td><td>800</td><td>3.70</td><td>1</td></tr>\n",
       "\t<tr><td>0</td><td>520</td><td>3.10</td><td>4</td></tr>\n",
       "\t<tr><td>0</td><td>800</td><td>3.15</td><td>4</td></tr>\n",
       "\t<tr><td>1</td><td>580</td><td>3.58</td><td>1</td></tr>\n",
       "</tbody>\n",
       "</table>\n"
      ],
      "text/latex": [
       "A tibble: 320 × 4\n",
       "\\begin{tabular}{llll}\n",
       " admit & gre & gpa & rank\\\\\n",
       " <fct> & <dbl> & <dbl> & <dbl>\\\\\n",
       "\\hline\n",
       "\t 0 & 660 & 3.31 & 4\\\\\n",
       "\t 0 & 640 & 3.12 & 3\\\\\n",
       "\t 1 & 780 & 3.80 & 3\\\\\n",
       "\t 0 & 340 & 3.15 & 3\\\\\n",
       "\t 0 & 500 & 3.31 & 3\\\\\n",
       "\t ⋮ & ⋮ & ⋮ & ⋮\\\\\n",
       "\t 1 & 660 & 3.88 & 2\\\\\n",
       "\t 1 & 800 & 3.70 & 1\\\\\n",
       "\t 0 & 520 & 3.10 & 4\\\\\n",
       "\t 0 & 800 & 3.15 & 4\\\\\n",
       "\t 1 & 580 & 3.58 & 1\\\\\n",
       "\\end{tabular}\n"
      ],
      "text/markdown": [
       "\n",
       "A tibble: 320 × 4\n",
       "\n",
       "| admit &lt;fct&gt; | gre &lt;dbl&gt; | gpa &lt;dbl&gt; | rank &lt;dbl&gt; |\n",
       "|---|---|---|---|\n",
       "| 0 | 660 | 3.31 | 4 |\n",
       "| 0 | 640 | 3.12 | 3 |\n",
       "| 1 | 780 | 3.80 | 3 |\n",
       "| 0 | 340 | 3.15 | 3 |\n",
       "| 0 | 500 | 3.31 | 3 |\n",
       "| ⋮ | ⋮ | ⋮ | ⋮ |\n",
       "| 1 | 660 | 3.88 | 2 |\n",
       "| 1 | 800 | 3.70 | 1 |\n",
       "| 0 | 520 | 3.10 | 4 |\n",
       "| 0 | 800 | 3.15 | 4 |\n",
       "| 1 | 580 | 3.58 | 1 |\n",
       "\n"
      ],
      "text/plain": [
       "    admit gre gpa  rank\n",
       "1   0     660 3.31 4   \n",
       "2   0     640 3.12 3   \n",
       "3   1     780 3.80 3   \n",
       "4   0     340 3.15 3   \n",
       "5   0     500 3.31 3   \n",
       "⋮   ⋮     ⋮   ⋮    ⋮   \n",
       "316 1     660 3.88 2   \n",
       "317 1     800 3.70 1   \n",
       "318 0     520 3.10 4   \n",
       "319 0     800 3.15 4   \n",
       "320 1     580 3.58 1   "
      ]
     },
     "metadata": {},
     "output_type": "display_data"
    }
   ],
   "source": [
    "data_split = rsample::initial_split(dataframe,prop=.80)\n",
    "data_train = rsample::training(data_split)\n",
    "data_test = rsample::testing(data_split)\n",
    "\n",
    "data_train\n",
    "\n",
    "#<xml xmlns=\"https://developers.google.com/blockly/xml\"><variables><variable id=\"bQ!4E:J!~]0(]7KV]m@=\">data_split</variable><variable id=\":iMr},W7(N7vSLAUw!ao\">data_train</variable><variable id=\"~~-I(f=60)#JfKGvV_AP\">rsample</variable><variable id=\"(*,(U(rm+VG0+vg;w$65\">dataframe</variable><variable id=\"|q$XCeTWL%AdgT|]tbnU\">data_test</variable></variables><block type=\"variables_set\" id=\"s!g),aa^(]dox/f`@P!y\" x=\"-116\" y=\"313\"><field name=\"VAR\" id=\"bQ!4E:J!~]0(]7KV]m@=\">data_split</field><value name=\"VALUE\"><block type=\"varDoMethod_R\" id=\"hPsr6}9C/VNgaLsKuR,o\"><mutation items=\"2\"></mutation><field name=\"VAR\" id=\"~~-I(f=60)#JfKGvV_AP\">rsample</field><field name=\"MEMBER\">initial_split</field><data>rsample:initial_split</data><value name=\"ADD0\"><block type=\"variables_get\" id=\"]~#@ltf];dTom_%pzV4n\"><field name=\"VAR\" id=\"(*,(U(rm+VG0+vg;w$65\">dataframe</field></block></value><value name=\"ADD1\"><block type=\"dummyOutputCodeBlock_R\" id=\"R`?vH79hsA6Duxa9)AFX\"><field name=\"CODE\">prop=.80</field></block></value></block></value><next><block type=\"variables_set\" id=\"3J6#JDFV0wE?V;NuM=?L\"><field name=\"VAR\" id=\":iMr},W7(N7vSLAUw!ao\">data_train</field><value name=\"VALUE\"><block type=\"varDoMethod_R\" id=\"X|Q7lj,pD_9W{%^.xd7h\"><mutation items=\"1\"></mutation><field name=\"VAR\" id=\"~~-I(f=60)#JfKGvV_AP\">rsample</field><field name=\"MEMBER\">training</field><data>rsample:training</data><value name=\"ADD0\"><block type=\"variables_get\" id=\"JFCmHyJPiN`qwnlE~:iT\"><field name=\"VAR\" id=\"bQ!4E:J!~]0(]7KV]m@=\">data_split</field></block></value></block></value><next><block type=\"variables_set\" id=\"Y]ag(g~}tkN6:_X*]6P{\"><field name=\"VAR\" id=\"|q$XCeTWL%AdgT|]tbnU\">data_test</field><value name=\"VALUE\"><block type=\"varDoMethod_R\" id=\"WBYo8G|ZcojJAqETRnv`\"><mutation items=\"1\"></mutation><field name=\"VAR\" id=\"~~-I(f=60)#JfKGvV_AP\">rsample</field><field name=\"MEMBER\">testing</field><data>rsample:testing</data><value name=\"ADD0\"><block type=\"variables_get\" id=\"p^~x9|Zj((6qaUVvj#.E\"><field name=\"VAR\" id=\"bQ!4E:J!~]0(]7KV]m@=\">data_split</field></block></value></block></value></block></next></block></next></block><block type=\"variables_get\" id=\"9j){6[r67+7OFx`a~K[Y\" x=\"-115\" y=\"515\"><field name=\"VAR\" id=\":iMr},W7(N7vSLAUw!ao\">data_train</field></block></xml>"
   ]
  },
  {
   "cell_type": "markdown",
   "metadata": {},
   "source": [
    "## KNN\n",
    "\n",
    "First load `parsnip` and `generics`."
   ]
  },
  {
   "cell_type": "code",
   "execution_count": 19,
   "metadata": {},
   "outputs": [],
   "source": [
    "library(parsnip)\n",
    "library(generics)\n",
    "\n",
    "#<xml xmlns=\"https://developers.google.com/blockly/xml\"><variables><variable id=\"3q]Js%*Alzd]|p|FOe}-\">parsnip</variable><variable id=\"w(9-o9gLSDEJ,]Qt}e!^\">generics</variable></variables><block type=\"import_R\" id=\"Tkh?^4ccrGs0mL!EM3hu\" x=\"-101\" y=\"-34\"><field name=\"libraryName\" id=\"3q]Js%*Alzd]|p|FOe}-\">parsnip</field><next><block type=\"import_R\" id=\".Hs/97T-2cD7?pjtke5p\"><field name=\"libraryName\" id=\"w(9-o9gLSDEJ,]Qt}e!^\">generics</field></block></next></block></xml>"
   ]
  },
  {
   "cell_type": "markdown",
   "metadata": {},
   "source": [
    "Next define the KNN model and fit it."
   ]
  },
  {
   "cell_type": "code",
   "execution_count": 20,
   "metadata": {},
   "outputs": [],
   "source": [
    "model = parsnip::nearest_neighbor(neighbors = 5) %>%\n",
    "    parsnip::set_mode(\"classification\") %>%\n",
    "    parsnip::set_engine(\"kknn\") %>%\n",
    "    parsnip::fit.model_spec(admit ~ .,data = data_train)\n",
    "\n",
    "#<xml xmlns=\"https://developers.google.com/blockly/xml\"><variables><variable id=\"mgo;O)iX^5)A5.@gqIkA\">model</variable><variable id=\"3q]Js%*Alzd]|p|FOe}-\">parsnip</variable></variables><block type=\"variables_set\" id=\"*(u89h_-M@(PB-!qP/1l\" x=\"-94\" y=\"176\"><field name=\"VAR\" id=\"mgo;O)iX^5)A5.@gqIkA\">model</field><value name=\"VALUE\"><block type=\"pipe_R\" id=\"Oj1:/l+xksT^dSM;w{,g\"><mutation items=\"3\"></mutation><value name=\"INPUT\"><block type=\"varDoMethod_R\" id=\"m!?PwvZD%AJHhH1paJ[8\"><mutation items=\"1\"></mutation><field name=\"VAR\" id=\"3q]Js%*Alzd]|p|FOe}-\">parsnip</field><field name=\"MEMBER\">nearest_neighbor</field><data>parsnip:nearest_neighbor</data><value name=\"ADD0\"><block type=\"dummyOutputCodeBlock_R\" id=\"m*FRi~byi7Ob_,Q%6]=$\"><field name=\"CODE\">neighbors = 5</field></block></value></block></value><value name=\"ADD0\"><block type=\"varDoMethod_R\" id=\"ady`8N}J*2BV_*AmtF`n\"><mutation items=\"1\"></mutation><field name=\"VAR\" id=\"3q]Js%*Alzd]|p|FOe}-\">parsnip</field><field name=\"MEMBER\">set_mode</field><data>parsnip:set_mode</data><value name=\"ADD0\"><block type=\"text\" id=\"#4#x{=R9!%aA:_,cHnF(\"><field name=\"TEXT\">classification</field></block></value></block></value><value name=\"ADD1\"><block type=\"varDoMethod_R\" id=\"bybPF(gahfhB3cmyy;/n\"><mutation items=\"1\"></mutation><field name=\"VAR\" id=\"3q]Js%*Alzd]|p|FOe}-\">parsnip</field><field name=\"MEMBER\">set_engine</field><data>parsnip:set_engine</data><value name=\"ADD0\"><block type=\"text\" id=\"v9=Ry*6UUQjzFr5Sy@,f\"><field name=\"TEXT\">kknn</field></block></value></block></value><value name=\"ADD2\"><block type=\"varDoMethod_R\" id=\"Q61XWF.0ty]Aw^i83YUS\"><mutation items=\"2\"></mutation><field name=\"VAR\" id=\"3q]Js%*Alzd]|p|FOe}-\">parsnip</field><field name=\"MEMBER\">fit.model_spec</field><data>parsnip:fit.model_spec</data><value name=\"ADD0\"><block type=\"dummyOutputCodeBlock_R\" id=\"n(du-Q]_KTwoCFj6n|V5\"><field name=\"CODE\">admit ~ .</field></block></value><value name=\"ADD1\"><block type=\"dummyOutputCodeBlock_R\" id=\"lIU{_ql0epb7NH-C6Kvw\"><field name=\"CODE\">data = data_train</field></block></value></block></value></block></value></block></xml>"
   ]
  },
  {
   "cell_type": "markdown",
   "metadata": {},
   "source": [
    "Now display model predictions on the test data to make sure it worked."
   ]
  },
  {
   "cell_type": "code",
   "execution_count": 21,
   "metadata": {},
   "outputs": [
    {
     "data": {
      "text/html": [
       "<table class=\"dataframe\">\n",
       "<caption>A tibble: 80 × 1</caption>\n",
       "<thead>\n",
       "\t<tr><th scope=col>.pred_class</th></tr>\n",
       "\t<tr><th scope=col>&lt;fct&gt;</th></tr>\n",
       "</thead>\n",
       "<tbody>\n",
       "\t<tr><td>0</td></tr>\n",
       "\t<tr><td>0</td></tr>\n",
       "\t<tr><td>1</td></tr>\n",
       "\t<tr><td>1</td></tr>\n",
       "\t<tr><td>0</td></tr>\n",
       "\t<tr><td>⋮</td></tr>\n",
       "\t<tr><td>0</td></tr>\n",
       "\t<tr><td>0</td></tr>\n",
       "\t<tr><td>0</td></tr>\n",
       "\t<tr><td>0</td></tr>\n",
       "\t<tr><td>0</td></tr>\n",
       "</tbody>\n",
       "</table>\n"
      ],
      "text/latex": [
       "A tibble: 80 × 1\n",
       "\\begin{tabular}{l}\n",
       " .pred\\_class\\\\\n",
       " <fct>\\\\\n",
       "\\hline\n",
       "\t 0\\\\\n",
       "\t 0\\\\\n",
       "\t 1\\\\\n",
       "\t 1\\\\\n",
       "\t 0\\\\\n",
       "\t ⋮\\\\\n",
       "\t 0\\\\\n",
       "\t 0\\\\\n",
       "\t 0\\\\\n",
       "\t 0\\\\\n",
       "\t 0\\\\\n",
       "\\end{tabular}\n"
      ],
      "text/markdown": [
       "\n",
       "A tibble: 80 × 1\n",
       "\n",
       "| .pred_class &lt;fct&gt; |\n",
       "|---|\n",
       "| 0 |\n",
       "| 0 |\n",
       "| 1 |\n",
       "| 1 |\n",
       "| 0 |\n",
       "| ⋮ |\n",
       "| 0 |\n",
       "| 0 |\n",
       "| 0 |\n",
       "| 0 |\n",
       "| 0 |\n",
       "\n"
      ],
      "text/plain": [
       "   .pred_class\n",
       "1  0          \n",
       "2  0          \n",
       "3  1          \n",
       "4  1          \n",
       "5  0          \n",
       "⋮  ⋮          \n",
       "76 0          \n",
       "77 0          \n",
       "78 0          \n",
       "79 0          \n",
       "80 0          "
      ]
     },
     "metadata": {},
     "output_type": "display_data"
    }
   ],
   "source": [
    "parsnip::predict.model_fit(model,data_test)\n",
    "\n",
    "#<xml xmlns=\"https://developers.google.com/blockly/xml\"><variables><variable id=\"3q]Js%*Alzd]|p|FOe}-\">parsnip</variable><variable id=\"mgo;O)iX^5)A5.@gqIkA\">model</variable><variable id=\"|q$XCeTWL%AdgT|]tbnU\">data_test</variable></variables><block type=\"varDoMethod_R\" id=\"9|=:dCZ9{DKV$n07!1C!\" x=\"-160\" y=\"132\"><mutation items=\"2\"></mutation><field name=\"VAR\" id=\"3q]Js%*Alzd]|p|FOe}-\">parsnip</field><field name=\"MEMBER\">predict.model_fit</field><data>parsnip:predict.model_fit</data><value name=\"ADD0\"><block type=\"variables_get\" id=\"QbNKT15/:0bkQ7|KddE-\"><field name=\"VAR\" id=\"mgo;O)iX^5)A5.@gqIkA\">model</field></block></value><value name=\"ADD1\"><block type=\"variables_get\" id=\"=.XA:UP[M?98fAWf`?)A\"><field name=\"VAR\" id=\"|q$XCeTWL%AdgT|]tbnU\">data_test</field></block></value></block></xml>"
   ]
  },
  {
   "cell_type": "markdown",
   "metadata": {},
   "source": [
    "You should see a mix of `1` and `0` in the predictions. \n",
    "\n",
    "**QUESTION:**\n",
    "\n",
    "Do you think `0` or `1` is more common in this dataset?\n",
    "What could you do with the dataframe to check?"
   ]
  },
  {
   "cell_type": "markdown",
   "metadata": {},
   "source": [
    "**ANSWER: (click here to edit)**\n",
    "\n",
    "*`0` looks more common. An easy way to check would be to use `tabyl` on the dataframe.*"
   ]
  },
  {
   "cell_type": "markdown",
   "metadata": {},
   "source": [
    "## Classifier evaluation\n",
    "\n",
    "To see if the model is any good, do some evaluations.\n",
    "\n",
    "First `augment` the test data with the predictions."
   ]
  },
  {
   "cell_type": "code",
   "execution_count": 22,
   "metadata": {},
   "outputs": [
    {
     "data": {
      "text/html": [
       "<table class=\"dataframe\">\n",
       "<caption>A tibble: 80 × 7</caption>\n",
       "<thead>\n",
       "\t<tr><th scope=col>admit</th><th scope=col>gre</th><th scope=col>gpa</th><th scope=col>rank</th><th scope=col>.pred_class</th><th scope=col>.pred_1</th><th scope=col>.pred_0</th></tr>\n",
       "\t<tr><th scope=col>&lt;fct&gt;</th><th scope=col>&lt;dbl&gt;</th><th scope=col>&lt;dbl&gt;</th><th scope=col>&lt;dbl&gt;</th><th scope=col>&lt;fct&gt;</th><th scope=col>&lt;dbl&gt;</th><th scope=col>&lt;dbl&gt;</th></tr>\n",
       "</thead>\n",
       "<tbody>\n",
       "\t<tr><td>0</td><td>600</td><td>2.82</td><td>4</td><td>0</td><td>0.3109971</td><td>0.6890029</td></tr>\n",
       "\t<tr><td>0</td><td>680</td><td>3.19</td><td>4</td><td>0</td><td>0.3829806</td><td>0.6170194</td></tr>\n",
       "\t<tr><td>1</td><td>760</td><td>3.35</td><td>2</td><td>1</td><td>0.6742699</td><td>0.3257301</td></tr>\n",
       "\t<tr><td>1</td><td>780</td><td>3.22</td><td>2</td><td>1</td><td>0.8938879</td><td>0.1061121</td></tr>\n",
       "\t<tr><td>0</td><td>520</td><td>3.29</td><td>1</td><td>0</td><td>0.4623578</td><td>0.5376422</td></tr>\n",
       "\t<tr><td>⋮</td><td>⋮</td><td>⋮</td><td>⋮</td><td>⋮</td><td>⋮</td><td>⋮</td></tr>\n",
       "\t<tr><td>0</td><td>540</td><td>2.70</td><td>2</td><td>0</td><td>0.1061121</td><td>0.8938879</td></tr>\n",
       "\t<tr><td>0</td><td>700</td><td>3.65</td><td>2</td><td>0</td><td>0.3109971</td><td>0.6890029</td></tr>\n",
       "\t<tr><td>0</td><td>420</td><td>3.02</td><td>1</td><td>0</td><td>0.3829806</td><td>0.6170194</td></tr>\n",
       "\t<tr><td>0</td><td>580</td><td>3.36</td><td>2</td><td>0</td><td>0.2768684</td><td>0.7231316</td></tr>\n",
       "\t<tr><td>0</td><td>460</td><td>2.63</td><td>2</td><td>0</td><td>0.3974014</td><td>0.6025986</td></tr>\n",
       "</tbody>\n",
       "</table>\n"
      ],
      "text/latex": [
       "A tibble: 80 × 7\n",
       "\\begin{tabular}{lllllll}\n",
       " admit & gre & gpa & rank & .pred\\_class & .pred\\_1 & .pred\\_0\\\\\n",
       " <fct> & <dbl> & <dbl> & <dbl> & <fct> & <dbl> & <dbl>\\\\\n",
       "\\hline\n",
       "\t 0 & 600 & 2.82 & 4 & 0 & 0.3109971 & 0.6890029\\\\\n",
       "\t 0 & 680 & 3.19 & 4 & 0 & 0.3829806 & 0.6170194\\\\\n",
       "\t 1 & 760 & 3.35 & 2 & 1 & 0.6742699 & 0.3257301\\\\\n",
       "\t 1 & 780 & 3.22 & 2 & 1 & 0.8938879 & 0.1061121\\\\\n",
       "\t 0 & 520 & 3.29 & 1 & 0 & 0.4623578 & 0.5376422\\\\\n",
       "\t ⋮ & ⋮ & ⋮ & ⋮ & ⋮ & ⋮ & ⋮\\\\\n",
       "\t 0 & 540 & 2.70 & 2 & 0 & 0.1061121 & 0.8938879\\\\\n",
       "\t 0 & 700 & 3.65 & 2 & 0 & 0.3109971 & 0.6890029\\\\\n",
       "\t 0 & 420 & 3.02 & 1 & 0 & 0.3829806 & 0.6170194\\\\\n",
       "\t 0 & 580 & 3.36 & 2 & 0 & 0.2768684 & 0.7231316\\\\\n",
       "\t 0 & 460 & 2.63 & 2 & 0 & 0.3974014 & 0.6025986\\\\\n",
       "\\end{tabular}\n"
      ],
      "text/markdown": [
       "\n",
       "A tibble: 80 × 7\n",
       "\n",
       "| admit &lt;fct&gt; | gre &lt;dbl&gt; | gpa &lt;dbl&gt; | rank &lt;dbl&gt; | .pred_class &lt;fct&gt; | .pred_1 &lt;dbl&gt; | .pred_0 &lt;dbl&gt; |\n",
       "|---|---|---|---|---|---|---|\n",
       "| 0 | 600 | 2.82 | 4 | 0 | 0.3109971 | 0.6890029 |\n",
       "| 0 | 680 | 3.19 | 4 | 0 | 0.3829806 | 0.6170194 |\n",
       "| 1 | 760 | 3.35 | 2 | 1 | 0.6742699 | 0.3257301 |\n",
       "| 1 | 780 | 3.22 | 2 | 1 | 0.8938879 | 0.1061121 |\n",
       "| 0 | 520 | 3.29 | 1 | 0 | 0.4623578 | 0.5376422 |\n",
       "| ⋮ | ⋮ | ⋮ | ⋮ | ⋮ | ⋮ | ⋮ |\n",
       "| 0 | 540 | 2.70 | 2 | 0 | 0.1061121 | 0.8938879 |\n",
       "| 0 | 700 | 3.65 | 2 | 0 | 0.3109971 | 0.6890029 |\n",
       "| 0 | 420 | 3.02 | 1 | 0 | 0.3829806 | 0.6170194 |\n",
       "| 0 | 580 | 3.36 | 2 | 0 | 0.2768684 | 0.7231316 |\n",
       "| 0 | 460 | 2.63 | 2 | 0 | 0.3974014 | 0.6025986 |\n",
       "\n"
      ],
      "text/plain": [
       "   admit gre gpa  rank .pred_class .pred_1   .pred_0  \n",
       "1  0     600 2.82 4    0           0.3109971 0.6890029\n",
       "2  0     680 3.19 4    0           0.3829806 0.6170194\n",
       "3  1     760 3.35 2    1           0.6742699 0.3257301\n",
       "4  1     780 3.22 2    1           0.8938879 0.1061121\n",
       "5  0     520 3.29 1    0           0.4623578 0.5376422\n",
       "⋮  ⋮     ⋮   ⋮    ⋮    ⋮           ⋮         ⋮        \n",
       "76 0     540 2.70 2    0           0.1061121 0.8938879\n",
       "77 0     700 3.65 2    0           0.3109971 0.6890029\n",
       "78 0     420 3.02 1    0           0.3829806 0.6170194\n",
       "79 0     580 3.36 2    0           0.2768684 0.7231316\n",
       "80 0     460 2.63 2    0           0.3974014 0.6025986"
      ]
     },
     "metadata": {},
     "output_type": "display_data"
    }
   ],
   "source": [
    "data_evaluation = generics::augment(model,data_test)\n",
    "\n",
    "data_evaluation\n",
    "\n",
    "#<xml xmlns=\"https://developers.google.com/blockly/xml\"><variables><variable id=\".zA6Y6Y}9T^S|whSl]|6\">data_evaluation</variable><variable id=\"w(9-o9gLSDEJ,]Qt}e!^\">generics</variable><variable id=\"mgo;O)iX^5)A5.@gqIkA\">model</variable><variable id=\"|q$XCeTWL%AdgT|]tbnU\">data_test</variable></variables><block type=\"variables_set\" id=\"qHR/^ulVJ-n)W4{:7-@Y\" x=\"-193\" y=\"204\"><field name=\"VAR\" id=\".zA6Y6Y}9T^S|whSl]|6\">data_evaluation</field><value name=\"VALUE\"><block type=\"varDoMethod_R\" id=\"k:ygkKz,swERp]34_uH{\"><mutation items=\"2\"></mutation><field name=\"VAR\" id=\"w(9-o9gLSDEJ,]Qt}e!^\">generics</field><field name=\"MEMBER\">augment</field><data>generics:augment</data><value name=\"ADD0\"><block type=\"variables_get\" id=\"9A!7aBLNe1]IufZ-R;BY\"><field name=\"VAR\" id=\"mgo;O)iX^5)A5.@gqIkA\">model</field></block></value><value name=\"ADD1\"><block type=\"variables_get\" id=\"qPW(v;lbSJ=RJ)y;hW$)\"><field name=\"VAR\" id=\"|q$XCeTWL%AdgT|]tbnU\">data_test</field></block></value></block></value></block><block type=\"variables_get\" id=\"Um|1+kaS%|p}e=,Pw)MQ\" x=\"-203\" y=\"317\"><field name=\"VAR\" id=\".zA6Y6Y}9T^S|whSl]|6\">data_evaluation</field></block></xml>"
   ]
  },
  {
   "cell_type": "markdown",
   "metadata": {},
   "source": [
    "Next load `yardstick`."
   ]
  },
  {
   "cell_type": "code",
   "execution_count": 23,
   "metadata": {},
   "outputs": [],
   "source": [
    "library(yardstick)\n",
    "\n",
    "#<xml xmlns=\"https://developers.google.com/blockly/xml\"><variables><variable id=\"M8O}^6C_fm;DGZt9!{=e\">yardstick</variable></variables><block type=\"import_R\" id=\"~]m5/PaJhO^)r2YX)!Ko\" x=\"-152\" y=\"-34\"><field name=\"libraryName\" id=\"M8O}^6C_fm;DGZt9!{=e\">yardstick</field></block></xml>"
   ]
  },
  {
   "cell_type": "markdown",
   "metadata": {},
   "source": [
    "### Accuracy\n"
   ]
  },
  {
   "cell_type": "markdown",
   "metadata": {},
   "source": [
    "And calculate the KNN accuracy."
   ]
  },
  {
   "cell_type": "code",
   "execution_count": 24,
   "metadata": {},
   "outputs": [
    {
     "data": {
      "text/html": [
       "<table class=\"dataframe\">\n",
       "<caption>A tibble: 1 × 3</caption>\n",
       "<thead>\n",
       "\t<tr><th scope=col>.metric</th><th scope=col>.estimator</th><th scope=col>.estimate</th></tr>\n",
       "\t<tr><th scope=col>&lt;chr&gt;</th><th scope=col>&lt;chr&gt;</th><th scope=col>&lt;dbl&gt;</th></tr>\n",
       "</thead>\n",
       "<tbody>\n",
       "\t<tr><td>accuracy</td><td>binary</td><td>0.675</td></tr>\n",
       "</tbody>\n",
       "</table>\n"
      ],
      "text/latex": [
       "A tibble: 1 × 3\n",
       "\\begin{tabular}{lll}\n",
       " .metric & .estimator & .estimate\\\\\n",
       " <chr> & <chr> & <dbl>\\\\\n",
       "\\hline\n",
       "\t accuracy & binary & 0.675\\\\\n",
       "\\end{tabular}\n"
      ],
      "text/markdown": [
       "\n",
       "A tibble: 1 × 3\n",
       "\n",
       "| .metric &lt;chr&gt; | .estimator &lt;chr&gt; | .estimate &lt;dbl&gt; |\n",
       "|---|---|---|\n",
       "| accuracy | binary | 0.675 |\n",
       "\n"
      ],
      "text/plain": [
       "  .metric  .estimator .estimate\n",
       "1 accuracy binary     0.675    "
      ]
     },
     "metadata": {},
     "output_type": "display_data"
    }
   ],
   "source": [
    "yardstick::accuracy(data_evaluation,truth=admit,estimate=.pred_class)\n",
    "\n",
    "#<xml xmlns=\"https://developers.google.com/blockly/xml\"><variables><variable id=\"M8O}^6C_fm;DGZt9!{=e\">yardstick</variable><variable id=\".zA6Y6Y}9T^S|whSl]|6\">data_evaluation</variable></variables><block type=\"varDoMethod_R\" id=\"ovJDL$T;GrTBZ,)jMz;a\" x=\"-272\" y=\"142\"><mutation items=\"3\"></mutation><field name=\"VAR\" id=\"M8O}^6C_fm;DGZt9!{=e\">yardstick</field><field name=\"MEMBER\">accuracy</field><data>yardstick:accuracy</data><value name=\"ADD0\"><block type=\"variables_get\" id=\"$#GYCvI1LKXt%Rsb09a}\"><field name=\"VAR\" id=\".zA6Y6Y}9T^S|whSl]|6\">data_evaluation</field></block></value><value name=\"ADD1\"><block type=\"dummyOutputCodeBlock_R\" id=\"i#@XFD{vr]B47yD52|(B\"><field name=\"CODE\">truth=admit</field></block></value><value name=\"ADD2\"><block type=\"dummyOutputCodeBlock_R\" id=\"(x50a~#{oijRotT|Z?8G\"><field name=\"CODE\">estimate=.pred_class</field></block></value></block></xml>"
   ]
  },
  {
   "cell_type": "markdown",
   "metadata": {},
   "source": [
    "**QUESTION:**\n",
    "\n",
    "What does the accuracy tell you about the errors the model is making?"
   ]
  },
  {
   "cell_type": "markdown",
   "metadata": {},
   "source": [
    "**ANSWER: (click here to edit)**\n",
    "\n",
    "*Accuracy doesn't tell you about a specific type of error; you'd need to use a confusion matrix or other metric to get that information*"
   ]
  },
  {
   "cell_type": "markdown",
   "metadata": {},
   "source": [
    "**QUESTION:**\n",
    "\n",
    "What do you expect to happen to accuracy as you increase `prop`?"
   ]
  },
  {
   "cell_type": "markdown",
   "metadata": {},
   "source": [
    "**ANSWER: (click here to edit)**\n",
    "\n",
    "*Accuracy should go down as test size increases, because putting more data into test means less data for training, and KNN needs as much training data as possible*"
   ]
  },
  {
   "cell_type": "markdown",
   "metadata": {},
   "source": [
    "### Recall/Precision per class\n"
   ]
  },
  {
   "cell_type": "markdown",
   "metadata": {},
   "source": [
    "Get recall."
   ]
  },
  {
   "cell_type": "code",
   "execution_count": 25,
   "metadata": {},
   "outputs": [
    {
     "data": {
      "text/html": [
       "<table class=\"dataframe\">\n",
       "<caption>A tibble: 1 × 3</caption>\n",
       "<thead>\n",
       "\t<tr><th scope=col>.metric</th><th scope=col>.estimator</th><th scope=col>.estimate</th></tr>\n",
       "\t<tr><th scope=col>&lt;chr&gt;</th><th scope=col>&lt;chr&gt;</th><th scope=col>&lt;dbl&gt;</th></tr>\n",
       "</thead>\n",
       "<tbody>\n",
       "\t<tr><td>recall</td><td>binary</td><td>0.32</td></tr>\n",
       "</tbody>\n",
       "</table>\n"
      ],
      "text/latex": [
       "A tibble: 1 × 3\n",
       "\\begin{tabular}{lll}\n",
       " .metric & .estimator & .estimate\\\\\n",
       " <chr> & <chr> & <dbl>\\\\\n",
       "\\hline\n",
       "\t recall & binary & 0.32\\\\\n",
       "\\end{tabular}\n"
      ],
      "text/markdown": [
       "\n",
       "A tibble: 1 × 3\n",
       "\n",
       "| .metric &lt;chr&gt; | .estimator &lt;chr&gt; | .estimate &lt;dbl&gt; |\n",
       "|---|---|---|\n",
       "| recall | binary | 0.32 |\n",
       "\n"
      ],
      "text/plain": [
       "  .metric .estimator .estimate\n",
       "1 recall  binary     0.32     "
      ]
     },
     "metadata": {},
     "output_type": "display_data"
    }
   ],
   "source": [
    "yardstick::recall(data_evaluation,truth=admit,estimate=.pred_class)\n",
    "\n",
    "#<xml xmlns=\"https://developers.google.com/blockly/xml\"><variables><variable id=\"M8O}^6C_fm;DGZt9!{=e\">yardstick</variable><variable id=\".zA6Y6Y}9T^S|whSl]|6\">data_evaluation</variable></variables><block type=\"varDoMethod_R\" id=\"ovJDL$T;GrTBZ,)jMz;a\" x=\"-272\" y=\"142\"><mutation items=\"3\"></mutation><field name=\"VAR\" id=\"M8O}^6C_fm;DGZt9!{=e\">yardstick</field><field name=\"MEMBER\">recall</field><data>yardstick:recall</data><value name=\"ADD0\"><block type=\"variables_get\" id=\"$#GYCvI1LKXt%Rsb09a}\"><field name=\"VAR\" id=\".zA6Y6Y}9T^S|whSl]|6\">data_evaluation</field></block></value><value name=\"ADD1\"><block type=\"dummyOutputCodeBlock_R\" id=\"i#@XFD{vr]B47yD52|(B\"><field name=\"CODE\">truth=admit</field></block></value><value name=\"ADD2\"><block type=\"dummyOutputCodeBlock_R\" id=\"(x50a~#{oijRotT|Z?8G\"><field name=\"CODE\">estimate=.pred_class</field></block></value></block></xml>"
   ]
  },
  {
   "cell_type": "markdown",
   "metadata": {},
   "source": [
    "Get precision."
   ]
  },
  {
   "cell_type": "code",
   "execution_count": 27,
   "metadata": {},
   "outputs": [
    {
     "data": {
      "text/html": [
       "<table class=\"dataframe\">\n",
       "<caption>A tibble: 1 × 3</caption>\n",
       "<thead>\n",
       "\t<tr><th scope=col>.metric</th><th scope=col>.estimator</th><th scope=col>.estimate</th></tr>\n",
       "\t<tr><th scope=col>&lt;chr&gt;</th><th scope=col>&lt;chr&gt;</th><th scope=col>&lt;dbl&gt;</th></tr>\n",
       "</thead>\n",
       "<tbody>\n",
       "\t<tr><td>precision</td><td>binary</td><td>0.4705882</td></tr>\n",
       "</tbody>\n",
       "</table>\n"
      ],
      "text/latex": [
       "A tibble: 1 × 3\n",
       "\\begin{tabular}{lll}\n",
       " .metric & .estimator & .estimate\\\\\n",
       " <chr> & <chr> & <dbl>\\\\\n",
       "\\hline\n",
       "\t precision & binary & 0.4705882\\\\\n",
       "\\end{tabular}\n"
      ],
      "text/markdown": [
       "\n",
       "A tibble: 1 × 3\n",
       "\n",
       "| .metric &lt;chr&gt; | .estimator &lt;chr&gt; | .estimate &lt;dbl&gt; |\n",
       "|---|---|---|\n",
       "| precision | binary | 0.4705882 |\n",
       "\n"
      ],
      "text/plain": [
       "  .metric   .estimator .estimate\n",
       "1 precision binary     0.4705882"
      ]
     },
     "metadata": {},
     "output_type": "display_data"
    }
   ],
   "source": [
    "yardstick::precision(data_evaluation,truth=admit,estimate=.pred_class)\n",
    "\n",
    "#<xml xmlns=\"https://developers.google.com/blockly/xml\"><variables><variable id=\"M8O}^6C_fm;DGZt9!{=e\">yardstick</variable><variable id=\".zA6Y6Y}9T^S|whSl]|6\">data_evaluation</variable></variables><block type=\"varDoMethod_R\" id=\"ovJDL$T;GrTBZ,)jMz;a\" x=\"-272\" y=\"142\"><mutation items=\"3\"></mutation><field name=\"VAR\" id=\"M8O}^6C_fm;DGZt9!{=e\">yardstick</field><field name=\"MEMBER\">precision</field><data>yardstick:precision</data><value name=\"ADD0\"><block type=\"variables_get\" id=\"$#GYCvI1LKXt%Rsb09a}\"><field name=\"VAR\" id=\".zA6Y6Y}9T^S|whSl]|6\">data_evaluation</field></block></value><value name=\"ADD1\"><block type=\"dummyOutputCodeBlock_R\" id=\"i#@XFD{vr]B47yD52|(B\"><field name=\"CODE\">truth=admit</field></block></value><value name=\"ADD2\"><block type=\"dummyOutputCodeBlock_R\" id=\"(x50a~#{oijRotT|Z?8G\"><field name=\"CODE\">estimate=.pred_class</field></block></value></block></xml>"
   ]
  },
  {
   "cell_type": "markdown",
   "metadata": {},
   "source": [
    "**QUESTION:**\n",
    "\n",
    "Is there a particular class that KNN does worse on?\n",
    "Why do you think that might be?"
   ]
  },
  {
   "cell_type": "markdown",
   "metadata": {},
   "source": [
    "**ANSWER: (click here to edit)**\n",
    "\n",
    "*About 69% of the `admit`s are `0`, so the classifier has a harder time with the `1`s because they are less common. This is called imbalanced classes and is problem often seen in the real world.*"
   ]
  },
  {
   "cell_type": "markdown",
   "metadata": {},
   "source": [
    "<!--  -->"
   ]
  }
 ],
 "metadata": {
  "kernelspec": {
   "display_name": "R",
   "language": "R",
   "name": "ir"
  },
  "language_info": {
   "codemirror_mode": "r",
   "file_extension": ".r",
   "mimetype": "text/x-r-source",
   "name": "R",
   "pygments_lexer": "r",
   "version": "4.2.1"
  }
 },
 "nbformat": 4,
 "nbformat_minor": 4
}
